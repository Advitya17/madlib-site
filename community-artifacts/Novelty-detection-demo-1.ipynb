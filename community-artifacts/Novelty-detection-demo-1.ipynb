{
 "cells": [
  {
   "cell_type": "markdown",
   "metadata": {},
   "source": [
    "# Novelty detection using 1-class SVM\n",
    "\n",
    "Classifies new data as similar or different to the training set.  This method is an unsupervised method that builds a decision boundary between the data and origin in kernel space and can be used as a novelty detector."
   ]
  },
  {
   "cell_type": "code",
   "execution_count": 37,
   "metadata": {
    "collapsed": false
   },
   "outputs": [
    {
     "name": "stdout",
     "output_type": "stream",
     "text": [
      "The sql extension is already loaded. To reload it, use:\n",
      "  %reload_ext sql\n"
     ]
    }
   ],
   "source": [
    "# Setup\n",
    "%load_ext sql\n",
    "# %sql postgresql://gpdbchina@10.194.10.68:55000/madlib\n",
    "%sql postgresql://fmcquillan@localhost:5432/madlib\n",
    "%matplotlib inline\n",
    "\n",
    "import pandas as pd\n",
    "import numpy as np\n",
    "import matplotlib.pyplot as plt\n",
    "import matplotlib.font_manager"
   ]
  },
  {
   "cell_type": "code",
   "execution_count": 38,
   "metadata": {
    "collapsed": false
   },
   "outputs": [
    {
     "data": {
      "image/png": "[encoded data removed]",
      "text/plain": [
       "<matplotlib.figure.Figure at 0x10a034250>"
      ]
     },
     "metadata": {},
     "output_type": "display_data"
    }
   ],
   "source": [
    "# Generate train data\n",
    "X = 0.3 * np.random.randn(100, 2)\n",
    "X_train = np.r_[X + 2, X - 2]\n",
    "X_train_D = pd.DataFrame(X_train, columns=['x1', 'x2'])\n",
    "\n",
    "# Generate some abnormal novel observations\n",
    "X_outliers = np.random.uniform(low=-7, high=7, size=(40, 2))\n",
    "X_outliers_D = pd.DataFrame(X_outliers, columns=['x1', 'x2'])\n",
    "\n",
    "b = plt.scatter(X_train[:, 0], X_train[:, 1], c='blue')\n",
    "c = plt.scatter(X_outliers[:, 0], X_outliers[:, 1], c='red')\n",
    "plt.axis('tight')\n",
    "plt.xlim((-5, 5))\n",
    "plt.ylim((-5, 5))\n",
    "plt.show()"
   ]
  },
  {
   "cell_type": "code",
   "execution_count": 39,
   "metadata": {
    "collapsed": false
   },
   "outputs": [
    {
     "name": "stdout",
     "output_type": "stream",
     "text": [
      "Done.\n",
      "Done.\n",
      "200 rows affected.\n",
      "Done.\n",
      "Done.\n",
      "40 rows affected.\n"
     ]
    },
    {
     "data": {
      "text/plain": [
       "[]"
      ]
     },
     "execution_count": 39,
     "metadata": {},
     "output_type": "execute_result"
    }
   ],
   "source": [
    "# Build tables\n",
    "%sql DROP TABLE IF EXISTS X_train_D CASCADE\n",
    "%sql PERSIST X_train_D\n",
    "%sql ALTER TABLE X_train_D add column X float[]\n",
    "%sql update X_train_D set X = array[x1, x2]::float[]\n",
    "\n",
    "%sql DROP TABLE IF EXISTS X_outliers_D CASCADE\n",
    "%sql PERSIST X_outliers_D\n",
    "%sql ALTER TABLE X_outliers_D add column X float[]\n",
    "%sql update X_outliers_D set X = array[x1, x2]::float[]"
   ]
  },
  {
   "cell_type": "code",
   "execution_count": 40,
   "metadata": {
    "collapsed": false
   },
   "outputs": [
    {
     "name": "stdout",
     "output_type": "stream",
     "text": [
      "Done.\n",
      "1 rows affected.\n",
      "1 rows affected.\n"
     ]
    },
    {
     "data": {
      "text/html": [
       "<table>\n",
       "    <tr>\n",
       "        <th>coef</th>\n",
       "        <th>loss</th>\n",
       "        <th>norm_of_gradient</th>\n",
       "        <th>num_iterations</th>\n",
       "        <th>num_rows_processed</th>\n",
       "        <th>num_rows_skipped</th>\n",
       "        <th>dep_var_mapping</th>\n",
       "    </tr>\n",
       "    <tr>\n",
       "        <td>[-0.0652579039751, -0.132031595902, -0.736674560761, 0.110776065553, -0.257405638109, 0.0592959032279, 0.394264859682, -0.696044045897, 0.355378680096, -0.917519476201, 0.499471522957, -0.050984665751, -0.134700659181, -0.0705623616132, -0.0440350483425, -0.730837500515, -0.0321151797135, -0.893641152253, -0.686424263168, -0.568143960852, -0.12323421025, -0.136522678866, -0.626743403999, -0.256609467659, -0.285826104108, -0.117860781456, 0.318213569126, 0.465683621798, 0.569073368875, -0.319718151386, -0.032926380078, 0.330495474386, 0.0426841287321, 0.621705430279, 0.444381604771, 0.347966836495, 0.0573812330683, -0.103244905478, -0.575045339435, -0.101783824252, 0.624406852044, 0.113168204922, 0.506933705459, 0.560256594355, 0.142564738705, 0.338469597153, -0.0531770790698, 0.107924238733, 0.665718502542, 0.712455036796, -0.265273701697, -0.133616355952, 0.413526223018, -0.277088845804, -0.49433371065, -1.00004534127]</td>\n",
       "        <td>73.1866371844</td>\n",
       "        <td>113.184300907</td>\n",
       "        <td>100</td>\n",
       "        <td>201</td>\n",
       "        <td>-1</td>\n",
       "        <td>[-1.0, 1.0]</td>\n",
       "    </tr>\n",
       "</table>"
      ],
      "text/plain": [
       "[([-0.0652579039751, -0.132031595902, -0.736674560761, 0.110776065553, -0.257405638109, 0.0592959032279, 0.394264859682, -0.696044045897, 0.355378680096, -0.917519476201, 0.499471522957, -0.050984665751, -0.134700659181, -0.0705623616132, -0.0440350483425, -0.730837500515, -0.0321151797135, -0.893641152253, -0.686424263168, -0.568143960852, -0.12323421025, -0.136522678866, -0.626743403999, -0.256609467659, -0.285826104108, -0.117860781456, 0.318213569126, 0.465683621798, 0.569073368875, -0.319718151386, -0.032926380078, 0.330495474386, 0.0426841287321, 0.621705430279, 0.444381604771, 0.347966836495, 0.0573812330683, -0.103244905478, -0.575045339435, -0.101783824252, 0.624406852044, 0.113168204922, 0.506933705459, 0.560256594355, 0.142564738705, 0.338469597153, -0.0531770790698, 0.107924238733, 0.665718502542, 0.712455036796, -0.265273701697, -0.133616355952, 0.413526223018, -0.277088845804, -0.49433371065, -1.00004534127], 73.1866371844, 113.184300907067, 100, 201L, -1L, [-1.0, 1.0])]"
      ]
     },
     "execution_count": 40,
     "metadata": {},
     "output_type": "execute_result"
    }
   ],
   "source": [
    "%%sql \n",
    "-- Train the model\n",
    "DROP TABLE IF EXISTS svm_out1, svm_out1_summary, svm_out1_random CASCADE;\n",
    "SELECT madlib.svm_one_class(\n",
    "    'X_train_D',    -- source table\n",
    "    'svm_out1',     -- output table\n",
    "    'X',            -- features\n",
    "    'gaussian',     -- kernel\n",
    "    'gamma=1, n_components=55, random_state=3', \n",
    "    NULL,           -- grouping \n",
    "    'init_stepsize=0.1, lambda=10, max_iter=100, tolerance=0'  \n",
    "    );\n",
    "SELECT * FROM svm_out1; "
   ]
  },
  {
   "cell_type": "code",
   "execution_count": 41,
   "metadata": {
    "collapsed": false
   },
   "outputs": [
    {
     "name": "stdout",
     "output_type": "stream",
     "text": [
      "Done.\n",
      "1 rows affected.\n",
      "200 rows affected.\n",
      "Done.\n",
      "1 rows affected.\n",
      "40 rows affected.\n",
      "20 rows affected.\n"
     ]
    },
    {
     "data": {
      "text/html": [
       "<table>\n",
       "    <tr>\n",
       "        <th>index</th>\n",
       "        <th>prediction</th>\n",
       "        <th>decision_function</th>\n",
       "    </tr>\n",
       "    <tr>\n",
       "        <td>0</td>\n",
       "        <td>-1.0</td>\n",
       "        <td>-0.185553475523</td>\n",
       "    </tr>\n",
       "    <tr>\n",
       "        <td>1</td>\n",
       "        <td>-1.0</td>\n",
       "        <td>-0.998404919902</td>\n",
       "    </tr>\n",
       "    <tr>\n",
       "        <td>2</td>\n",
       "        <td>-1.0</td>\n",
       "        <td>-0.338487093573</td>\n",
       "    </tr>\n",
       "    <tr>\n",
       "        <td>3</td>\n",
       "        <td>-1.0</td>\n",
       "        <td>-0.307355005857</td>\n",
       "    </tr>\n",
       "    <tr>\n",
       "        <td>4</td>\n",
       "        <td>-1.0</td>\n",
       "        <td>-1.07966449719</td>\n",
       "    </tr>\n",
       "    <tr>\n",
       "        <td>5</td>\n",
       "        <td>-1.0</td>\n",
       "        <td>-1.97175772304</td>\n",
       "    </tr>\n",
       "    <tr>\n",
       "        <td>6</td>\n",
       "        <td>-1.0</td>\n",
       "        <td>-2.20381705572</td>\n",
       "    </tr>\n",
       "    <tr>\n",
       "        <td>7</td>\n",
       "        <td>-1.0</td>\n",
       "        <td>-2.06660552658</td>\n",
       "    </tr>\n",
       "    <tr>\n",
       "        <td>8</td>\n",
       "        <td>-1.0</td>\n",
       "        <td>-1.44928341418</td>\n",
       "    </tr>\n",
       "    <tr>\n",
       "        <td>9</td>\n",
       "        <td>-1.0</td>\n",
       "        <td>-0.418765699618</td>\n",
       "    </tr>\n",
       "    <tr>\n",
       "        <td>10</td>\n",
       "        <td>-1.0</td>\n",
       "        <td>-0.624364032639</td>\n",
       "    </tr>\n",
       "    <tr>\n",
       "        <td>11</td>\n",
       "        <td>-1.0</td>\n",
       "        <td>-0.368526211192</td>\n",
       "    </tr>\n",
       "    <tr>\n",
       "        <td>12</td>\n",
       "        <td>-1.0</td>\n",
       "        <td>-0.304497177977</td>\n",
       "    </tr>\n",
       "    <tr>\n",
       "        <td>13</td>\n",
       "        <td>-1.0</td>\n",
       "        <td>-0.0421685610513</td>\n",
       "    </tr>\n",
       "    <tr>\n",
       "        <td>14</td>\n",
       "        <td>-1.0</td>\n",
       "        <td>-1.01890271929</td>\n",
       "    </tr>\n",
       "    <tr>\n",
       "        <td>15</td>\n",
       "        <td>-1.0</td>\n",
       "        <td>-0.669735104545</td>\n",
       "    </tr>\n",
       "    <tr>\n",
       "        <td>16</td>\n",
       "        <td>-1.0</td>\n",
       "        <td>-0.947241377137</td>\n",
       "    </tr>\n",
       "    <tr>\n",
       "        <td>17</td>\n",
       "        <td>-1.0</td>\n",
       "        <td>-0.576672641354</td>\n",
       "    </tr>\n",
       "    <tr>\n",
       "        <td>18</td>\n",
       "        <td>-1.0</td>\n",
       "        <td>-0.550855208608</td>\n",
       "    </tr>\n",
       "    <tr>\n",
       "        <td>19</td>\n",
       "        <td>-1.0</td>\n",
       "        <td>-0.315200233978</td>\n",
       "    </tr>\n",
       "</table>"
      ],
      "text/plain": [
       "[(0L, -1.0, -0.185553475522983),\n",
       " (1L, -1.0, -0.998404919902401),\n",
       " (2L, -1.0, -0.338487093572938),\n",
       " (3L, -1.0, -0.307355005857271),\n",
       " (4L, -1.0, -1.07966449719332),\n",
       " (5L, -1.0, -1.97175772303719),\n",
       " (6L, -1.0, -2.20381705571656),\n",
       " (7L, -1.0, -2.06660552658075),\n",
       " (8L, -1.0, -1.44928341418456),\n",
       " (9L, -1.0, -0.418765699617653),\n",
       " (10L, -1.0, -0.624364032638881),\n",
       " (11L, -1.0, -0.368526211192035),\n",
       " (12L, -1.0, -0.304497177977408),\n",
       " (13L, -1.0, -0.0421685610512577),\n",
       " (14L, -1.0, -1.01890271928657),\n",
       " (15L, -1.0, -0.669735104544719),\n",
       " (16L, -1.0, -0.94724137713711),\n",
       " (17L, -1.0, -0.576672641354374),\n",
       " (18L, -1.0, -0.550855208607514),\n",
       " (19L, -1.0, -0.315200233978155)]"
      ]
     },
     "execution_count": 41,
     "metadata": {},
     "output_type": "execute_result"
    }
   ],
   "source": [
    "# Prediction\n",
    "# First for the training data\n",
    "%sql drop table if exists y_pred_train;\n",
    "%sql SELECT madlib.svm_predict('svm_out1', 'X_train_D', 'index', 'y_pred_train');\n",
    "y_pred_train = %sql SELECT * from y_pred_train; \n",
    "\n",
    "# Next for the outliers\n",
    "%sql drop table if exists y_pred_outliers;\n",
    "%sql SELECT madlib.svm_predict('svm_out1', 'X_outliers_D', 'index', 'y_pred_outliers');\n",
    "y_pred_outliers = %sql SELECT * from y_pred_outliers; \n",
    "\n",
    "%sql SELECT * FROM y_pred_outliers limit 20; -- Show the outliers\n",
    "#%sql SELECT * FROM y_pred_train limit 20; -- Show the training data"
   ]
  },
  {
   "cell_type": "code",
   "execution_count": 42,
   "metadata": {
    "collapsed": false
   },
   "outputs": [
    {
     "name": "stdout",
     "output_type": "stream",
     "text": [
      "Done.\n",
      "Done.\n",
      "10000 rows affected.\n"
     ]
    },
    {
     "data": {
      "text/plain": [
       "[]"
      ]
     },
     "execution_count": 42,
     "metadata": {},
     "output_type": "execute_result"
    }
   ],
   "source": [
    "# Predict over the decision grid for plotting\n",
    "# xx, yy = np.meshgrid(np.linspace(-7, 7, 500), np.linspace(-7, 7, 500))\n",
    "xx, yy = np.meshgrid(np.linspace(-7, 7, 100), np.linspace(-7, 7, 100))\n",
    "grid_points = pd.DataFrame(np.c_[xx.ravel(), yy.ravel()], columns=['x1', 'x2'])\n",
    "\n",
    "%sql DROP TABLE IF EXISTS grid_points CASCADE\n",
    "%sql PERSIST grid_points\n",
    "%sql ALTER TABLE grid_points add column X float[]\n",
    "%sql update grid_points set X = array[x1, x2]::float[]"
   ]
  },
  {
   "cell_type": "code",
   "execution_count": 45,
   "metadata": {
    "collapsed": false
   },
   "outputs": [
    {
     "name": "stdout",
     "output_type": "stream",
     "text": [
      "Done.\n",
      "1 rows affected.\n",
      "10000 rows affected.\n"
     ]
    },
    {
     "data": {
      "image/png": "[encoded data removed]",
      "text/plain": [
       "<matplotlib.figure.Figure at 0x10a969f50>"
      ]
     },
     "metadata": {},
     "output_type": "display_data"
    }
   ],
   "source": [
    "# Plot the decision grid\n",
    "%sql drop table if exists Z_D;\n",
    "%sql SELECT madlib.svm_predict('svm_out1', 'grid_points', 'index', 'Z_D');\n",
    "Z_D = %sql SELECT decision_function from Z_D order by index\n",
    "Z = np.array(Z_D)\n",
    "Z = Z.reshape(xx.shape)\n",
    "\n",
    "# Orange is not novel, green is novel\n",
    "plt.title(\"Novelty Detection\")\n",
    "plt.contourf(xx, yy, Z, levels=[0, Z.max()], colors='orange')\n",
    "plt.contourf(xx, yy, Z, levels=[Z.min(), 0], colors='green')\n",
    "#plt.contourf(xx, yy, Z, levels=np.linspace(Z.min(), Z.max(), 7), cmap=plt.cm.Blues_r)\n",
    "#b1 = plt.scatter(X_train[:, 0], X_train[:, 1], c='blue')\n",
    "c = plt.scatter(X_outliers[:, 0], X_outliers[:, 1], c='red')\n",
    "plt.axis('tight')\n",
    "plt.xlim((-5, 5))\n",
    "plt.ylim((-5, 5))\n",
    "plt.show()"
   ]
  },
  {
   "cell_type": "code",
   "execution_count": null,
   "metadata": {
    "collapsed": true
   },
   "outputs": [],
   "source": []
  }
 ],
 "metadata": {
  "kernelspec": {
   "display_name": "Python 2",
   "language": "python",
   "name": "python2"
  },
  "language_info": {
   "codemirror_mode": {
    "name": "ipython",
    "version": 2
   },
   "file_extension": ".py",
   "mimetype": "text/x-python",
   "name": "python",
   "nbconvert_exporter": "python",
   "pygments_lexer": "ipython2",
   "version": "2.7.12"
  }
 },
 "nbformat": 4,
 "nbformat_minor": 0
}
