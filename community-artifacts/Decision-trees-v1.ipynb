{
 "cells": [
  {
   "cell_type": "markdown",
   "metadata": {},
   "source": [
    "# Decision trees\n",
    "\n",
    "A decision tree is a supervised learning method that can be used for classification and regression. It consists of a structure in which internal nodes represent tests on attributes, and the branches from nodes represent the result of those tests. Each leaf node is a class label and the paths from root to leaf nodes define the set of classification or regression rules."
   ]
  },
  {
   "cell_type": "code",
   "execution_count": 34,
   "metadata": {},
   "outputs": [
    {
     "name": "stdout",
     "output_type": "stream",
     "text": [
      "The sql extension is already loaded. To reload it, use:\n",
      "  %reload_ext sql\n"
     ]
    }
   ],
   "source": [
    "%load_ext sql"
   ]
  },
  {
   "cell_type": "code",
   "execution_count": 35,
   "metadata": {},
   "outputs": [
    {
     "data": {
      "text/plain": [
       "u'Connected: fmcquillan@madlib'"
      ]
     },
     "execution_count": 35,
     "metadata": {},
     "output_type": "execute_result"
    }
   ],
   "source": [
    "# Greenplum Database 5.4.0 on GCP (demo machine)\n",
    "#%sql postgresql://gpadmin@35.184.253.255:5432/madlib\n",
    "        \n",
    "# PostgreSQL local\n",
    "%sql postgresql://fmcquillan@localhost:5432/madlib\n",
    "\n",
    "# Greenplum Database 4.3.10.0\n",
    "#%sql postgresql://gpdbchina@10.194.10.68:61000/madlib"
   ]
  },
  {
   "cell_type": "code",
   "execution_count": null,
   "metadata": {},
   "outputs": [],
   "source": [
    "%sql select madlib.version();\n",
    "#%sql select version();"
   ]
  },
  {
   "cell_type": "markdown",
   "metadata": {},
   "source": [
    "# Decision tree classification examples"
   ]
  },
  {
   "cell_type": "markdown",
   "metadata": {},
   "source": [
    "# 1. Load data\n",
    "Data set related to whether to play golf or not."
   ]
  },
  {
   "cell_type": "code",
   "execution_count": 36,
   "metadata": {},
   "outputs": [
    {
     "name": "stdout",
     "output_type": "stream",
     "text": [
      "Done.\n",
      "Done.\n",
      "14 rows affected.\n",
      "14 rows affected.\n"
     ]
    },
    {
     "data": {
      "text/html": [
       "<table>\n",
       "    <tr>\n",
       "        <th>id</th>\n",
       "        <th>OUTLOOK</th>\n",
       "        <th>temperature</th>\n",
       "        <th>humidity</th>\n",
       "        <th>Temp_Humidity</th>\n",
       "        <th>clouds_airquality</th>\n",
       "        <th>windy</th>\n",
       "        <th>class</th>\n",
       "        <th>observation_weight</th>\n",
       "    </tr>\n",
       "    <tr>\n",
       "        <td>1</td>\n",
       "        <td>sunny</td>\n",
       "        <td>85.0</td>\n",
       "        <td>85.0</td>\n",
       "        <td>[85.0, 85.0]</td>\n",
       "        <td>[u'none', u'unhealthy']</td>\n",
       "        <td>False</td>\n",
       "        <td>Don't Play</td>\n",
       "        <td>5.0</td>\n",
       "    </tr>\n",
       "    <tr>\n",
       "        <td>2</td>\n",
       "        <td>sunny</td>\n",
       "        <td>80.0</td>\n",
       "        <td>90.0</td>\n",
       "        <td>[80.0, 90.0]</td>\n",
       "        <td>[u'none', u'moderate']</td>\n",
       "        <td>True</td>\n",
       "        <td>Don't Play</td>\n",
       "        <td>5.0</td>\n",
       "    </tr>\n",
       "    <tr>\n",
       "        <td>3</td>\n",
       "        <td>overcast</td>\n",
       "        <td>83.0</td>\n",
       "        <td>78.0</td>\n",
       "        <td>[83.0, 78.0]</td>\n",
       "        <td>[u'low', u'moderate']</td>\n",
       "        <td>False</td>\n",
       "        <td>Play</td>\n",
       "        <td>1.5</td>\n",
       "    </tr>\n",
       "    <tr>\n",
       "        <td>4</td>\n",
       "        <td>rain</td>\n",
       "        <td>70.0</td>\n",
       "        <td>96.0</td>\n",
       "        <td>[70.0, 96.0]</td>\n",
       "        <td>[u'low', u'moderate']</td>\n",
       "        <td>False</td>\n",
       "        <td>Play</td>\n",
       "        <td>1.0</td>\n",
       "    </tr>\n",
       "    <tr>\n",
       "        <td>5</td>\n",
       "        <td>rain</td>\n",
       "        <td>68.0</td>\n",
       "        <td>80.0</td>\n",
       "        <td>[68.0, 80.0]</td>\n",
       "        <td>[u'medium', u'good']</td>\n",
       "        <td>False</td>\n",
       "        <td>Play</td>\n",
       "        <td>1.0</td>\n",
       "    </tr>\n",
       "    <tr>\n",
       "        <td>6</td>\n",
       "        <td>rain</td>\n",
       "        <td>65.0</td>\n",
       "        <td>70.0</td>\n",
       "        <td>[65.0, 70.0]</td>\n",
       "        <td>[u'low', u'unhealthy']</td>\n",
       "        <td>True</td>\n",
       "        <td>Don't Play</td>\n",
       "        <td>1.0</td>\n",
       "    </tr>\n",
       "    <tr>\n",
       "        <td>7</td>\n",
       "        <td>overcast</td>\n",
       "        <td>64.0</td>\n",
       "        <td>65.0</td>\n",
       "        <td>[64.0, 65.0]</td>\n",
       "        <td>[u'medium', u'moderate']</td>\n",
       "        <td>True</td>\n",
       "        <td>Play</td>\n",
       "        <td>1.5</td>\n",
       "    </tr>\n",
       "    <tr>\n",
       "        <td>8</td>\n",
       "        <td>sunny</td>\n",
       "        <td>72.0</td>\n",
       "        <td>95.0</td>\n",
       "        <td>[72.0, 95.0]</td>\n",
       "        <td>[u'high', u'unhealthy']</td>\n",
       "        <td>False</td>\n",
       "        <td>Don't Play</td>\n",
       "        <td>5.0</td>\n",
       "    </tr>\n",
       "    <tr>\n",
       "        <td>9</td>\n",
       "        <td>sunny</td>\n",
       "        <td>69.0</td>\n",
       "        <td>70.0</td>\n",
       "        <td>[69.0, 70.0]</td>\n",
       "        <td>[u'high', u'good']</td>\n",
       "        <td>False</td>\n",
       "        <td>Play</td>\n",
       "        <td>5.0</td>\n",
       "    </tr>\n",
       "    <tr>\n",
       "        <td>10</td>\n",
       "        <td>rain</td>\n",
       "        <td>75.0</td>\n",
       "        <td>80.0</td>\n",
       "        <td>[75.0, 80.0]</td>\n",
       "        <td>[u'medium', u'good']</td>\n",
       "        <td>False</td>\n",
       "        <td>Play</td>\n",
       "        <td>1.0</td>\n",
       "    </tr>\n",
       "    <tr>\n",
       "        <td>11</td>\n",
       "        <td>sunny</td>\n",
       "        <td>75.0</td>\n",
       "        <td>70.0</td>\n",
       "        <td>[75.0, 70.0]</td>\n",
       "        <td>[u'none', u'good']</td>\n",
       "        <td>True</td>\n",
       "        <td>Play</td>\n",
       "        <td>5.0</td>\n",
       "    </tr>\n",
       "    <tr>\n",
       "        <td>12</td>\n",
       "        <td>overcast</td>\n",
       "        <td>72.0</td>\n",
       "        <td>90.0</td>\n",
       "        <td>[72.0, 90.0]</td>\n",
       "        <td>[u'medium', u'moderate']</td>\n",
       "        <td>True</td>\n",
       "        <td>Play</td>\n",
       "        <td>1.5</td>\n",
       "    </tr>\n",
       "    <tr>\n",
       "        <td>13</td>\n",
       "        <td>overcast</td>\n",
       "        <td>81.0</td>\n",
       "        <td>75.0</td>\n",
       "        <td>[81.0, 75.0]</td>\n",
       "        <td>[u'medium', u'moderate']</td>\n",
       "        <td>False</td>\n",
       "        <td>Play</td>\n",
       "        <td>1.5</td>\n",
       "    </tr>\n",
       "    <tr>\n",
       "        <td>14</td>\n",
       "        <td>rain</td>\n",
       "        <td>71.0</td>\n",
       "        <td>80.0</td>\n",
       "        <td>[71.0, 80.0]</td>\n",
       "        <td>[u'low', u'unhealthy']</td>\n",
       "        <td>True</td>\n",
       "        <td>Don't Play</td>\n",
       "        <td>1.0</td>\n",
       "    </tr>\n",
       "</table>"
      ],
      "text/plain": [
       "[(1, u'sunny', 85.0, 85.0, [85.0, 85.0], [u'none', u'unhealthy'], False, u\"Don't Play\", 5.0),\n",
       " (2, u'sunny', 80.0, 90.0, [80.0, 90.0], [u'none', u'moderate'], True, u\"Don't Play\", 5.0),\n",
       " (3, u'overcast', 83.0, 78.0, [83.0, 78.0], [u'low', u'moderate'], False, u'Play', 1.5),\n",
       " (4, u'rain', 70.0, 96.0, [70.0, 96.0], [u'low', u'moderate'], False, u'Play', 1.0),\n",
       " (5, u'rain', 68.0, 80.0, [68.0, 80.0], [u'medium', u'good'], False, u'Play', 1.0),\n",
       " (6, u'rain', 65.0, 70.0, [65.0, 70.0], [u'low', u'unhealthy'], True, u\"Don't Play\", 1.0),\n",
       " (7, u'overcast', 64.0, 65.0, [64.0, 65.0], [u'medium', u'moderate'], True, u'Play', 1.5),\n",
       " (8, u'sunny', 72.0, 95.0, [72.0, 95.0], [u'high', u'unhealthy'], False, u\"Don't Play\", 5.0),\n",
       " (9, u'sunny', 69.0, 70.0, [69.0, 70.0], [u'high', u'good'], False, u'Play', 5.0),\n",
       " (10, u'rain', 75.0, 80.0, [75.0, 80.0], [u'medium', u'good'], False, u'Play', 1.0),\n",
       " (11, u'sunny', 75.0, 70.0, [75.0, 70.0], [u'none', u'good'], True, u'Play', 5.0),\n",
       " (12, u'overcast', 72.0, 90.0, [72.0, 90.0], [u'medium', u'moderate'], True, u'Play', 1.5),\n",
       " (13, u'overcast', 81.0, 75.0, [81.0, 75.0], [u'medium', u'moderate'], False, u'Play', 1.5),\n",
       " (14, u'rain', 71.0, 80.0, [71.0, 80.0], [u'low', u'unhealthy'], True, u\"Don't Play\", 1.0)]"
      ]
     },
     "execution_count": 36,
     "metadata": {},
     "output_type": "execute_result"
    }
   ],
   "source": [
    "%%sql\n",
    "DROP TABLE IF EXISTS dt_golf CASCADE;\n",
    "\n",
    "CREATE TABLE dt_golf (\n",
    "    id integer NOT NULL,\n",
    "    \"OUTLOOK\" text,\n",
    "    temperature double precision,\n",
    "    humidity double precision,\n",
    "    \"Temp_Humidity\" double precision[],\n",
    "    clouds_airquality text[],\n",
    "    windy boolean,\n",
    "    class text,\n",
    "    observation_weight double precision\n",
    ");\n",
    "\n",
    "INSERT INTO dt_golf VALUES\n",
    "(1,'sunny', 85, 85, ARRAY[85, 85],ARRAY['none', 'unhealthy'], 'false','Don''t Play', 5.0),\n",
    "(2, 'sunny', 80, 90, ARRAY[80, 90], ARRAY['none', 'moderate'], 'true', 'Don''t Play', 5.0),\n",
    "(3, 'overcast', 83, 78, ARRAY[83, 78], ARRAY['low', 'moderate'], 'false', 'Play', 1.5),\n",
    "(4, 'rain', 70, 96, ARRAY[70, 96], ARRAY['low', 'moderate'], 'false', 'Play', 1.0),\n",
    "(5, 'rain', 68, 80, ARRAY[68, 80], ARRAY['medium', 'good'], 'false', 'Play', 1.0),\n",
    "(6, 'rain', 65, 70, ARRAY[65, 70], ARRAY['low', 'unhealthy'], 'true', 'Don''t Play', 1.0),\n",
    "(7, 'overcast', 64, 65, ARRAY[64, 65], ARRAY['medium', 'moderate'], 'true', 'Play', 1.5),\n",
    "(8, 'sunny', 72, 95, ARRAY[72, 95], ARRAY['high', 'unhealthy'], 'false', 'Don''t Play', 5.0),\n",
    "(9, 'sunny', 69, 70, ARRAY[69, 70], ARRAY['high', 'good'], 'false', 'Play', 5.0),\n",
    "(10, 'rain', 75, 80, ARRAY[75, 80], ARRAY['medium', 'good'], 'false', 'Play', 1.0),\n",
    "(11, 'sunny', 75, 70, ARRAY[75, 70], ARRAY['none', 'good'], 'true', 'Play', 5.0),\n",
    "(12, 'overcast', 72, 90, ARRAY[72, 90], ARRAY['medium', 'moderate'], 'true', 'Play', 1.5),\n",
    "(13, 'overcast', 81, 75, ARRAY[81, 75], ARRAY['medium', 'moderate'], 'false', 'Play', 1.5),\n",
    "(14, 'rain', 71, 80, ARRAY[71, 80], ARRAY['low', 'unhealthy'], 'true', 'Don''t Play', 1.0);\n",
    "\n",
    "SELECT * FROM dt_golf ORDER BY id;"
   ]
  },
  {
   "cell_type": "markdown",
   "metadata": {},
   "source": [
    "# 2.  Train decision tree\n",
    "Train tree then view the output table (excluding the tree which is in binary format):"
   ]
  },
  {
   "cell_type": "code",
   "execution_count": 37,
   "metadata": {},
   "outputs": [
    {
     "name": "stdout",
     "output_type": "stream",
     "text": [
      "Done.\n",
      "1 rows affected.\n",
      "1 rows affected.\n"
     ]
    },
    {
     "data": {
      "text/html": [
       "<table>\n",
       "    <tr>\n",
       "        <th>pruning_cp</th>\n",
       "        <th>cat_levels_in_text</th>\n",
       "        <th>cat_n_levels</th>\n",
       "        <th>tree_depth</th>\n",
       "    </tr>\n",
       "    <tr>\n",
       "        <td>0</td>\n",
       "        <td>[u'overcast', u'sunny', u'rain', u'False', u'True']</td>\n",
       "        <td>[3, 2]</td>\n",
       "        <td>5</td>\n",
       "    </tr>\n",
       "</table>"
      ],
      "text/plain": [
       "[(0, [u'overcast', u'sunny', u'rain', u'False', u'True'], [3, 2], 5)]"
      ]
     },
     "execution_count": 37,
     "metadata": {},
     "output_type": "execute_result"
    }
   ],
   "source": [
    "%%sql\n",
    "DROP TABLE IF EXISTS train_output, train_output_summary;\n",
    "\n",
    "SELECT madlib.tree_train('dt_golf',         -- source table\n",
    "                         'train_output',    -- output model table\n",
    "                         'id',              -- id column\n",
    "                         'class',           -- response\n",
    "                         '\"OUTLOOK\", temperature, windy',   -- features\n",
    "                         NULL::text,        -- exclude columns\n",
    "                         'gini',            -- split criterion\n",
    "                         NULL::text,        -- no grouping\n",
    "                         NULL::text,        -- no weights, all observations treated equally\n",
    "                         5,                 -- max depth\n",
    "                         3,                 -- min split\n",
    "                         1,                 -- min bucket\n",
    "                         10                 -- number of bins per continuous variable\n",
    "                         );\n",
    "\n",
    "SELECT pruning_cp, cat_levels_in_text, cat_n_levels, tree_depth FROM train_output;"
   ]
  },
  {
   "cell_type": "markdown",
   "metadata": {},
   "source": [
    "Review the summary table:"
   ]
  },
  {
   "cell_type": "code",
   "execution_count": 38,
   "metadata": {},
   "outputs": [
    {
     "name": "stdout",
     "output_type": "stream",
     "text": [
      "1 rows affected.\n"
     ]
    },
    {
     "data": {
      "text/html": [
       "<table>\n",
       "    <tr>\n",
       "        <th>method</th>\n",
       "        <th>is_classification</th>\n",
       "        <th>source_table</th>\n",
       "        <th>model_table</th>\n",
       "        <th>id_col_name</th>\n",
       "        <th>dependent_varname</th>\n",
       "        <th>independent_varnames</th>\n",
       "        <th>cat_features</th>\n",
       "        <th>con_features</th>\n",
       "        <th>grouping_cols</th>\n",
       "        <th>num_all_groups</th>\n",
       "        <th>num_failed_groups</th>\n",
       "        <th>total_rows_processed</th>\n",
       "        <th>total_rows_skipped</th>\n",
       "        <th>dependent_var_levels</th>\n",
       "        <th>dependent_var_type</th>\n",
       "        <th>input_cp</th>\n",
       "        <th>independent_var_types</th>\n",
       "        <th>k</th>\n",
       "        <th>null_proxy</th>\n",
       "    </tr>\n",
       "    <tr>\n",
       "        <td>tree_train</td>\n",
       "        <td>True</td>\n",
       "        <td>dt_golf</td>\n",
       "        <td>train_output</td>\n",
       "        <td>id</td>\n",
       "        <td>class</td>\n",
       "        <td>\"OUTLOOK\", temperature, windy</td>\n",
       "        <td>\"OUTLOOK\",windy</td>\n",
       "        <td>temperature</td>\n",
       "        <td>None</td>\n",
       "        <td>1</td>\n",
       "        <td>0</td>\n",
       "        <td>14</td>\n",
       "        <td>0</td>\n",
       "        <td>\"Don't Play\",\"Play\"</td>\n",
       "        <td>text</td>\n",
       "        <td>0.0</td>\n",
       "        <td>text, boolean, double precision</td>\n",
       "        <td>None</td>\n",
       "        <td>NULL</td>\n",
       "    </tr>\n",
       "</table>"
      ],
      "text/plain": [
       "[(u'tree_train', True, u'dt_golf', u'train_output', u'id', u'class', u'\"OUTLOOK\", temperature, windy', u'\"OUTLOOK\",windy', u'temperature', None, 1, 0, 14, 0, u'\"Don\\'t Play\",\"Play\"', u'text', 0.0, u'text, boolean, double precision', None, u'NULL')]"
      ]
     },
     "execution_count": 38,
     "metadata": {},
     "output_type": "execute_result"
    }
   ],
   "source": [
    "%%sql\n",
    "SELECT * FROM train_output_summary;"
   ]
  },
  {
   "cell_type": "markdown",
   "metadata": {
    "scrolled": true
   },
   "source": [
    "# 3. Predict\n",
    "Predict output categories.  For the purpose of this example, we use the same data that was used for training:"
   ]
  },
  {
   "cell_type": "code",
   "execution_count": 39,
   "metadata": {},
   "outputs": [
    {
     "name": "stdout",
     "output_type": "stream",
     "text": [
      "Done.\n",
      "1 rows affected.\n",
      "14 rows affected.\n"
     ]
    },
    {
     "data": {
      "text/html": [
       "<table>\n",
       "    <tr>\n",
       "        <th>id</th>\n",
       "        <th>class</th>\n",
       "        <th>estimated_class</th>\n",
       "    </tr>\n",
       "    <tr>\n",
       "        <td>1</td>\n",
       "        <td>Don't Play</td>\n",
       "        <td>Don't Play</td>\n",
       "    </tr>\n",
       "    <tr>\n",
       "        <td>2</td>\n",
       "        <td>Don't Play</td>\n",
       "        <td>Don't Play</td>\n",
       "    </tr>\n",
       "    <tr>\n",
       "        <td>3</td>\n",
       "        <td>Play</td>\n",
       "        <td>Play</td>\n",
       "    </tr>\n",
       "    <tr>\n",
       "        <td>4</td>\n",
       "        <td>Play</td>\n",
       "        <td>Play</td>\n",
       "    </tr>\n",
       "    <tr>\n",
       "        <td>5</td>\n",
       "        <td>Play</td>\n",
       "        <td>Play</td>\n",
       "    </tr>\n",
       "    <tr>\n",
       "        <td>6</td>\n",
       "        <td>Don't Play</td>\n",
       "        <td>Don't Play</td>\n",
       "    </tr>\n",
       "    <tr>\n",
       "        <td>7</td>\n",
       "        <td>Play</td>\n",
       "        <td>Play</td>\n",
       "    </tr>\n",
       "    <tr>\n",
       "        <td>8</td>\n",
       "        <td>Don't Play</td>\n",
       "        <td>Don't Play</td>\n",
       "    </tr>\n",
       "    <tr>\n",
       "        <td>9</td>\n",
       "        <td>Play</td>\n",
       "        <td>Play</td>\n",
       "    </tr>\n",
       "    <tr>\n",
       "        <td>10</td>\n",
       "        <td>Play</td>\n",
       "        <td>Play</td>\n",
       "    </tr>\n",
       "    <tr>\n",
       "        <td>11</td>\n",
       "        <td>Play</td>\n",
       "        <td>Play</td>\n",
       "    </tr>\n",
       "    <tr>\n",
       "        <td>12</td>\n",
       "        <td>Play</td>\n",
       "        <td>Play</td>\n",
       "    </tr>\n",
       "    <tr>\n",
       "        <td>13</td>\n",
       "        <td>Play</td>\n",
       "        <td>Play</td>\n",
       "    </tr>\n",
       "    <tr>\n",
       "        <td>14</td>\n",
       "        <td>Don't Play</td>\n",
       "        <td>Don't Play</td>\n",
       "    </tr>\n",
       "</table>"
      ],
      "text/plain": [
       "[(1, u\"Don't Play\", u\"Don't Play\"),\n",
       " (2, u\"Don't Play\", u\"Don't Play\"),\n",
       " (3, u'Play', u'Play'),\n",
       " (4, u'Play', u'Play'),\n",
       " (5, u'Play', u'Play'),\n",
       " (6, u\"Don't Play\", u\"Don't Play\"),\n",
       " (7, u'Play', u'Play'),\n",
       " (8, u\"Don't Play\", u\"Don't Play\"),\n",
       " (9, u'Play', u'Play'),\n",
       " (10, u'Play', u'Play'),\n",
       " (11, u'Play', u'Play'),\n",
       " (12, u'Play', u'Play'),\n",
       " (13, u'Play', u'Play'),\n",
       " (14, u\"Don't Play\", u\"Don't Play\")]"
      ]
     },
     "execution_count": 39,
     "metadata": {},
     "output_type": "execute_result"
    }
   ],
   "source": [
    "%%sql\n",
    "DROP TABLE IF EXISTS prediction_results;\n",
    "\n",
    "SELECT madlib.tree_predict('train_output',          -- tree model\n",
    "                           'dt_golf',               -- new data table\n",
    "                           'prediction_results',    -- output table\n",
    "                           'response');             -- show response\n",
    "\n",
    "SELECT g.id, class, estimated_class FROM prediction_results p, \n",
    "dt_golf g WHERE p.id = g.id ORDER BY g.id;"
   ]
  },
  {
   "cell_type": "markdown",
   "metadata": {},
   "source": [
    "To display the probabilities associated with each value of the dependent variable, set the 'type' parameter to 'prob':"
   ]
  },
  {
   "cell_type": "code",
   "execution_count": 40,
   "metadata": {},
   "outputs": [
    {
     "name": "stdout",
     "output_type": "stream",
     "text": [
      "Done.\n",
      "1 rows affected.\n",
      "14 rows affected.\n"
     ]
    },
    {
     "data": {
      "text/html": [
       "<table>\n",
       "    <tr>\n",
       "        <th>id</th>\n",
       "        <th>class</th>\n",
       "        <th>estimated_prob_Don't Play</th>\n",
       "        <th>estimated_prob_Play</th>\n",
       "    </tr>\n",
       "    <tr>\n",
       "        <td>1</td>\n",
       "        <td>Don't Play</td>\n",
       "        <td>1.0</td>\n",
       "        <td>0.0</td>\n",
       "    </tr>\n",
       "    <tr>\n",
       "        <td>2</td>\n",
       "        <td>Don't Play</td>\n",
       "        <td>1.0</td>\n",
       "        <td>0.0</td>\n",
       "    </tr>\n",
       "    <tr>\n",
       "        <td>3</td>\n",
       "        <td>Play</td>\n",
       "        <td>0.0</td>\n",
       "        <td>1.0</td>\n",
       "    </tr>\n",
       "    <tr>\n",
       "        <td>4</td>\n",
       "        <td>Play</td>\n",
       "        <td>0.0</td>\n",
       "        <td>1.0</td>\n",
       "    </tr>\n",
       "    <tr>\n",
       "        <td>5</td>\n",
       "        <td>Play</td>\n",
       "        <td>0.0</td>\n",
       "        <td>1.0</td>\n",
       "    </tr>\n",
       "    <tr>\n",
       "        <td>6</td>\n",
       "        <td>Don't Play</td>\n",
       "        <td>1.0</td>\n",
       "        <td>0.0</td>\n",
       "    </tr>\n",
       "    <tr>\n",
       "        <td>7</td>\n",
       "        <td>Play</td>\n",
       "        <td>0.0</td>\n",
       "        <td>1.0</td>\n",
       "    </tr>\n",
       "    <tr>\n",
       "        <td>8</td>\n",
       "        <td>Don't Play</td>\n",
       "        <td>1.0</td>\n",
       "        <td>0.0</td>\n",
       "    </tr>\n",
       "    <tr>\n",
       "        <td>9</td>\n",
       "        <td>Play</td>\n",
       "        <td>0.0</td>\n",
       "        <td>1.0</td>\n",
       "    </tr>\n",
       "    <tr>\n",
       "        <td>10</td>\n",
       "        <td>Play</td>\n",
       "        <td>0.0</td>\n",
       "        <td>1.0</td>\n",
       "    </tr>\n",
       "    <tr>\n",
       "        <td>11</td>\n",
       "        <td>Play</td>\n",
       "        <td>0.0</td>\n",
       "        <td>1.0</td>\n",
       "    </tr>\n",
       "    <tr>\n",
       "        <td>12</td>\n",
       "        <td>Play</td>\n",
       "        <td>0.0</td>\n",
       "        <td>1.0</td>\n",
       "    </tr>\n",
       "    <tr>\n",
       "        <td>13</td>\n",
       "        <td>Play</td>\n",
       "        <td>0.0</td>\n",
       "        <td>1.0</td>\n",
       "    </tr>\n",
       "    <tr>\n",
       "        <td>14</td>\n",
       "        <td>Don't Play</td>\n",
       "        <td>1.0</td>\n",
       "        <td>0.0</td>\n",
       "    </tr>\n",
       "</table>"
      ],
      "text/plain": [
       "[(1, u\"Don't Play\", 1.0, 0.0),\n",
       " (2, u\"Don't Play\", 1.0, 0.0),\n",
       " (3, u'Play', 0.0, 1.0),\n",
       " (4, u'Play', 0.0, 1.0),\n",
       " (5, u'Play', 0.0, 1.0),\n",
       " (6, u\"Don't Play\", 1.0, 0.0),\n",
       " (7, u'Play', 0.0, 1.0),\n",
       " (8, u\"Don't Play\", 1.0, 0.0),\n",
       " (9, u'Play', 0.0, 1.0),\n",
       " (10, u'Play', 0.0, 1.0),\n",
       " (11, u'Play', 0.0, 1.0),\n",
       " (12, u'Play', 0.0, 1.0),\n",
       " (13, u'Play', 0.0, 1.0),\n",
       " (14, u\"Don't Play\", 1.0, 0.0)]"
      ]
     },
     "execution_count": 40,
     "metadata": {},
     "output_type": "execute_result"
    }
   ],
   "source": [
    "%%sql\n",
    "DROP TABLE IF EXISTS prediction_results;\n",
    "\n",
    "SELECT madlib.tree_predict('train_output',          -- tree model\n",
    "                           'dt_golf',               -- new data table\n",
    "                           'prediction_results',    -- output table\n",
    "                           'prob');                 -- show probability\n",
    "\n",
    "SELECT g.id, class, \"estimated_prob_Don't Play\",  \"estimated_prob_Play\" \n",
    "FROM prediction_results p, dt_golf g WHERE p.id = g.id ORDER BY g.id;"
   ]
  },
  {
   "cell_type": "markdown",
   "metadata": {},
   "source": [
    "# 4. View tree in text format"
   ]
  },
  {
   "cell_type": "code",
   "execution_count": 41,
   "metadata": {},
   "outputs": [
    {
     "name": "stdout",
     "output_type": "stream",
     "text": [
      "1 rows affected.\n"
     ]
    },
    {
     "data": {
      "text/html": [
       "<table>\n",
       "    <tr>\n",
       "        <th>tree_display</th>\n",
       "    </tr>\n",
       "    <tr>\n",
       "        <td>-------------------------------------<br>    - Each node represented by 'id' inside ().<br>    - Each internal nodes has the split condition at the end, while each<br>        leaf node has a * at the end.<br>    - For each internal node (i), its child nodes are indented by 1 level<br>        with ids (2i+1) for True node and (2i+2) for False node.<br>    - Number of (weighted) rows for each response variable inside [].'<br>        The response label order is given as ['\"Don\\'t Play\"', '\"Play\"'].<br>        For each leaf, the prediction is given after the '--&gt;'<br>        <br>-------------------------------------<br>(0)[5 9]  \"OUTLOOK\" in {overcast}<br>   (1)[0 4]  * --&gt; \"Play\"<br>   (2)[5 5]  temperature &lt;= 75<br>      (5)[3 5]  temperature &lt;= 65<br>         (11)[1 0]  * --&gt; \"Don't Play\"<br>         (12)[2 5]  temperature &lt;= 70<br>            (25)[0 3]  * --&gt; \"Play\"<br>            (26)[2 2]  temperature &lt;= 72<br>               (53)[2 0]  * --&gt; \"Don't Play\"<br>               (54)[0 2]  * --&gt; \"Play\"<br>      (6)[2 0]  * --&gt; \"Don't Play\"<br><br>-------------------------------------</td>\n",
       "    </tr>\n",
       "</table>"
      ],
      "text/plain": [
       "[(u'-------------------------------------\\n    - Each node represented by \\'id\\' inside ().\\n    - Each internal nodes has the split condition at the end, while each\\n        leaf node has a * at the end.\\n    - For each internal node (i), its child nodes are indented by 1 level\\n        with ids (2i+1) for True node and (2i+2) for False node.\\n    - Number of (weighted) rows for each response variable inside [].\\'\\n        The response label order is given as [\\'\"Don\\\\\\'t Play\"\\', \\'\"Play\"\\'].\\n        For each leaf, the prediction is given after the \\'-->\\'\\n        \\n-------------------------------------\\n(0)[5 9]  \"OUTLOOK\" in {overcast}\\n   (1)[0 4]  * --> \"Play\"\\n   (2)[5 5]  temperature <= 75\\n      (5)[3 5]  temperature <= 65\\n         (11)[1 0]  * --> \"Don\\'t Play\"\\n         (12)[2 5]  temperature <= 70\\n            (25)[0 3]  * --> \"Play\"\\n            (26)[2 2]  temperature <= 72\\n               (53)[2 0]  * --> \"Don\\'t Play\"\\n               (54)[0 2]  * --> \"Play\"\\n      (6)[2 0]  * --> \"Don\\'t Play\"\\n\\n-------------------------------------',)]"
      ]
     },
     "execution_count": 41,
     "metadata": {},
     "output_type": "execute_result"
    }
   ],
   "source": [
    "%%sql\n",
    "SELECT madlib.tree_display('train_output', FALSE);"
   ]
  },
  {
   "cell_type": "markdown",
   "metadata": {},
   "source": [
    "Here are some more details on how to interpret the tree display above:\n",
    "\n",
    "* Node numbering starts at 0 for the root node and would be contiguous 1,2...n if the tree was completely full (no pruning). Since the tree has been pruned, the node numbering is not contiguous.\n",
    "\n",
    "* The order of values [x y] indicates the number of weighted rows that correspond to [\"Don't play\" \"Play\"] before the node test. For example, at (root) node 0, there are 5 rows for \"Don't play\" and 9 rows for \"Play\" in the raw data.\n",
    "\n",
    "* If we apply the test of \"OUTLOOK\" being overcast, then the True (yes) result is leaf node 1 which is \"Play\". There are 0 \"Don't play\" rows and 4 \"Play\" rows that correspond to this case (overcast). In other words, if it is overcast, you always play golf. If it is not overcast, you may or may not play golf, depending on the rest of the tree.\n",
    "\n",
    "* The remaining 5 \"Don't play\" rows and 5 \"Play rows\" are then tested at node 2 on temperature<=75. The False (no) result is leaf node 6 which is \"Don't Play\". The True (yes) result proceeds to leaf node 5 to test on temperature<=65. And so on down the tree."
   ]
  },
  {
   "cell_type": "markdown",
   "metadata": {},
   "source": [
    "# 5. View tree in dot format"
   ]
  },
  {
   "cell_type": "code",
   "execution_count": 42,
   "metadata": {},
   "outputs": [
    {
     "name": "stdout",
     "output_type": "stream",
     "text": [
      "1 rows affected.\n"
     ]
    },
    {
     "data": {
      "text/html": [
       "<table>\n",
       "    <tr>\n",
       "        <th>tree_display</th>\n",
       "    </tr>\n",
       "    <tr>\n",
       "        <td>digraph \"Classification tree for dt_golf\" {<br>\t subgraph \"cluster0\"{<br>\t label=\"\"<br>\"g0_0\" [label=\"\\\"OUTLOOK\\\" &lt;= overcast\", shape=ellipse];<br>\"g0_0\" -&gt; \"g0_1\"[label=\"yes\"];<br>\"g0_1\" [label=\"\\\"Play\\\"\",shape=box];<br>\"g0_0\" -&gt; \"g0_2\"[label=\"no\"];<br>\"g0_2\" [label=\"temperature &lt;= 75\", shape=ellipse];<br>\"g0_2\" -&gt; \"g0_5\"[label=\"yes\"];<br>\"g0_2\" -&gt; \"g0_6\"[label=\"no\"];<br>\"g0_6\" [label=\"\\\"Don't Play\\\"\",shape=box];<br>\"g0_5\" [label=\"temperature &lt;= 65\", shape=ellipse];<br>\"g0_5\" -&gt; \"g0_11\"[label=\"yes\"];<br>\"g0_11\" [label=\"\\\"Don't Play\\\"\",shape=box];<br>\"g0_5\" -&gt; \"g0_12\"[label=\"no\"];<br>\"g0_12\" [label=\"temperature &lt;= 70\", shape=ellipse];<br>\"g0_12\" -&gt; \"g0_25\"[label=\"yes\"];<br>\"g0_25\" [label=\"\\\"Play\\\"\",shape=box];<br>\"g0_12\" -&gt; \"g0_26\"[label=\"no\"];<br>\"g0_26\" [label=\"temperature &lt;= 72\", shape=ellipse];<br>\"g0_26\" -&gt; \"g0_53\"[label=\"yes\"];<br>\"g0_53\" [label=\"\\\"Don't Play\\\"\",shape=box];<br>\"g0_26\" -&gt; \"g0_54\"[label=\"no\"];<br>\"g0_54\" [label=\"\\\"Play\\\"\",shape=box];<br><br>\t } //--- end of subgraph------------<br>} //---end of digraph--------- </td>\n",
       "    </tr>\n",
       "</table>"
      ],
      "text/plain": [
       "[(u'digraph \"Classification tree for dt_golf\" {\\n\\t subgraph \"cluster0\"{\\n\\t label=\"\"\\n\"g0_0\" [label=\"\\\\\"OUTLOOK\\\\\" <= overcast\", shape=ellipse];\\n\"g0_0\" -> \"g0_1\"[label=\"yes\"];\\n\"g0_1\" [label=\"\\\\\"Play\\\\\"\",shape=box];\\n\"g0_0\" -> \"g0_2\"[label=\"no\"];\\n\"g0_2\" [label=\"temperature <= 75\", shape=ellipse];\\n\"g0_2\" -> \"g0_5\"[label=\"yes\"];\\n\"g0_2\" -> \"g0_6\"[label=\"no\"];\\n\"g0_6\" [label=\"\\\\\"Don\\'t Play\\\\\"\",shape=box];\\n\"g0_5\" [label=\"temperature <= 65\", shape=ellipse];\\n\"g0_5\" -> \"g0_11\"[label=\"yes\"];\\n\"g0_11\" [label=\"\\\\\"Don\\'t Play\\\\\"\",shape=box];\\n\"g0_5\" -> \"g0_12\"[label=\"no\"];\\n\"g0_12\" [label=\"temperature <= 70\", shape=ellipse];\\n\"g0_12\" -> \"g0_25\"[label=\"yes\"];\\n\"g0_25\" [label=\"\\\\\"Play\\\\\"\",shape=box];\\n\"g0_12\" -> \"g0_26\"[label=\"no\"];\\n\"g0_26\" [label=\"temperature <= 72\", shape=ellipse];\\n\"g0_26\" -> \"g0_53\"[label=\"yes\"];\\n\"g0_53\" [label=\"\\\\\"Don\\'t Play\\\\\"\",shape=box];\\n\"g0_26\" -> \"g0_54\"[label=\"no\"];\\n\"g0_54\" [label=\"\\\\\"Play\\\\\"\",shape=box];\\n\\n\\t } //--- end of subgraph------------\\n} //---end of digraph--------- ',)]"
      ]
     },
     "execution_count": 42,
     "metadata": {},
     "output_type": "execute_result"
    }
   ],
   "source": [
    "%%sql\n",
    "SELECT madlib.tree_display('train_output', TRUE);"
   ]
  },
  {
   "cell_type": "markdown",
   "metadata": {},
   "source": [
    "# 6. View tree in dot format with additional information"
   ]
  },
  {
   "cell_type": "code",
   "execution_count": 43,
   "metadata": {},
   "outputs": [
    {
     "name": "stdout",
     "output_type": "stream",
     "text": [
      "1 rows affected.\n"
     ]
    },
    {
     "data": {
      "text/html": [
       "<table>\n",
       "    <tr>\n",
       "        <th>tree_display</th>\n",
       "    </tr>\n",
       "    <tr>\n",
       "        <td>digraph \"Classification tree for dt_golf\" {<br>\t subgraph \"cluster0\"{<br>\t label=\"\"<br>\"g0_0\" [label=\"\\\"OUTLOOK\\\" &lt;= overcast\\n impurity = 0.459184\\n samples = 14\\n value = [5 9]\\n class = \\\"Play\\\"\", shape=ellipse];<br>\"g0_0\" -&gt; \"g0_1\"[label=\"yes\"];<br>\"g0_1\" [label=\"\\\"Play\\\"\\n impurity = 0\\n samples = 4\\n value = [0 4]\",shape=box];<br>\"g0_0\" -&gt; \"g0_2\"[label=\"no\"];<br>\"g0_2\" [label=\"temperature &lt;= 75\\n impurity = 0.5\\n samples = 10\\n value = [5 5]\\n class = \\\"Don't Play\\\"\", shape=ellipse];<br>\"g0_2\" -&gt; \"g0_5\"[label=\"yes\"];<br>\"g0_2\" -&gt; \"g0_6\"[label=\"no\"];<br>\"g0_6\" [label=\"\\\"Don't Play\\\"\\n impurity = 0\\n samples = 2\\n value = [2 0]\",shape=box];<br>\"g0_5\" [label=\"temperature &lt;= 65\\n impurity = 0.46875\\n samples = 8\\n value = [3 5]\\n class = \\\"Play\\\"\", shape=ellipse];<br>\"g0_5\" -&gt; \"g0_11\"[label=\"yes\"];<br>\"g0_11\" [label=\"\\\"Don't Play\\\"\\n impurity = 0\\n samples = 1\\n value = [1 0]\",shape=box];<br>\"g0_5\" -&gt; \"g0_12\"[label=\"no\"];<br>\"g0_12\" [label=\"temperature &lt;= 70\\n impurity = 0.408163\\n samples = 7\\n value = [2 5]\\n class = \\\"Play\\\"\", shape=ellipse];<br>\"g0_12\" -&gt; \"g0_25\"[label=\"yes\"];<br>\"g0_25\" [label=\"\\\"Play\\\"\\n impurity = 0\\n samples = 3\\n value = [0 3]\",shape=box];<br>\"g0_12\" -&gt; \"g0_26\"[label=\"no\"];<br>\"g0_26\" [label=\"temperature &lt;= 72\\n impurity = 0.5\\n samples = 4\\n value = [2 2]\\n class = \\\"Don't Play\\\"\", shape=ellipse];<br>\"g0_26\" -&gt; \"g0_53\"[label=\"yes\"];<br>\"g0_53\" [label=\"\\\"Don't Play\\\"\\n impurity = 0\\n samples = 2\\n value = [2 0]\",shape=box];<br>\"g0_26\" -&gt; \"g0_54\"[label=\"no\"];<br>\"g0_54\" [label=\"\\\"Play\\\"\\n impurity = 0\\n samples = 2\\n value = [0 2]\",shape=box];<br><br>\t } //--- end of subgraph------------<br>} //---end of digraph--------- </td>\n",
       "    </tr>\n",
       "</table>"
      ],
      "text/plain": [
       "[(u'digraph \"Classification tree for dt_golf\" {\\n\\t subgraph \"cluster0\"{\\n\\t label=\"\"\\n\"g0_0\" [label=\"\\\\\"OUTLOOK\\\\\" <= overcast\\\\n impurity = 0.459184\\\\n samples = 14\\\\n value = [5 9]\\\\n class = \\\\\"Play\\\\\"\", shape=ellipse];\\n\"g0_0\" -> \"g0_1\"[label=\"yes\"];\\n\"g0_1\" [label=\"\\\\\"Play\\\\\"\\\\n impurity = 0\\\\n samples = 4\\\\n value = [0 4]\",shape=box];\\n\"g0_0\" -> \"g0_2\"[label=\"no\"];\\n\"g0_2\" [label=\"temperature <= 75\\\\n impurity = 0.5\\\\n samples = 10\\\\n value = [5 5]\\\\n class = \\\\\"Don\\'t Play\\\\\"\", shape=ellipse];\\n\"g0_2\" -> \"g0_5\"[label=\"yes\"];\\n\"g0_2\" -> \"g0_6\"[label=\"no\"];\\n\"g0_6\" [label=\"\\\\\"Don\\'t Play\\\\\"\\\\n impurity = 0\\\\n samples = 2\\\\n value = [2 0]\",shape=box];\\n\"g0_5\" [label=\"temperature <= 65\\\\n impurity = 0.46875\\\\n samples = 8\\\\n value = [3 5]\\\\n class = \\\\\"Play\\\\\"\", shape=ellipse];\\n\"g0_5\" -> \"g0_11\"[label=\"yes\"];\\n\"g0_11\" [label=\"\\\\\"Don\\'t Play\\\\\"\\\\n impurity = 0\\\\n samples = 1\\\\n value = [1 0]\",shape=box];\\n\"g0_5\" -> \"g0_12\"[label=\"no\"];\\n\"g0_12\" [label=\"temperature <= 70\\\\n impurity = 0.408163\\\\n samples = 7\\\\n value = [2 5]\\\\n class = \\\\\"Play\\\\\"\", shape=ellipse];\\n\"g0_12\" -> \"g0_25\"[label=\"yes\"];\\n\"g0_25\" [label=\"\\\\\"Play\\\\\"\\\\n impurity = 0\\\\n samples = 3\\\\n value = [0 3]\",shape=box];\\n\"g0_12\" -> \"g0_26\"[label=\"no\"];\\n\"g0_26\" [label=\"temperature <= 72\\\\n impurity = 0.5\\\\n samples = 4\\\\n value = [2 2]\\\\n class = \\\\\"Don\\'t Play\\\\\"\", shape=ellipse];\\n\"g0_26\" -> \"g0_53\"[label=\"yes\"];\\n\"g0_53\" [label=\"\\\\\"Don\\'t Play\\\\\"\\\\n impurity = 0\\\\n samples = 2\\\\n value = [2 0]\",shape=box];\\n\"g0_26\" -> \"g0_54\"[label=\"no\"];\\n\"g0_54\" [label=\"\\\\\"Play\\\\\"\\\\n impurity = 0\\\\n samples = 2\\\\n value = [0 2]\",shape=box];\\n\\n\\t } //--- end of subgraph------------\\n} //---end of digraph--------- ',)]"
      ]
     },
     "execution_count": 43,
     "metadata": {},
     "output_type": "execute_result"
    }
   ],
   "source": [
    "%%sql\n",
    "SELECT madlib.tree_display('train_output', TRUE, TRUE);"
   ]
  },
  {
   "cell_type": "markdown",
   "metadata": {},
   "source": [
    "You may wish to visualize the tree using pygraphviz or another program that can handle dot format:"
   ]
  },
  {
   "cell_type": "code",
   "execution_count": 45,
   "metadata": {},
   "outputs": [
    {
     "name": "stdout",
     "output_type": "stream",
     "text": [
      "1 rows affected.\n",
      "True\n"
     ]
    },
    {
     "data": {
      "image/png": "[encoded data removed]",
      "text/plain": [
       "<IPython.core.display.Image object>"
      ]
     },
     "execution_count": 45,
     "metadata": {},
     "output_type": "execute_result"
    }
   ],
   "source": [
    "# set paths for your environment\n",
    "from os.path import expanduser\n",
    "home = expanduser(\"/Users/fmcquillan/Documents/Product/MADlib/Demos/1 dot 14 demos\")\n",
    "\n",
    "dot_output = %sql select madlib.tree_display('train_output', TRUE, TRUE);\n",
    "with open('tree_out.dot', 'w') as f: \n",
    "     f.write(dot_output[0][0])\n",
    "    \n",
    "import pygraphviz as pgv\n",
    "from IPython.display import Image\n",
    "graph = pgv.AGraph(\"tree_out.dot\")\n",
    "print bool(graph)\n",
    "graph.draw('tree_out.png',prog='dot')\n",
    "Image('tree_out.png')"
   ]
  },
  {
   "cell_type": "markdown",
   "metadata": {},
   "source": [
    "One important difference to note about the dot format above is how categorical variable tests are displayed:\n",
    "\n",
    "* In the text format of the tree, the node 0 test is \"OUTLOOK\" in {overcast}, but in the dot format of the tree, the same node 0 test reads \"\\\"OUTLOOK\" <= overcast\". This is because in dot format for categorical variables, the '<=' symbol represents the location in the array 'cat_levels_in_text' from the output table for the \"OUTLOOK\" levels. The array is ['overcast', 'rain', 'sunny', 'False', 'True'] with the first 3 entries corresponding to \"OUTLOOK\" and the last 2 entries corresponding to 'windy'. So the test \"\\\"OUTLOOK\" <= overcast\" means all \"OUTLOOK\" levels to the left of, and including, 'overcast'. In this case there are no levels to the left of 'overcast' in the array so it is simply a test on whether it is overcast or not.\n",
    "\n",
    "* If there was a test \"\\\"OUTLOOK\" <= rain\", this would include both 'overcast' and 'rain', since 'overcast' is to the left of 'rain' in the array.\n",
    "\n",
    "* If there was a test \"windy <= True\", this would include both 'False' and 'True', since 'False' is to the left of 'True' in the array."
   ]
  },
  {
   "cell_type": "markdown",
   "metadata": {},
   "source": [
    "# 7. Arrays of features\n",
    "Categorical and continuous features can be array columns, in which case the array is expanded to treat each element of the array as a feature."
   ]
  },
  {
   "cell_type": "code",
   "execution_count": null,
   "metadata": {},
   "outputs": [],
   "source": [
    "%%sql\n",
    "DROP TABLE IF EXISTS train_output, train_output_summary;\n",
    "\n",
    "SELECT madlib.tree_train('dt_golf',         -- source table\n",
    "                         'train_output',    -- output model table\n",
    "                         'id',              -- id column\n",
    "                         'class',           -- response\n",
    "                         '\"Temp_Humidity\", clouds_airquality',   -- features\n",
    "                         NULL::text,        -- exclude columns\n",
    "                         'gini',            -- split criterion\n",
    "                         NULL::text,        -- no grouping\n",
    "                         NULL::text,        -- no weights, all observations treated equally\n",
    "                         5,                 -- max depth\n",
    "                         3,                 -- min split\n",
    "                         1,                 -- min bucket\n",
    "                         10                 -- number of bins per continuous variable\n",
    "                         );\n",
    "\n",
    "SELECT pruning_cp, cat_levels_in_text, cat_n_levels, tree_depth FROM train_output;"
   ]
  },
  {
   "cell_type": "markdown",
   "metadata": {},
   "source": [
    "The first 4 levels above correspond to cloud ceiling and the next 3 levels correspond to air quality.  Output the summary output shows the categorical and continuous variables:"
   ]
  },
  {
   "cell_type": "code",
   "execution_count": null,
   "metadata": {},
   "outputs": [],
   "source": [
    "%%sql\n",
    "select * from train_output_summary;"
   ]
  },
  {
   "cell_type": "markdown",
   "metadata": {},
   "source": [
    "# 8. Weighting observations\n",
    "Use the 'weights' parameter to adjust a row's vote to balance the dataset.  In our example, the weights are somewhat random but show that a different decision tree is create compared to the case where no weights are used:"
   ]
  },
  {
   "cell_type": "code",
   "execution_count": null,
   "metadata": {},
   "outputs": [],
   "source": [
    "%%sql\n",
    "DROP TABLE IF EXISTS train_output, train_output_summary;\n",
    "\n",
    "SELECT madlib.tree_train('dt_golf',         -- source table\n",
    "                         'train_output',    -- output model table\n",
    "                         'id',              -- id column\n",
    "                         'class',           -- response\n",
    "                         '\"OUTLOOK\", temperature, windy',   -- features\n",
    "                         NULL::text,        -- exclude columns\n",
    "                         'gini',            -- split criterion\n",
    "                         NULL::text,        -- no grouping\n",
    "                         'observation_weight', -- weight observations\n",
    "                         5,                 -- max depth\n",
    "                         3,                 -- min split\n",
    "                         1,                 -- min bucket\n",
    "                         10                 -- number of bins per continuous variable\n",
    "                         );\n",
    "\n",
    "SELECT madlib.tree_display('train_output', FALSE);"
   ]
  },
  {
   "cell_type": "code",
   "execution_count": null,
   "metadata": {},
   "outputs": [],
   "source": [
    "# set paths for your environment\n",
    "from os.path import expanduser\n",
    "home = expanduser(\"/Users/fmcquillan/Documents/Product/MADlib/Demos/1 dot 14 demos\")\n",
    "\n",
    "dot_output = %sql select madlib.tree_display('train_output', TRUE, TRUE);\n",
    "with open('tree_out.dot', 'w') as f: \n",
    "     f.write(dot_output[0][0])\n",
    "    \n",
    "import pygraphviz as pgv\n",
    "from IPython.display import Image\n",
    "graph = pgv.AGraph(\"tree_out.dot\")\n",
    "print bool(graph)\n",
    "graph.draw('tree_out.png',prog='dot')\n",
    "Image('tree_out.png')"
   ]
  },
  {
   "cell_type": "markdown",
   "metadata": {},
   "source": [
    "# Decision tree regression examples"
   ]
  },
  {
   "cell_type": "markdown",
   "metadata": {},
   "source": [
    "# 1. Load data\n",
    "Data set related to fuel consumption and 10 aspects of automobile design and performance for 32 automobiles (1973–74 models). Data was extracted from the 1974 Motor Trend US magazine."
   ]
  },
  {
   "cell_type": "code",
   "execution_count": null,
   "metadata": {},
   "outputs": [],
   "source": [
    "%%sql\n",
    "DROP TABLE IF EXISTS mt_cars;\n",
    "\n",
    "CREATE TABLE mt_cars (\n",
    "    id integer NOT NULL,\n",
    "    mpg double precision,\n",
    "    cyl integer,\n",
    "    disp double precision,\n",
    "    hp integer,\n",
    "    drat double precision,\n",
    "    wt double precision,\n",
    "    qsec double precision,\n",
    "    vs integer,\n",
    "    am integer,\n",
    "    gear integer,\n",
    "    carb integer\n",
    ");\n",
    "\n",
    "INSERT INTO mt_cars VALUES\n",
    "(1,18.7,8,360,175,3.15,3.44,17.02,0,0,3,2),\n",
    "(2,21,6,160,110,3.9,2.62,16.46,0,1,4,4),\n",
    "(3,24.4,4,146.7,62,3.69,3.19,20,1,0,4,2),\n",
    "(4,21,6,160,110,3.9,2.875,17.02,0,1,4,4),\n",
    "(5,17.8,6,167.6,123,3.92,3.44,18.9,1,0,4,4),\n",
    "(6,16.4,8,275.8,180,3.078,4.07,17.4,0,0,3,3),\n",
    "(7,22.8,4,108,93,3.85,2.32,18.61,1,1,4,1),\n",
    "(8,17.3,8,275.8,180,3.078,3.73,17.6,0,0,3,3),\n",
    "(9,21.4,null,258,110,3.08,3.215,19.44,1,0,3,1),\n",
    "(10,15.2,8,275.8,180,3.078,3.78,18,0,0,3,3),\n",
    "(11,18.1,6,225,105,2.768,3.46,20.22,1,0,3,1),\n",
    "(12,32.4,4,78.7,66,4.08,2.20,19.47,1,1,4,1),\n",
    "(13,14.3,8,360,245,3.21,3.578,15.84,0,0,3,4),\n",
    "(14,22.8,4,140.8,95,3.92,3.15,22.9,1,0,4,2),\n",
    "(15,30.4,4,75.7,52,4.93,1.615,18.52,1,1,4,2),\n",
    "(16,19.2,6,167.6,123,3.92,3.44,18.3,1,0,4,4),\n",
    "(17,33.9,4,71.14,65,4.22,1.835,19.9,1,1,4,1),\n",
    "(18,15.2,null,304,150,3.15,3.435,17.3,0,0,3,2),\n",
    "(19,10.4,8,472,205,2.93,5.25,17.98,0,0,3,4),\n",
    "(20,27.3,4,79,66,4.08,1.935,18.9,1,1,4,1),\n",
    "(21,10.4,8,460,215,3,5.424,17.82,0,0,3,4),\n",
    "(22,26,4,120.3,91,4.43,2.14,16.7,0,1,5,2),\n",
    "(23,14.7,8,440,230,3.23,5.345,17.42,0,0,3,4),\n",
    "(24,30.4,4,95.14,113,3.77,1.513,16.9,1,1,5,2),\n",
    "(25,21.5,4,120.1,97,3.70,2.465,20.01,1,0,3,1),\n",
    "(26,15.8,8,351,264,4.22,3.17,14.5,0,1,5,4),\n",
    "(27,15.5,8,318,150,2.768,3.52,16.87,0,0,3,2),\n",
    "(28,15,8,301,335,3.54,3.578,14.6,0,1,5,8),\n",
    "(29,13.3,8,350,245,3.73,3.84,15.41,0,0,3,4),\n",
    "(30,19.2,8,400,175,3.08,3.845,17.05,0,0,3,2),\n",
    "(31,19.7,6,145,175,3.62,2.77,15.5,0,1,5,6),\n",
    "(32,21.4,4,121,109,4.11,2.78,18.6,1,1,4,2);\n",
    "\n",
    "SELECT * FROM mt_cars ORDER BY id;"
   ]
  },
  {
   "cell_type": "markdown",
   "metadata": {},
   "source": [
    "# 2.  Train decision tree with surrogates\n",
    "We train a regression decision tree with surrogates in order to handle the NULL feature values:"
   ]
  },
  {
   "cell_type": "code",
   "execution_count": null,
   "metadata": {},
   "outputs": [],
   "source": [
    "%%sql\n",
    "DROP TABLE IF EXISTS train_output, train_output_summary, train_output_cv;\n",
    "\n",
    "SELECT madlib.tree_train('mt_cars',         -- source table\n",
    "                         'train_output',    -- output model table\n",
    "                         'id',              -- id column\n",
    "                         'mpg',             -- dependent variable\n",
    "                         '*',               -- features\n",
    "                         'id, hp, drat, am, gear, carb',  -- exclude columns\n",
    "                         'mse',             -- split criterion\n",
    "                         NULL::text,        -- no grouping\n",
    "                         NULL::text,        -- no weights, all observations treated equally\n",
    "                         10,                -- max depth\n",
    "                         8,                 -- min split\n",
    "                         3,                 -- number of bins per continuous variable\n",
    "                         10,                -- number of splits\n",
    "                         NULL,              -- pruning parameters\n",
    "                         'max_surrogates=2' -- number of surrogates\n",
    "                         );\n",
    "\n",
    "SELECT pruning_cp, cat_levels_in_text, cat_n_levels, tree_depth FROM train_output;"
   ]
  },
  {
   "cell_type": "code",
   "execution_count": null,
   "metadata": {},
   "outputs": [],
   "source": [
    "%%sql\n",
    "DROP TABLE IF EXISTS train_output, train_output_summary, train_output_cv;\n",
    "\n",
    "SELECT madlib.tree_train('mt_cars',         -- source table\n",
    "                         'train_output',    -- output model table\n",
    "                         'id',              -- id column\n",
    "                         'mpg',             -- dependent variable\n",
    "                         '*',               -- features\n",
    "                         'id, hp, drat, am, gear, carb',  -- exclude columns\n",
    "                         'mse',             -- split criterion\n",
    "                         NULL::text,        -- no grouping\n",
    "                         NULL::text,        -- no weights, all observations treated equally\n",
    "                         10,                -- max depth\n",
    "                         8,                 -- min split\n",
    "                         3,                 -- number of bins per continuous variable\n",
    "                         10,                -- number of splits\n",
    "                         NULL,              -- pruning parameters\n",
    "                         'max_surrogates=2' -- number of surrogates\n",
    "                         );\n",
    "\n",
    "SELECT pruning_cp, cat_levels_in_text, cat_n_levels, tree_depth FROM train_output;"
   ]
  },
  {
   "cell_type": "markdown",
   "metadata": {},
   "source": [
    "Above shows ordering of levels of categorical variables 'vs' and 'cyl'.  View the summary table:"
   ]
  },
  {
   "cell_type": "code",
   "execution_count": null,
   "metadata": {},
   "outputs": [],
   "source": [
    "%%sql\n",
    "SELECT * FROM train_output_summary;"
   ]
  },
  {
   "cell_type": "markdown",
   "metadata": {},
   "source": [
    "# 3. Predict\n",
    "\n",
    "Predict regression output for the same data and compare with original:"
   ]
  },
  {
   "cell_type": "code",
   "execution_count": null,
   "metadata": {},
   "outputs": [],
   "source": [
    "%%sql\n",
    "DROP TABLE IF EXISTS prediction_results;\n",
    "\n",
    "SELECT madlib.tree_predict('train_output',\n",
    "                           'mt_cars',\n",
    "                           'prediction_results',\n",
    "                           'response');\n",
    "\n",
    "SELECT s.id, mpg, estimated_mpg, mpg-estimated_mpg as delta FROM prediction_results p, \n",
    "mt_cars s WHERE s.id = p.id ORDER BY id;"
   ]
  },
  {
   "cell_type": "markdown",
   "metadata": {},
   "source": [
    "# 4.  View tree"
   ]
  },
  {
   "cell_type": "code",
   "execution_count": null,
   "metadata": {},
   "outputs": [],
   "source": [
    "%%sql\n",
    "SELECT madlib.tree_display('train_output', FALSE);"
   ]
  },
  {
   "cell_type": "code",
   "execution_count": null,
   "metadata": {},
   "outputs": [],
   "source": [
    "# set paths for your environment\n",
    "from os.path import expanduser\n",
    "home = expanduser(\"/Users/fmcquillan/Documents/Product/MADlib/Demos/1 dot 14 demos\")\n",
    "\n",
    "dot_output = %sql select madlib.tree_display('train_output', TRUE, TRUE);\n",
    "with open('tree_out.dot', 'w') as f: \n",
    "     f.write(dot_output[0][0])\n",
    "    \n",
    "import pygraphviz as pgv\n",
    "from IPython.display import Image\n",
    "graph = pgv.AGraph(\"tree_out.dot\")\n",
    "print bool(graph)\n",
    "graph.draw('tree_out.png',prog='dot')\n",
    "Image('tree_out.png')"
   ]
  },
  {
   "cell_type": "markdown",
   "metadata": {},
   "source": [
    "# 5. Display the surrogate variables\n",
    "Display the surrogate variables that are used to compute the split for each node when the primary variable is NULL:"
   ]
  },
  {
   "cell_type": "code",
   "execution_count": null,
   "metadata": {},
   "outputs": [],
   "source": [
    "%%sql\n",
    "SELECT madlib.tree_surr_display('train_output');"
   ]
  },
  {
   "cell_type": "markdown",
   "metadata": {},
   "source": [
    "# 6.  Cross validation\n",
    "Use cross validation to select the best value of the complexity parameter cp:"
   ]
  },
  {
   "cell_type": "code",
   "execution_count": null,
   "metadata": {},
   "outputs": [],
   "source": [
    "%%sql\n",
    "DROP TABLE IF EXISTS train_output, train_output_summary, train_output_cv;\n",
    "\n",
    "SELECT madlib.tree_train('mt_cars',         -- source table\n",
    "                         'train_output',    -- output model table\n",
    "                         'id',              -- id column\n",
    "                         'mpg',             -- dependent variable\n",
    "                         '*',               -- features\n",
    "                         'id, hp, drat, am, gear, carb',  -- exclude columns\n",
    "                         'mse',             -- split criterion\n",
    "                         NULL::text,        -- no grouping\n",
    "                         NULL::text,        -- no weights, all observations treated equally\n",
    "                         10,                -- max depth\n",
    "                         8,                 -- min split\n",
    "                         3,                 -- number of bins per continuous variable\n",
    "                         10,                -- number of splits\n",
    "                         'n_folds=3'       -- pruning parameters for cross validation\n",
    "                         );\n",
    "\n",
    "SELECT pruning_cp, cat_levels_in_text, cat_n_levels, tree_depth FROM train_output;"
   ]
  },
  {
   "cell_type": "markdown",
   "metadata": {},
   "source": [
    "The input cp value was 0 (default) and the best 'pruning_cp' value turns out to be 0 as well in this small example.  The cp values tested and average error and standard deviation are:"
   ]
  },
  {
   "cell_type": "code",
   "execution_count": null,
   "metadata": {},
   "outputs": [],
   "source": [
    "%%sql\n",
    "SELECT * FROM train_output_cv ORDER BY cv_error_avg ASC;"
   ]
  },
  {
   "cell_type": "markdown",
   "metadata": {},
   "source": [
    "# NULL handling example"
   ]
  },
  {
   "cell_type": "markdown",
   "metadata": {},
   "source": [
    "# 1. Load data\n",
    "Create toy example to illustrate null-as-category handling for categorical features:"
   ]
  },
  {
   "cell_type": "code",
   "execution_count": null,
   "metadata": {},
   "outputs": [],
   "source": [
    "%%sql\n",
    "DROP TABLE IF EXISTS null_handling_example;\n",
    "\n",
    "CREATE TABLE null_handling_example (\n",
    "    id integer,\n",
    "    country text,\n",
    "    city text,\n",
    "    weather text,\n",
    "    response text\n",
    ");\n",
    " \n",
    "INSERT INTO null_handling_example VALUES\n",
    "(1,null,null,null,'a'),\n",
    "(2,'US',null,null,'b'),\n",
    "(3,'US','NY',null,'c'),\n",
    "(4,'US','NY','rainy','d');\n",
    " \n",
    "SELECT * FROM null_handling_example;"
   ]
  },
  {
   "cell_type": "markdown",
   "metadata": {},
   "source": [
    "# 2. Train decision tree \n",
    "Note that '__NULL__' is set as a valid level for the categorical features country, weather and city:"
   ]
  },
  {
   "cell_type": "code",
   "execution_count": null,
   "metadata": {},
   "outputs": [],
   "source": [
    "%%sql\n",
    "DROP TABLE IF EXISTS train_output, train_output_summary;\n",
    "\n",
    "SELECT madlib.tree_train('null_handling_example',         -- source table\n",
    "                         'train_output',                  -- output model table\n",
    "                         'id',                            -- id column\n",
    "                         'response',                      -- dependent variable\n",
    "                         'country, weather, city',        -- features\n",
    "                         NULL,                            -- features to exclude\n",
    "                         'gini',                          -- split criterion\n",
    "                         NULL::text,                      -- no grouping\n",
    "                         NULL::text,                      -- no weights, all observations treated equally\n",
    "                         4,                               -- max depth\n",
    "                         1,                               -- min split\n",
    "                         1,                               -- number of bins per continuous variable\n",
    "                         10,                              -- number of splits\n",
    "                         NULL,                            -- pruning parameters\n",
    "                         'null_as_category=true'          -- null handling\n",
    "                         );\n",
    "\n",
    "SELECT cat_levels_in_text, cat_n_levels FROM train_output;"
   ]
  },
  {
   "cell_type": "code",
   "execution_count": null,
   "metadata": {},
   "outputs": [],
   "source": [
    "%%sql\n",
    "SELECT * FROM train_output_summary;"
   ]
  },
  {
   "cell_type": "markdown",
   "metadata": {},
   "source": [
    "# 3. Predict\n",
    "\n",
    "Predict for data not previously seen by assuming NULL value as the default.  "
   ]
  },
  {
   "cell_type": "code",
   "execution_count": null,
   "metadata": {},
   "outputs": [],
   "source": [
    "%%sql\n",
    "DROP TABLE IF EXISTS table_test;\n",
    "\n",
    "CREATE TABLE table_test (\n",
    "    id integer,\n",
    "    country text,\n",
    "    city text,\n",
    "    weather text,\n",
    "    expected_response text\n",
    ");\n",
    "\n",
    "INSERT INTO table_test VALUES\n",
    "(1,'IN','MUM','cloudy','a'),\n",
    "(2,'US','HOU','humid','b'),\n",
    "(3,'US','NY','sunny','c'),\n",
    "(4,'US','NY','rainy','d');\n",
    " \n",
    "DROP TABLE IF EXISTS prediction_results;\n",
    "\n",
    "SELECT madlib.tree_predict('train_output',\n",
    "                           'table_test',\n",
    "                           'prediction_results',\n",
    "                           'response');\n",
    "\n",
    "SELECT s.id, expected_response, estimated_response\n",
    "FROM prediction_results p, table_test s\n",
    "WHERE s.id = p.id ORDER BY id;"
   ]
  },
  {
   "cell_type": "markdown",
   "metadata": {},
   "source": [
    "There is only training data for country 'US' so the response for country 'IN' is 'a' as expected, corresponding to a NULL (not 'US') country level.  \n",
    "\n",
    "Likewise, any city in the 'US' that is not 'NY' will predict response 'b' as expected, corresponding to a NULL (not 'NY') city level. "
   ]
  },
  {
   "cell_type": "markdown",
   "metadata": {},
   "source": [
    "# 4. View tree"
   ]
  },
  {
   "cell_type": "code",
   "execution_count": null,
   "metadata": {},
   "outputs": [],
   "source": [
    "%%sql\n",
    "SELECT madlib.tree_display('train_output', FALSE);"
   ]
  },
  {
   "cell_type": "code",
   "execution_count": null,
   "metadata": {},
   "outputs": [],
   "source": [
    "# set paths for your environment\n",
    "from os.path import expanduser\n",
    "home = expanduser(\"/Users/fmcquillan/Documents/Product/MADlib/Demos/1 dot 14 demos\")\n",
    "\n",
    "dot_output = %sql select madlib.tree_display('train_output', TRUE, TRUE);\n",
    "with open('tree_out.dot', 'w') as f: \n",
    "     f.write(dot_output[0][0])\n",
    "    \n",
    "import pygraphviz as pgv\n",
    "from IPython.display import Image\n",
    "graph = pgv.AGraph(\"tree_out.dot\")\n",
    "print bool(graph)\n",
    "graph.draw('tree_out.png',prog='dot')\n",
    "Image('tree_out.png')"
   ]
  }
 ],
 "metadata": {
  "kernelspec": {
   "display_name": "Python 2",
   "language": "python",
   "name": "python2"
  },
  "language_info": {
   "codemirror_mode": {
    "name": "ipython",
    "version": 2
   },
   "file_extension": ".py",
   "mimetype": "text/x-python",
   "name": "python",
   "nbconvert_exporter": "python",
   "pygments_lexer": "ipython2",
   "version": "2.7.12"
  }
 },
 "nbformat": 4,
 "nbformat_minor": 1
}
