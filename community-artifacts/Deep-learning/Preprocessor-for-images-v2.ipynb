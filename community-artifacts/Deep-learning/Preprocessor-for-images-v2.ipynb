{
 "cells": [
  {
   "cell_type": "markdown",
   "metadata": {},
   "source": [
    "# Preprocessor for image data\n",
    "This is a mini-batch preprocessor utility for image data:\n",
    "* training_preprocessor_dl() for training datasets\n",
    "* validation_preprocessor_dl() for validation datasets\n",
    "\n",
    "Note that there is a separate mini-batch preprocessor utility for general use cases\n",
    "http://madlib.apache.org/docs/latest/group__grp__minibatch__preprocessing.html\n",
    "\n",
    "The preprocessor for image data was added in MADlib 1.16.\n",
    "\n",
    "## Table of contents\n",
    "\n",
    "<a href=\"#load_data\">1. Load data</a>\n",
    "\n",
    "<a href=\"#pp_train\">2. Run preprocessor for training image data</a>\n",
    "\n",
    "<a href=\"#pp_val\">3. Run preprocessor for validation image data</a>\n",
    "\n",
    "<a href=\"#load_data2\">4. Load data, another format</a>\n",
    "\n",
    "<a href=\"#pp_train2\">5. Run preprocessor for training image data</a>\n",
    "\n",
    "<a href=\"#pp_val2\">6. Run preprocessor for validation image data</a>\n",
    "\n",
    "<a href=\"#change_buffer\">7. Change buffer size</a>\n",
    "\n",
    "<a href=\"#set_num_classes\">8. Setting number of classes</a>\n",
    "\n",
    "<a href=\"#distr_rules\">9. Using distribution rules</a>"
   ]
  },
  {
   "cell_type": "code",
   "execution_count": 1,
   "metadata": {},
   "outputs": [
    {
     "name": "stderr",
     "output_type": "stream",
     "text": [
      "/Users/fmcquillan/anaconda/lib/python2.7/site-packages/IPython/config.py:13: ShimWarning: The `IPython.config` package has been deprecated since IPython 4.0. You should import from traitlets.config instead.\n",
      "  \"You should import from traitlets.config instead.\", ShimWarning)\n",
      "/Users/fmcquillan/anaconda/lib/python2.7/site-packages/IPython/utils/traitlets.py:5: UserWarning: IPython.utils.traitlets has moved to a top-level traitlets package.\n",
      "  warn(\"IPython.utils.traitlets has moved to a top-level traitlets package.\")\n"
     ]
    }
   ],
   "source": [
    "%load_ext sql"
   ]
  },
  {
   "cell_type": "code",
   "execution_count": 2,
   "metadata": {},
   "outputs": [
    {
     "data": {
      "text/plain": [
       "u'Connected: gpadmin@madlib'"
      ]
     },
     "execution_count": 2,
     "metadata": {},
     "output_type": "execute_result"
    }
   ],
   "source": [
    "# Greenplum Database 5.x on GCP (PM demo machine) - direct external IP access\n",
    "#%sql postgresql://gpadmin@34.67.65.96:5432/madlib\n",
    "\n",
    "# Greenplum Database 5.x on GCP - via tunnel\n",
    "%sql postgresql://gpadmin@localhost:8000/madlib\n",
    "        \n",
    "# PostgreSQL local\n",
    "#%sql postgresql://fmcquillan@localhost:5432/madlib"
   ]
  },
  {
   "cell_type": "code",
   "execution_count": 3,
   "metadata": {},
   "outputs": [
    {
     "name": "stdout",
     "output_type": "stream",
     "text": [
      "1 rows affected.\n"
     ]
    },
    {
     "data": {
      "text/html": [
       "<table>\n",
       "    <tr>\n",
       "        <th>version</th>\n",
       "    </tr>\n",
       "    <tr>\n",
       "        <td>MADlib version: 1.17-dev, git revision: rel/v1.16-54-gec5614f, cmake configuration time: Wed Dec 18 17:08:05 UTC 2019, build type: release, build system: Linux-3.10.0-1062.4.3.el7.x86_64, C compiler: gcc 4.8.5, C++ compiler: g++ 4.8.5</td>\n",
       "    </tr>\n",
       "</table>"
      ],
      "text/plain": [
       "[(u'MADlib version: 1.17-dev, git revision: rel/v1.16-54-gec5614f, cmake configuration time: Wed Dec 18 17:08:05 UTC 2019, build type: release, build system: Linux-3.10.0-1062.4.3.el7.x86_64, C compiler: gcc 4.8.5, C++ compiler: g++ 4.8.5',)]"
      ]
     },
     "execution_count": 3,
     "metadata": {},
     "output_type": "execute_result"
    }
   ],
   "source": [
    "%sql select madlib.version();\n",
    "#%sql select version();"
   ]
  },
  {
   "cell_type": "markdown",
   "metadata": {},
   "source": [
    "<a id=\"load_data\"></a>\n",
    "# 1. Load data\n",
    "\n",
    "Create an artificial 2x2 resolution color image data set with 3 possible classifications.  The RGB values are per-pixel arrays:"
   ]
  },
  {
   "cell_type": "code",
   "execution_count": 4,
   "metadata": {},
   "outputs": [
    {
     "name": "stdout",
     "output_type": "stream",
     "text": [
      "Done.\n",
      "52 rows affected.\n",
      "52 rows affected.\n"
     ]
    },
    {
     "data": {
      "text/html": [
       "<table>\n",
       "    <tr>\n",
       "        <th>rgb</th>\n",
       "        <th>species</th>\n",
       "    </tr>\n",
       "    <tr>\n",
       "        <td>[[[152, 186, 35], [102, 145, 138]], [[40, 249, 108], [175, 207, 70]]]</td>\n",
       "        <td>cat</td>\n",
       "    </tr>\n",
       "    <tr>\n",
       "        <td>[[[234, 110, 251], [147, 18, 158]], [[55, 79, 14], [140, 50, 143]]]</td>\n",
       "        <td>cat</td>\n",
       "    </tr>\n",
       "    <tr>\n",
       "        <td>[[[179, 202, 20], [219, 198, 173]], [[149, 233, 18], [38, 115, 59]]]</td>\n",
       "        <td>cat</td>\n",
       "    </tr>\n",
       "    <tr>\n",
       "        <td>[[[223, 234, 239], [37, 253, 217]], [[147, 248, 108], [166, 150, 162]]]</td>\n",
       "        <td>bird</td>\n",
       "    </tr>\n",
       "    <tr>\n",
       "        <td>[[[164, 46, 39], [51, 130, 218]], [[253, 150, 181], [195, 66, 75]]]</td>\n",
       "        <td>bird</td>\n",
       "    </tr>\n",
       "    <tr>\n",
       "        <td>[[[85, 113, 32], [144, 145, 255]], [[122, 127, 36], [118, 88, 183]]]</td>\n",
       "        <td>dog</td>\n",
       "    </tr>\n",
       "    <tr>\n",
       "        <td>[[[195, 93, 4], [102, 81, 168]], [[148, 120, 219], [21, 82, 217]]]</td>\n",
       "        <td>bird</td>\n",
       "    </tr>\n",
       "    <tr>\n",
       "        <td>[[[8, 156, 237], [82, 72, 66]], [[196, 104, 210], [84, 103, 75]]]</td>\n",
       "        <td>bird</td>\n",
       "    </tr>\n",
       "    <tr>\n",
       "        <td>[[[139, 194, 43], [66, 48, 239]], [[159, 52, 84], [240, 220, 232]]]</td>\n",
       "        <td>dog</td>\n",
       "    </tr>\n",
       "    <tr>\n",
       "        <td>[[[183, 253, 187], [144, 168, 194]], [[44, 150, 21], [116, 216, 216]]]</td>\n",
       "        <td>bird</td>\n",
       "    </tr>\n",
       "    <tr>\n",
       "        <td>[[[170, 44, 68], [245, 256, 207]], [[183, 43, 17], [231, 25, 176]]]</td>\n",
       "        <td>cat</td>\n",
       "    </tr>\n",
       "    <tr>\n",
       "        <td>[[[110, 160, 246], [85, 9, 173]], [[82, 195, 61], [251, 134, 105]]]</td>\n",
       "        <td>dog</td>\n",
       "    </tr>\n",
       "    <tr>\n",
       "        <td>[[[154, 222, 104], [114, 186, 18]], [[159, 254, 7], [158, 205, 190]]]</td>\n",
       "        <td>bird</td>\n",
       "    </tr>\n",
       "    <tr>\n",
       "        <td>[[[222, 165, 227], [142, 191, 80]], [[46, 182, 165], [55, 99, 248]]]</td>\n",
       "        <td>bird</td>\n",
       "    </tr>\n",
       "    <tr>\n",
       "        <td>[[[161, 243, 128], [10, 131, 26]], [[232, 235, 141], [162, 253, 43]]]</td>\n",
       "        <td>dog</td>\n",
       "    </tr>\n",
       "    <tr>\n",
       "        <td>[[[4, 202, 109], [194, 147, 75]], [[103, 117, 217], [39, 197, 8]]]</td>\n",
       "        <td>bird</td>\n",
       "    </tr>\n",
       "    <tr>\n",
       "        <td>[[[107, 63, 64], [99, 57, 224]], [[86, 185, 234], [216, 212, 210]]]</td>\n",
       "        <td>bird</td>\n",
       "    </tr>\n",
       "    <tr>\n",
       "        <td>[[[96, 116, 192], [140, 21, 196]], [[85, 130, 135], [232, 206, 238]]]</td>\n",
       "        <td>dog</td>\n",
       "    </tr>\n",
       "    <tr>\n",
       "        <td>[[[167, 20, 35], [174, 241, 142]], [[237, 48, 241], [38, 16, 70]]]</td>\n",
       "        <td>bird</td>\n",
       "    </tr>\n",
       "    <tr>\n",
       "        <td>[[[251, 31, 179], [205, 226, 19]], [[65, 162, 159], [86, 103, 244]]]</td>\n",
       "        <td>bird</td>\n",
       "    </tr>\n",
       "    <tr>\n",
       "        <td>[[[237, 220, 166], [219, 58, 77]], [[239, 93, 251], [224, 235, 232]]]</td>\n",
       "        <td>cat</td>\n",
       "    </tr>\n",
       "    <tr>\n",
       "        <td>[[[219, 14, 33], [34, 237, 28]], [[64, 160, 232], [34, 180, 41]]]</td>\n",
       "        <td>bird</td>\n",
       "    </tr>\n",
       "    <tr>\n",
       "        <td>[[[83, 127, 43], [71, 87, 24]], [[35, 253, 243], [93, 74, 227]]]</td>\n",
       "        <td>bird</td>\n",
       "    </tr>\n",
       "    <tr>\n",
       "        <td>[[[69, 195, 165], [45, 212, 129]], [[59, 245, 162], [40, 16, 226]]]</td>\n",
       "        <td>bird</td>\n",
       "    </tr>\n",
       "    <tr>\n",
       "        <td>[[[248, 5, 124], [34, 201, 206]], [[161, 244, 21], [248, 13, 57]]]</td>\n",
       "        <td>bird</td>\n",
       "    </tr>\n",
       "    <tr>\n",
       "        <td>[[[0, 150, 63], [227, 80, 132]], [[166, 245, 176], [121, 118, 235]]]</td>\n",
       "        <td>dog</td>\n",
       "    </tr>\n",
       "    <tr>\n",
       "        <td>[[[104, 42, 37], [143, 227, 111]], [[96, 135, 172], [12, 207, 100]]]</td>\n",
       "        <td>bird</td>\n",
       "    </tr>\n",
       "    <tr>\n",
       "        <td>[[[221, 150, 126], [143, 129, 93]], [[92, 235, 60], [174, 100, 100]]]</td>\n",
       "        <td>bird</td>\n",
       "    </tr>\n",
       "    <tr>\n",
       "        <td>[[[216, 163, 35], [249, 33, 139]], [[35, 70, 26], [6, 181, 122]]]</td>\n",
       "        <td>dog</td>\n",
       "    </tr>\n",
       "    <tr>\n",
       "        <td>[[[97, 134, 93], [198, 94, 57]], [[92, 219, 200], [221, 56, 35]]]</td>\n",
       "        <td>bird</td>\n",
       "    </tr>\n",
       "    <tr>\n",
       "        <td>[[[116, 210, 44], [216, 129, 4]], [[123, 164, 253], [156, 47, 32]]]</td>\n",
       "        <td>bird</td>\n",
       "    </tr>\n",
       "    <tr>\n",
       "        <td>[[[73, 39, 151], [196, 180, 248]], [[74, 16, 190], [168, 74, 26]]]</td>\n",
       "        <td>dog</td>\n",
       "    </tr>\n",
       "    <tr>\n",
       "        <td>[[[18, 246, 187], [53, 190, 47]], [[7, 234, 8], [136, 238, 131]]]</td>\n",
       "        <td>cat</td>\n",
       "    </tr>\n",
       "    <tr>\n",
       "        <td>[[[235, 31, 91], [11, 1, 164]], [[49, 152, 103], [229, 144, 177]]]</td>\n",
       "        <td>bird</td>\n",
       "    </tr>\n",
       "    <tr>\n",
       "        <td>[[[78, 89, 63], [104, 220, 81]], [[94, 151, 134], [28, 199, 141]]]</td>\n",
       "        <td>cat</td>\n",
       "    </tr>\n",
       "    <tr>\n",
       "        <td>[[[206, 21, 244], [81, 65, 223]], [[112, 155, 234], [113, 63, 27]]]</td>\n",
       "        <td>cat</td>\n",
       "    </tr>\n",
       "    <tr>\n",
       "        <td>[[[166, 1, 152], [88, 246, 230]], [[176, 54, 78], [140, 135, 172]]]</td>\n",
       "        <td>cat</td>\n",
       "    </tr>\n",
       "    <tr>\n",
       "        <td>[[[13, 200, 234], [155, 207, 185]], [[176, 195, 10], [240, 162, 122]]]</td>\n",
       "        <td>dog</td>\n",
       "    </tr>\n",
       "    <tr>\n",
       "        <td>[[[140, 235, 202], [167, 244, 113]], [[168, 140, 200], [158, 114, 121]]]</td>\n",
       "        <td>bird</td>\n",
       "    </tr>\n",
       "    <tr>\n",
       "        <td>[[[192, 5, 91], [108, 41, 104]], [[52, 19, 3], [3, 204, 178]]]</td>\n",
       "        <td>bird</td>\n",
       "    </tr>\n",
       "    <tr>\n",
       "        <td>[[[214, 162, 103], [80, 46, 243]], [[60, 248, 154], [47, 105, 65]]]</td>\n",
       "        <td>bird</td>\n",
       "    </tr>\n",
       "    <tr>\n",
       "        <td>[[[49, 223, 45], [170, 179, 237]], [[175, 14, 89], [216, 118, 141]]]</td>\n",
       "        <td>bird</td>\n",
       "    </tr>\n",
       "    <tr>\n",
       "        <td>[[[121, 144, 183], [43, 86, 141]], [[205, 189, 221], [251, 176, 25]]]</td>\n",
       "        <td>bird</td>\n",
       "    </tr>\n",
       "    <tr>\n",
       "        <td>[[[74, 72, 92], [139, 3, 141]], [[106, 48, 55], [29, 30, 230]]]</td>\n",
       "        <td>cat</td>\n",
       "    </tr>\n",
       "    <tr>\n",
       "        <td>[[[119, 190, 161], [4, 168, 25]], [[148, 95, 68], [234, 236, 17]]]</td>\n",
       "        <td>dog</td>\n",
       "    </tr>\n",
       "    <tr>\n",
       "        <td>[[[201, 13, 87], [226, 256, 161]], [[42, 92, 44], [45, 233, 150]]]</td>\n",
       "        <td>dog</td>\n",
       "    </tr>\n",
       "    <tr>\n",
       "        <td>[[[33, 179, 122], [7, 222, 241]], [[196, 127, 246], [108, 152, 138]]]</td>\n",
       "        <td>bird</td>\n",
       "    </tr>\n",
       "    <tr>\n",
       "        <td>[[[220, 116, 183], [237, 27, 128]], [[250, 115, 98], [250, 19, 140]]]</td>\n",
       "        <td>dog</td>\n",
       "    </tr>\n",
       "    <tr>\n",
       "        <td>[[[64, 184, 64], [214, 21, 96]], [[137, 143, 103], [103, 129, 43]]]</td>\n",
       "        <td>bird</td>\n",
       "    </tr>\n",
       "    <tr>\n",
       "        <td>[[[118, 151, 126], [1, 99, 90]], [[117, 26, 71], [144, 154, 65]]]</td>\n",
       "        <td>cat</td>\n",
       "    </tr>\n",
       "    <tr>\n",
       "        <td>[[[252, 59, 22], [136, 146, 86]], [[64, 209, 43], [85, 49, 181]]]</td>\n",
       "        <td>bird</td>\n",
       "    </tr>\n",
       "    <tr>\n",
       "        <td>[[[152, 28, 101], [195, 2, 220]], [[91, 128, 220], [189, 218, 81]]]</td>\n",
       "        <td>bird</td>\n",
       "    </tr>\n",
       "</table>"
      ],
      "text/plain": [
       "[([[[152, 186, 35], [102, 145, 138]], [[40, 249, 108], [175, 207, 70]]], u'cat'),\n",
       " ([[[234, 110, 251], [147, 18, 158]], [[55, 79, 14], [140, 50, 143]]], u'cat'),\n",
       " ([[[179, 202, 20], [219, 198, 173]], [[149, 233, 18], [38, 115, 59]]], u'cat'),\n",
       " ([[[223, 234, 239], [37, 253, 217]], [[147, 248, 108], [166, 150, 162]]], u'bird'),\n",
       " ([[[164, 46, 39], [51, 130, 218]], [[253, 150, 181], [195, 66, 75]]], u'bird'),\n",
       " ([[[85, 113, 32], [144, 145, 255]], [[122, 127, 36], [118, 88, 183]]], u'dog'),\n",
       " ([[[195, 93, 4], [102, 81, 168]], [[148, 120, 219], [21, 82, 217]]], u'bird'),\n",
       " ([[[8, 156, 237], [82, 72, 66]], [[196, 104, 210], [84, 103, 75]]], u'bird'),\n",
       " ([[[139, 194, 43], [66, 48, 239]], [[159, 52, 84], [240, 220, 232]]], u'dog'),\n",
       " ([[[183, 253, 187], [144, 168, 194]], [[44, 150, 21], [116, 216, 216]]], u'bird'),\n",
       " ([[[170, 44, 68], [245, 256, 207]], [[183, 43, 17], [231, 25, 176]]], u'cat'),\n",
       " ([[[110, 160, 246], [85, 9, 173]], [[82, 195, 61], [251, 134, 105]]], u'dog'),\n",
       " ([[[154, 222, 104], [114, 186, 18]], [[159, 254, 7], [158, 205, 190]]], u'bird'),\n",
       " ([[[222, 165, 227], [142, 191, 80]], [[46, 182, 165], [55, 99, 248]]], u'bird'),\n",
       " ([[[161, 243, 128], [10, 131, 26]], [[232, 235, 141], [162, 253, 43]]], u'dog'),\n",
       " ([[[4, 202, 109], [194, 147, 75]], [[103, 117, 217], [39, 197, 8]]], u'bird'),\n",
       " ([[[107, 63, 64], [99, 57, 224]], [[86, 185, 234], [216, 212, 210]]], u'bird'),\n",
       " ([[[96, 116, 192], [140, 21, 196]], [[85, 130, 135], [232, 206, 238]]], u'dog'),\n",
       " ([[[167, 20, 35], [174, 241, 142]], [[237, 48, 241], [38, 16, 70]]], u'bird'),\n",
       " ([[[251, 31, 179], [205, 226, 19]], [[65, 162, 159], [86, 103, 244]]], u'bird'),\n",
       " ([[[237, 220, 166], [219, 58, 77]], [[239, 93, 251], [224, 235, 232]]], u'cat'),\n",
       " ([[[219, 14, 33], [34, 237, 28]], [[64, 160, 232], [34, 180, 41]]], u'bird'),\n",
       " ([[[83, 127, 43], [71, 87, 24]], [[35, 253, 243], [93, 74, 227]]], u'bird'),\n",
       " ([[[69, 195, 165], [45, 212, 129]], [[59, 245, 162], [40, 16, 226]]], u'bird'),\n",
       " ([[[248, 5, 124], [34, 201, 206]], [[161, 244, 21], [248, 13, 57]]], u'bird'),\n",
       " ([[[0, 150, 63], [227, 80, 132]], [[166, 245, 176], [121, 118, 235]]], u'dog'),\n",
       " ([[[104, 42, 37], [143, 227, 111]], [[96, 135, 172], [12, 207, 100]]], u'bird'),\n",
       " ([[[221, 150, 126], [143, 129, 93]], [[92, 235, 60], [174, 100, 100]]], u'bird'),\n",
       " ([[[216, 163, 35], [249, 33, 139]], [[35, 70, 26], [6, 181, 122]]], u'dog'),\n",
       " ([[[97, 134, 93], [198, 94, 57]], [[92, 219, 200], [221, 56, 35]]], u'bird'),\n",
       " ([[[116, 210, 44], [216, 129, 4]], [[123, 164, 253], [156, 47, 32]]], u'bird'),\n",
       " ([[[73, 39, 151], [196, 180, 248]], [[74, 16, 190], [168, 74, 26]]], u'dog'),\n",
       " ([[[18, 246, 187], [53, 190, 47]], [[7, 234, 8], [136, 238, 131]]], u'cat'),\n",
       " ([[[235, 31, 91], [11, 1, 164]], [[49, 152, 103], [229, 144, 177]]], u'bird'),\n",
       " ([[[78, 89, 63], [104, 220, 81]], [[94, 151, 134], [28, 199, 141]]], u'cat'),\n",
       " ([[[206, 21, 244], [81, 65, 223]], [[112, 155, 234], [113, 63, 27]]], u'cat'),\n",
       " ([[[166, 1, 152], [88, 246, 230]], [[176, 54, 78], [140, 135, 172]]], u'cat'),\n",
       " ([[[13, 200, 234], [155, 207, 185]], [[176, 195, 10], [240, 162, 122]]], u'dog'),\n",
       " ([[[140, 235, 202], [167, 244, 113]], [[168, 140, 200], [158, 114, 121]]], u'bird'),\n",
       " ([[[192, 5, 91], [108, 41, 104]], [[52, 19, 3], [3, 204, 178]]], u'bird'),\n",
       " ([[[214, 162, 103], [80, 46, 243]], [[60, 248, 154], [47, 105, 65]]], u'bird'),\n",
       " ([[[49, 223, 45], [170, 179, 237]], [[175, 14, 89], [216, 118, 141]]], u'bird'),\n",
       " ([[[121, 144, 183], [43, 86, 141]], [[205, 189, 221], [251, 176, 25]]], u'bird'),\n",
       " ([[[74, 72, 92], [139, 3, 141]], [[106, 48, 55], [29, 30, 230]]], u'cat'),\n",
       " ([[[119, 190, 161], [4, 168, 25]], [[148, 95, 68], [234, 236, 17]]], u'dog'),\n",
       " ([[[201, 13, 87], [226, 256, 161]], [[42, 92, 44], [45, 233, 150]]], u'dog'),\n",
       " ([[[33, 179, 122], [7, 222, 241]], [[196, 127, 246], [108, 152, 138]]], u'bird'),\n",
       " ([[[220, 116, 183], [237, 27, 128]], [[250, 115, 98], [250, 19, 140]]], u'dog'),\n",
       " ([[[64, 184, 64], [214, 21, 96]], [[137, 143, 103], [103, 129, 43]]], u'bird'),\n",
       " ([[[118, 151, 126], [1, 99, 90]], [[117, 26, 71], [144, 154, 65]]], u'cat'),\n",
       " ([[[252, 59, 22], [136, 146, 86]], [[64, 209, 43], [85, 49, 181]]], u'bird'),\n",
       " ([[[152, 28, 101], [195, 2, 220]], [[91, 128, 220], [189, 218, 81]]], u'bird')]"
      ]
     },
     "execution_count": 4,
     "metadata": {},
     "output_type": "execute_result"
    }
   ],
   "source": [
    "%%sql\n",
    "DROP TABLE IF EXISTS image_data;\n",
    "\n",
    "CREATE TABLE image_data AS (\n",
    "    SELECT ARRAY[\n",
    "        ARRAY[\n",
    "            ARRAY[(random() * 256)::integer, -- pixel (1,1)\n",
    "                (random() * 256)::integer,\n",
    "                (random() * 256)::integer],\n",
    "            ARRAY[(random() * 256)::integer, -- pixel (2,1)\n",
    "                (random() * 256)::integer,\n",
    "                (random() * 256)::integer]\n",
    "        ],\n",
    "        ARRAY[\n",
    "            ARRAY[(random() * 256)::integer, -- pixel (1,2)\n",
    "                (random() * 256)::integer,\n",
    "                (random() * 256)::integer],\n",
    "            ARRAY[(random() * 256)::integer, -- pixel (2,1)\n",
    "                (random() * 256)::integer,\n",
    "                (random() * 256)::integer]\n",
    "        ]\n",
    "    ] as rgb, ('{cat,dog,bird}'::text[])[ceil(random()*3)] as species\n",
    "    FROM generate_series(1, 52)\n",
    ");\n",
    "\n",
    "SELECT * FROM image_data;"
   ]
  },
  {
   "cell_type": "markdown",
   "metadata": {},
   "source": [
    "<a id=\"pp_train\"></a>\n",
    "# 2.  Run preprocessor for training image data\n",
    "\n",
    "Run the preprocessor to generate the packed output table:"
   ]
  },
  {
   "cell_type": "code",
   "execution_count": 5,
   "metadata": {},
   "outputs": [
    {
     "name": "stdout",
     "output_type": "stream",
     "text": [
      "Done.\n",
      "1 rows affected.\n",
      "2 rows affected.\n"
     ]
    },
    {
     "data": {
      "text/html": [
       "<table>\n",
       "    <tr>\n",
       "        <th>independent_var_shape</th>\n",
       "        <th>dependent_var_shape</th>\n",
       "        <th>buffer_id</th>\n",
       "    </tr>\n",
       "    <tr>\n",
       "        <td>[26, 2, 2, 3]</td>\n",
       "        <td>[26, 3]</td>\n",
       "        <td>0</td>\n",
       "    </tr>\n",
       "    <tr>\n",
       "        <td>[26, 2, 2, 3]</td>\n",
       "        <td>[26, 3]</td>\n",
       "        <td>1</td>\n",
       "    </tr>\n",
       "</table>"
      ],
      "text/plain": [
       "[([26, 2, 2, 3], [26, 3], 0), ([26, 2, 2, 3], [26, 3], 1)]"
      ]
     },
     "execution_count": 5,
     "metadata": {},
     "output_type": "execute_result"
    }
   ],
   "source": [
    "%%sql\n",
    "DROP TABLE IF EXISTS image_data_packed, image_data_packed_summary;\n",
    "\n",
    "SELECT madlib.training_preprocessor_dl('image_data',         -- Source table\n",
    "                                        'image_data_packed',  -- Output table\n",
    "                                        'species',            -- Dependent variable\n",
    "                                        'rgb',                -- Independent variable\n",
    "                                        NULL,                 -- Buffer size\n",
    "                                        255                   -- Normalizing constant\n",
    "                                        );\n",
    "\n",
    "SELECT independent_var_shape, dependent_var_shape, buffer_id FROM image_data_packed ORDER BY buffer_id;"
   ]
  },
  {
   "cell_type": "markdown",
   "metadata": {},
   "source": [
    "For small datasets like in this example, buffer size is mainly determined by the number of segments in the database. For a Greenplum database with 2 segments, there will be 2 rows with a buffer size of 26. For PostgresSQL, there would be only one row with a buffer size of 52 since it is a single node database. For larger data sets, other factors go into computing buffers size besides number of segments. \n",
    "\n",
    "Review the output summary table:"
   ]
  },
  {
   "cell_type": "code",
   "execution_count": 6,
   "metadata": {},
   "outputs": [
    {
     "name": "stdout",
     "output_type": "stream",
     "text": [
      "1 rows affected.\n"
     ]
    },
    {
     "data": {
      "text/html": [
       "<table>\n",
       "    <tr>\n",
       "        <th>source_table</th>\n",
       "        <th>output_table</th>\n",
       "        <th>dependent_varname</th>\n",
       "        <th>independent_varname</th>\n",
       "        <th>dependent_vartype</th>\n",
       "        <th>class_values</th>\n",
       "        <th>buffer_size</th>\n",
       "        <th>normalizing_const</th>\n",
       "        <th>num_classes</th>\n",
       "        <th>distribution_rules</th>\n",
       "        <th>__internal_gpu_config__</th>\n",
       "    </tr>\n",
       "    <tr>\n",
       "        <td>image_data</td>\n",
       "        <td>image_data_packed</td>\n",
       "        <td>species</td>\n",
       "        <td>rgb</td>\n",
       "        <td>text</td>\n",
       "        <td>[u'bird', u'cat', u'dog']</td>\n",
       "        <td>26</td>\n",
       "        <td>255.0</td>\n",
       "        <td>3</td>\n",
       "        <td>all_segments</td>\n",
       "        <td>all_segments</td>\n",
       "    </tr>\n",
       "</table>"
      ],
      "text/plain": [
       "[(u'image_data', u'image_data_packed', u'species', u'rgb', u'text', [u'bird', u'cat', u'dog'], 26, 255.0, 3, 'all_segments', 'all_segments')]"
      ]
     },
     "execution_count": 6,
     "metadata": {},
     "output_type": "execute_result"
    }
   ],
   "source": [
    "%%sql\n",
    "SELECT * FROM image_data_packed_summary;"
   ]
  },
  {
   "cell_type": "markdown",
   "metadata": {},
   "source": [
    "<a id=\"pp_val\"></a>\n",
    "# 3.  Run preprocessor for validation image data\n",
    "\n",
    "Run the preprocessor for the validation dataset. In this example, we use the same images for validation to demonstrate, but normally validation data is different than training data:"
   ]
  },
  {
   "cell_type": "code",
   "execution_count": 7,
   "metadata": {},
   "outputs": [
    {
     "name": "stdout",
     "output_type": "stream",
     "text": [
      "Done.\n",
      "1 rows affected.\n",
      "2 rows affected.\n"
     ]
    },
    {
     "data": {
      "text/html": [
       "<table>\n",
       "    <tr>\n",
       "        <th>independent_var_shape</th>\n",
       "        <th>dependent_var_shape</th>\n",
       "        <th>buffer_id</th>\n",
       "    </tr>\n",
       "    <tr>\n",
       "        <td>[26, 2, 2, 3]</td>\n",
       "        <td>[26, 3]</td>\n",
       "        <td>0</td>\n",
       "    </tr>\n",
       "    <tr>\n",
       "        <td>[26, 2, 2, 3]</td>\n",
       "        <td>[26, 3]</td>\n",
       "        <td>1</td>\n",
       "    </tr>\n",
       "</table>"
      ],
      "text/plain": [
       "[([26, 2, 2, 3], [26, 3], 0), ([26, 2, 2, 3], [26, 3], 1)]"
      ]
     },
     "execution_count": 7,
     "metadata": {},
     "output_type": "execute_result"
    }
   ],
   "source": [
    "%%sql\n",
    "DROP TABLE IF EXISTS val_image_data_packed, val_image_data_packed_summary;\n",
    "SELECT madlib.validation_preprocessor_dl(\n",
    "      'image_data',             -- Source table\n",
    "      'val_image_data_packed',  -- Output table\n",
    "      'species',                -- Dependent variable\n",
    "      'rgb',                    -- Independent variable\n",
    "      'image_data_packed',      -- From training preprocessor step\n",
    "      NULL                      -- Buffer size\n",
    "      ); \n",
    "SELECT independent_var_shape, dependent_var_shape, buffer_id FROM val_image_data_packed ORDER BY buffer_id;"
   ]
  },
  {
   "cell_type": "markdown",
   "metadata": {},
   "source": [
    "Review the output summary table:"
   ]
  },
  {
   "cell_type": "code",
   "execution_count": 8,
   "metadata": {},
   "outputs": [
    {
     "name": "stdout",
     "output_type": "stream",
     "text": [
      "1 rows affected.\n"
     ]
    },
    {
     "data": {
      "text/html": [
       "<table>\n",
       "    <tr>\n",
       "        <th>source_table</th>\n",
       "        <th>output_table</th>\n",
       "        <th>dependent_varname</th>\n",
       "        <th>independent_varname</th>\n",
       "        <th>dependent_vartype</th>\n",
       "        <th>class_values</th>\n",
       "        <th>buffer_size</th>\n",
       "        <th>normalizing_const</th>\n",
       "        <th>num_classes</th>\n",
       "        <th>distribution_rules</th>\n",
       "        <th>__internal_gpu_config__</th>\n",
       "    </tr>\n",
       "    <tr>\n",
       "        <td>image_data</td>\n",
       "        <td>val_image_data_packed</td>\n",
       "        <td>species</td>\n",
       "        <td>rgb</td>\n",
       "        <td>text</td>\n",
       "        <td>[u'bird', u'cat', u'dog']</td>\n",
       "        <td>26</td>\n",
       "        <td>255.0</td>\n",
       "        <td>3</td>\n",
       "        <td>all_segments</td>\n",
       "        <td>all_segments</td>\n",
       "    </tr>\n",
       "</table>"
      ],
      "text/plain": [
       "[(u'image_data', u'val_image_data_packed', u'species', u'rgb', u'text', [u'bird', u'cat', u'dog'], 26, 255.0, 3, 'all_segments', 'all_segments')]"
      ]
     },
     "execution_count": 8,
     "metadata": {},
     "output_type": "execute_result"
    }
   ],
   "source": [
    "%%sql\n",
    "SELECT * FROM val_image_data_packed_summary;"
   ]
  },
  {
   "cell_type": "markdown",
   "metadata": {},
   "source": [
    "<a id=\"load_data2\"></a>\n",
    "# 4. Load data, another format\n",
    "Create an artificial 2x2 resolution color image data set with 3 possible classifications.  The RGB values are unrolled in to a flat array:"
   ]
  },
  {
   "cell_type": "code",
   "execution_count": 9,
   "metadata": {},
   "outputs": [
    {
     "name": "stdout",
     "output_type": "stream",
     "text": [
      "Done.\n",
      "52 rows affected.\n",
      "52 rows affected.\n"
     ]
    },
    {
     "data": {
      "text/html": [
       "<table>\n",
       "    <tr>\n",
       "        <th>rgb</th>\n",
       "        <th>species</th>\n",
       "    </tr>\n",
       "    <tr>\n",
       "        <td>[19, 126, 250, 219, 119, 255, 86, 152, 200, 36, 57, 188]</td>\n",
       "        <td>cat</td>\n",
       "    </tr>\n",
       "    <tr>\n",
       "        <td>[49, 201, 114, 38, 201, 8, 101, 172, 88, 233, 82, 78]</td>\n",
       "        <td>dog</td>\n",
       "    </tr>\n",
       "    <tr>\n",
       "        <td>[203, 196, 132, 57, 220, 151, 183, 214, 113, 46, 213, 200]</td>\n",
       "        <td>bird</td>\n",
       "    </tr>\n",
       "    <tr>\n",
       "        <td>[157, 236, 255, 90, 38, 48, 35, 152, 86, 236, 160, 187]</td>\n",
       "        <td>dog</td>\n",
       "    </tr>\n",
       "    <tr>\n",
       "        <td>[248, 164, 234, 70, 61, 181, 10, 193, 238, 229, 88, 165]</td>\n",
       "        <td>bird</td>\n",
       "    </tr>\n",
       "    <tr>\n",
       "        <td>[201, 210, 145, 145, 152, 46, 125, 151, 135, 163, 199, 170]</td>\n",
       "        <td>cat</td>\n",
       "    </tr>\n",
       "    <tr>\n",
       "        <td>[29, 150, 219, 216, 46, 211, 124, 24, 25, 186, 205, 35]</td>\n",
       "        <td>dog</td>\n",
       "    </tr>\n",
       "    <tr>\n",
       "        <td>[187, 8, 211, 95, 196, 156, 50, 84, 45, 202, 130, 170]</td>\n",
       "        <td>dog</td>\n",
       "    </tr>\n",
       "    <tr>\n",
       "        <td>[9, 77, 40, 179, 136, 69, 74, 98, 29, 120, 53, 153]</td>\n",
       "        <td>dog</td>\n",
       "    </tr>\n",
       "    <tr>\n",
       "        <td>[78, 83, 93, 113, 206, 23, 121, 160, 119, 61, 60, 168]</td>\n",
       "        <td>dog</td>\n",
       "    </tr>\n",
       "    <tr>\n",
       "        <td>[105, 114, 19, 19, 211, 28, 96, 251, 208, 232, 64, 25]</td>\n",
       "        <td>cat</td>\n",
       "    </tr>\n",
       "    <tr>\n",
       "        <td>[93, 145, 128, 246, 33, 206, 73, 126, 63, 22, 150, 184]</td>\n",
       "        <td>bird</td>\n",
       "    </tr>\n",
       "    <tr>\n",
       "        <td>[12, 245, 243, 181, 134, 92, 39, 153, 112, 250, 181, 208]</td>\n",
       "        <td>bird</td>\n",
       "    </tr>\n",
       "    <tr>\n",
       "        <td>[133, 184, 53, 158, 3, 145, 47, 130, 135, 81, 80, 208]</td>\n",
       "        <td>bird</td>\n",
       "    </tr>\n",
       "    <tr>\n",
       "        <td>[143, 230, 101, 71, 156, 113, 61, 143, 37, 195, 235, 76]</td>\n",
       "        <td>dog</td>\n",
       "    </tr>\n",
       "    <tr>\n",
       "        <td>[91, 70, 17, 43, 59, 150, 227, 111, 53, 229, 0, 100]</td>\n",
       "        <td>dog</td>\n",
       "    </tr>\n",
       "    <tr>\n",
       "        <td>[136, 181, 184, 87, 132, 71, 61, 232, 143, 218, 89, 203]</td>\n",
       "        <td>dog</td>\n",
       "    </tr>\n",
       "    <tr>\n",
       "        <td>[126, 142, 84, 203, 234, 175, 17, 251, 217, 75, 145, 188]</td>\n",
       "        <td>bird</td>\n",
       "    </tr>\n",
       "    <tr>\n",
       "        <td>[198, 162, 187, 42, 9, 67, 223, 193, 154, 99, 9, 215]</td>\n",
       "        <td>cat</td>\n",
       "    </tr>\n",
       "    <tr>\n",
       "        <td>[151, 177, 164, 98, 25, 35, 240, 109, 237, 218, 28, 254]</td>\n",
       "        <td>bird</td>\n",
       "    </tr>\n",
       "    <tr>\n",
       "        <td>[246, 73, 102, 178, 4, 45, 84, 191, 87, 93, 2, 54]</td>\n",
       "        <td>cat</td>\n",
       "    </tr>\n",
       "    <tr>\n",
       "        <td>[156, 153, 39, 115, 228, 190, 35, 136, 32, 61, 171, 16]</td>\n",
       "        <td>dog</td>\n",
       "    </tr>\n",
       "    <tr>\n",
       "        <td>[152, 234, 198, 149, 191, 188, 222, 37, 110, 226, 82, 194]</td>\n",
       "        <td>dog</td>\n",
       "    </tr>\n",
       "    <tr>\n",
       "        <td>[169, 31, 163, 222, 61, 62, 119, 100, 177, 91, 34, 213]</td>\n",
       "        <td>bird</td>\n",
       "    </tr>\n",
       "    <tr>\n",
       "        <td>[67, 17, 141, 83, 188, 37, 61, 130, 187, 252, 62, 153]</td>\n",
       "        <td>cat</td>\n",
       "    </tr>\n",
       "    <tr>\n",
       "        <td>[172, 123, 115, 110, 28, 28, 140, 191, 250, 202, 253, 113]</td>\n",
       "        <td>cat</td>\n",
       "    </tr>\n",
       "    <tr>\n",
       "        <td>[225, 113, 99, 228, 109, 158, 250, 245, 47, 79, 52, 1]</td>\n",
       "        <td>dog</td>\n",
       "    </tr>\n",
       "    <tr>\n",
       "        <td>[137, 50, 48, 110, 202, 76, 211, 142, 78, 174, 232, 206]</td>\n",
       "        <td>dog</td>\n",
       "    </tr>\n",
       "    <tr>\n",
       "        <td>[166, 168, 219, 125, 201, 188, 238, 44, 160, 92, 202, 153]</td>\n",
       "        <td>cat</td>\n",
       "    </tr>\n",
       "    <tr>\n",
       "        <td>[249, 233, 133, 249, 100, 14, 43, 147, 124, 246, 223, 78]</td>\n",
       "        <td>dog</td>\n",
       "    </tr>\n",
       "    <tr>\n",
       "        <td>[45, 253, 108, 251, 135, 18, 163, 98, 143, 108, 30, 126]</td>\n",
       "        <td>dog</td>\n",
       "    </tr>\n",
       "    <tr>\n",
       "        <td>[190, 217, 97, 87, 41, 90, 64, 174, 84, 164, 188, 127]</td>\n",
       "        <td>cat</td>\n",
       "    </tr>\n",
       "    <tr>\n",
       "        <td>[56, 117, 22, 134, 249, 67, 130, 101, 62, 9, 119, 225]</td>\n",
       "        <td>dog</td>\n",
       "    </tr>\n",
       "    <tr>\n",
       "        <td>[6, 78, 138, 132, 230, 72, 93, 71, 159, 134, 161, 223]</td>\n",
       "        <td>cat</td>\n",
       "    </tr>\n",
       "    <tr>\n",
       "        <td>[245, 131, 240, 116, 186, 40, 233, 209, 174, 226, 20, 48]</td>\n",
       "        <td>cat</td>\n",
       "    </tr>\n",
       "    <tr>\n",
       "        <td>[82, 57, 189, 52, 165, 195, 129, 46, 71, 103, 118, 163]</td>\n",
       "        <td>bird</td>\n",
       "    </tr>\n",
       "    <tr>\n",
       "        <td>[21, 41, 79, 244, 93, 68, 120, 78, 184, 50, 117, 161]</td>\n",
       "        <td>cat</td>\n",
       "    </tr>\n",
       "    <tr>\n",
       "        <td>[35, 131, 23, 83, 201, 105, 140, 134, 157, 48, 73, 30]</td>\n",
       "        <td>dog</td>\n",
       "    </tr>\n",
       "    <tr>\n",
       "        <td>[144, 133, 213, 51, 51, 234, 93, 130, 222, 186, 198, 86]</td>\n",
       "        <td>cat</td>\n",
       "    </tr>\n",
       "    <tr>\n",
       "        <td>[126, 136, 125, 31, 139, 160, 161, 162, 242, 106, 11, 126]</td>\n",
       "        <td>bird</td>\n",
       "    </tr>\n",
       "    <tr>\n",
       "        <td>[168, 174, 58, 198, 13, 202, 75, 226, 254, 126, 204, 90]</td>\n",
       "        <td>bird</td>\n",
       "    </tr>\n",
       "    <tr>\n",
       "        <td>[170, 20, 197, 1, 28, 67, 137, 153, 97, 20, 57, 3]</td>\n",
       "        <td>bird</td>\n",
       "    </tr>\n",
       "    <tr>\n",
       "        <td>[43, 109, 193, 169, 94, 105, 88, 152, 46, 101, 98, 121]</td>\n",
       "        <td>cat</td>\n",
       "    </tr>\n",
       "    <tr>\n",
       "        <td>[95, 247, 19, 186, 247, 189, 206, 188, 190, 234, 254, 70]</td>\n",
       "        <td>dog</td>\n",
       "    </tr>\n",
       "    <tr>\n",
       "        <td>[96, 90, 188, 98, 16, 231, 207, 209, 145, 45, 58, 232]</td>\n",
       "        <td>bird</td>\n",
       "    </tr>\n",
       "    <tr>\n",
       "        <td>[104, 77, 39, 226, 148, 134, 217, 166, 64, 207, 99, 14]</td>\n",
       "        <td>dog</td>\n",
       "    </tr>\n",
       "    <tr>\n",
       "        <td>[33, 248, 137, 103, 124, 233, 194, 56, 75, 210, 32, 27]</td>\n",
       "        <td>dog</td>\n",
       "    </tr>\n",
       "    <tr>\n",
       "        <td>[176, 72, 221, 152, 12, 70, 229, 51, 39, 121, 185, 0]</td>\n",
       "        <td>cat</td>\n",
       "    </tr>\n",
       "    <tr>\n",
       "        <td>[249, 207, 131, 7, 90, 164, 255, 228, 11, 123, 205, 205]</td>\n",
       "        <td>bird</td>\n",
       "    </tr>\n",
       "    <tr>\n",
       "        <td>[25, 160, 211, 51, 67, 131, 123, 33, 28, 135, 102, 1]</td>\n",
       "        <td>bird</td>\n",
       "    </tr>\n",
       "    <tr>\n",
       "        <td>[142, 122, 115, 142, 154, 108, 93, 29, 115, 184, 193, 114]</td>\n",
       "        <td>dog</td>\n",
       "    </tr>\n",
       "    <tr>\n",
       "        <td>[204, 237, 105, 153, 161, 129, 57, 116, 181, 124, 247, 47]</td>\n",
       "        <td>dog</td>\n",
       "    </tr>\n",
       "</table>"
      ],
      "text/plain": [
       "[([19, 126, 250, 219, 119, 255, 86, 152, 200, 36, 57, 188], u'cat'),\n",
       " ([49, 201, 114, 38, 201, 8, 101, 172, 88, 233, 82, 78], u'dog'),\n",
       " ([203, 196, 132, 57, 220, 151, 183, 214, 113, 46, 213, 200], u'bird'),\n",
       " ([157, 236, 255, 90, 38, 48, 35, 152, 86, 236, 160, 187], u'dog'),\n",
       " ([248, 164, 234, 70, 61, 181, 10, 193, 238, 229, 88, 165], u'bird'),\n",
       " ([201, 210, 145, 145, 152, 46, 125, 151, 135, 163, 199, 170], u'cat'),\n",
       " ([29, 150, 219, 216, 46, 211, 124, 24, 25, 186, 205, 35], u'dog'),\n",
       " ([187, 8, 211, 95, 196, 156, 50, 84, 45, 202, 130, 170], u'dog'),\n",
       " ([9, 77, 40, 179, 136, 69, 74, 98, 29, 120, 53, 153], u'dog'),\n",
       " ([78, 83, 93, 113, 206, 23, 121, 160, 119, 61, 60, 168], u'dog'),\n",
       " ([105, 114, 19, 19, 211, 28, 96, 251, 208, 232, 64, 25], u'cat'),\n",
       " ([93, 145, 128, 246, 33, 206, 73, 126, 63, 22, 150, 184], u'bird'),\n",
       " ([12, 245, 243, 181, 134, 92, 39, 153, 112, 250, 181, 208], u'bird'),\n",
       " ([133, 184, 53, 158, 3, 145, 47, 130, 135, 81, 80, 208], u'bird'),\n",
       " ([143, 230, 101, 71, 156, 113, 61, 143, 37, 195, 235, 76], u'dog'),\n",
       " ([91, 70, 17, 43, 59, 150, 227, 111, 53, 229, 0, 100], u'dog'),\n",
       " ([136, 181, 184, 87, 132, 71, 61, 232, 143, 218, 89, 203], u'dog'),\n",
       " ([126, 142, 84, 203, 234, 175, 17, 251, 217, 75, 145, 188], u'bird'),\n",
       " ([198, 162, 187, 42, 9, 67, 223, 193, 154, 99, 9, 215], u'cat'),\n",
       " ([151, 177, 164, 98, 25, 35, 240, 109, 237, 218, 28, 254], u'bird'),\n",
       " ([246, 73, 102, 178, 4, 45, 84, 191, 87, 93, 2, 54], u'cat'),\n",
       " ([156, 153, 39, 115, 228, 190, 35, 136, 32, 61, 171, 16], u'dog'),\n",
       " ([152, 234, 198, 149, 191, 188, 222, 37, 110, 226, 82, 194], u'dog'),\n",
       " ([169, 31, 163, 222, 61, 62, 119, 100, 177, 91, 34, 213], u'bird'),\n",
       " ([67, 17, 141, 83, 188, 37, 61, 130, 187, 252, 62, 153], u'cat'),\n",
       " ([172, 123, 115, 110, 28, 28, 140, 191, 250, 202, 253, 113], u'cat'),\n",
       " ([225, 113, 99, 228, 109, 158, 250, 245, 47, 79, 52, 1], u'dog'),\n",
       " ([137, 50, 48, 110, 202, 76, 211, 142, 78, 174, 232, 206], u'dog'),\n",
       " ([166, 168, 219, 125, 201, 188, 238, 44, 160, 92, 202, 153], u'cat'),\n",
       " ([249, 233, 133, 249, 100, 14, 43, 147, 124, 246, 223, 78], u'dog'),\n",
       " ([45, 253, 108, 251, 135, 18, 163, 98, 143, 108, 30, 126], u'dog'),\n",
       " ([190, 217, 97, 87, 41, 90, 64, 174, 84, 164, 188, 127], u'cat'),\n",
       " ([56, 117, 22, 134, 249, 67, 130, 101, 62, 9, 119, 225], u'dog'),\n",
       " ([6, 78, 138, 132, 230, 72, 93, 71, 159, 134, 161, 223], u'cat'),\n",
       " ([245, 131, 240, 116, 186, 40, 233, 209, 174, 226, 20, 48], u'cat'),\n",
       " ([82, 57, 189, 52, 165, 195, 129, 46, 71, 103, 118, 163], u'bird'),\n",
       " ([21, 41, 79, 244, 93, 68, 120, 78, 184, 50, 117, 161], u'cat'),\n",
       " ([35, 131, 23, 83, 201, 105, 140, 134, 157, 48, 73, 30], u'dog'),\n",
       " ([144, 133, 213, 51, 51, 234, 93, 130, 222, 186, 198, 86], u'cat'),\n",
       " ([126, 136, 125, 31, 139, 160, 161, 162, 242, 106, 11, 126], u'bird'),\n",
       " ([168, 174, 58, 198, 13, 202, 75, 226, 254, 126, 204, 90], u'bird'),\n",
       " ([170, 20, 197, 1, 28, 67, 137, 153, 97, 20, 57, 3], u'bird'),\n",
       " ([43, 109, 193, 169, 94, 105, 88, 152, 46, 101, 98, 121], u'cat'),\n",
       " ([95, 247, 19, 186, 247, 189, 206, 188, 190, 234, 254, 70], u'dog'),\n",
       " ([96, 90, 188, 98, 16, 231, 207, 209, 145, 45, 58, 232], u'bird'),\n",
       " ([104, 77, 39, 226, 148, 134, 217, 166, 64, 207, 99, 14], u'dog'),\n",
       " ([33, 248, 137, 103, 124, 233, 194, 56, 75, 210, 32, 27], u'dog'),\n",
       " ([176, 72, 221, 152, 12, 70, 229, 51, 39, 121, 185, 0], u'cat'),\n",
       " ([249, 207, 131, 7, 90, 164, 255, 228, 11, 123, 205, 205], u'bird'),\n",
       " ([25, 160, 211, 51, 67, 131, 123, 33, 28, 135, 102, 1], u'bird'),\n",
       " ([142, 122, 115, 142, 154, 108, 93, 29, 115, 184, 193, 114], u'dog'),\n",
       " ([204, 237, 105, 153, 161, 129, 57, 116, 181, 124, 247, 47], u'dog')]"
      ]
     },
     "execution_count": 9,
     "metadata": {},
     "output_type": "execute_result"
    }
   ],
   "source": [
    "%%sql\n",
    "DROP TABLE IF EXISTS image_data;\n",
    "\n",
    "CREATE TABLE image_data AS (\n",
    "SELECT ARRAY[\n",
    "        (random() * 256)::integer, -- R values\n",
    "        (random() * 256)::integer,\n",
    "        (random() * 256)::integer,\n",
    "        (random() * 256)::integer,\n",
    "        (random() * 256)::integer, -- G values\n",
    "        (random() * 256)::integer,\n",
    "        (random() * 256)::integer,\n",
    "        (random() * 256)::integer,\n",
    "        (random() * 256)::integer, -- B values\n",
    "        (random() * 256)::integer,\n",
    "        (random() * 256)::integer,\n",
    "        (random() * 256)::integer\n",
    "    ] as rgb, ('{cat,dog,bird}'::text[])[ceil(random()*3)] as species\n",
    "FROM generate_series(1, 52)\n",
    ");\n",
    "\n",
    "SELECT * FROM image_data;"
   ]
  },
  {
   "cell_type": "markdown",
   "metadata": {},
   "source": [
    "<a id=\"pp_train2\"></a>\n",
    "# 5.  Run preprocessor for training image data\n",
    "\n",
    "Run the preprocessor to generate the packed output table:"
   ]
  },
  {
   "cell_type": "code",
   "execution_count": 10,
   "metadata": {},
   "outputs": [
    {
     "name": "stdout",
     "output_type": "stream",
     "text": [
      "Done.\n",
      "1 rows affected.\n",
      "2 rows affected.\n"
     ]
    },
    {
     "data": {
      "text/html": [
       "<table>\n",
       "    <tr>\n",
       "        <th>independent_var_shape</th>\n",
       "        <th>dependent_var_shape</th>\n",
       "        <th>buffer_id</th>\n",
       "    </tr>\n",
       "    <tr>\n",
       "        <td>[26, 12]</td>\n",
       "        <td>[26, 3]</td>\n",
       "        <td>0</td>\n",
       "    </tr>\n",
       "    <tr>\n",
       "        <td>[26, 12]</td>\n",
       "        <td>[26, 3]</td>\n",
       "        <td>1</td>\n",
       "    </tr>\n",
       "</table>"
      ],
      "text/plain": [
       "[([26, 12], [26, 3], 0), ([26, 12], [26, 3], 1)]"
      ]
     },
     "execution_count": 10,
     "metadata": {},
     "output_type": "execute_result"
    }
   ],
   "source": [
    "%%sql\n",
    "DROP TABLE IF EXISTS image_data_packed, image_data_packed_summary;\n",
    "\n",
    "SELECT madlib.training_preprocessor_dl('image_data',         -- Source table\n",
    "                                        'image_data_packed',  -- Output table\n",
    "                                        'species',            -- Dependent variable\n",
    "                                        'rgb',                -- Independent variable\n",
    "                                        NULL,                 -- Buffer size\n",
    "                                        255                   -- Normalizing constant\n",
    "                                        );\n",
    "\n",
    "SELECT independent_var_shape, dependent_var_shape, buffer_id FROM image_data_packed ORDER BY buffer_id;"
   ]
  },
  {
   "cell_type": "markdown",
   "metadata": {},
   "source": [
    "<a id=\"pp_val2\"></a>\n",
    "# 6.  Run preprocessor for validation image data\n",
    "\n",
    "Run the preprocessor for the validation dataset. In this example, we use the same images for validation to demonstrate, but normally validation data is different than training data:"
   ]
  },
  {
   "cell_type": "code",
   "execution_count": 11,
   "metadata": {},
   "outputs": [
    {
     "name": "stdout",
     "output_type": "stream",
     "text": [
      "Done.\n",
      "1 rows affected.\n",
      "2 rows affected.\n"
     ]
    },
    {
     "data": {
      "text/html": [
       "<table>\n",
       "    <tr>\n",
       "        <th>independent_var_shape</th>\n",
       "        <th>dependent_var_shape</th>\n",
       "        <th>buffer_id</th>\n",
       "    </tr>\n",
       "    <tr>\n",
       "        <td>[26, 12]</td>\n",
       "        <td>[26, 3]</td>\n",
       "        <td>0</td>\n",
       "    </tr>\n",
       "    <tr>\n",
       "        <td>[26, 12]</td>\n",
       "        <td>[26, 3]</td>\n",
       "        <td>1</td>\n",
       "    </tr>\n",
       "</table>"
      ],
      "text/plain": [
       "[([26, 12], [26, 3], 0), ([26, 12], [26, 3], 1)]"
      ]
     },
     "execution_count": 11,
     "metadata": {},
     "output_type": "execute_result"
    }
   ],
   "source": [
    "%%sql\n",
    "DROP TABLE IF EXISTS val_image_data_packed, val_image_data_packed_summary;\n",
    "\n",
    "SELECT madlib.validation_preprocessor_dl(\n",
    "    'image_data',             -- Source table\n",
    "    'val_image_data_packed',  -- Output table\n",
    "    'species',                -- Dependent variable\n",
    "    'rgb',                    -- Independent variable\n",
    "    'image_data_packed',      -- From training preprocessor step\n",
    "    NULL                      -- Buffer size\n",
    "    );\n",
    "\n",
    "SELECT independent_var_shape, dependent_var_shape, buffer_id FROM val_image_data_packed ORDER BY buffer_id;"
   ]
  },
  {
   "cell_type": "markdown",
   "metadata": {},
   "source": [
    "<a id=\"change_buffer\"></a>\n",
    "# 7.  Change buffer size \n",
    "\n",
    "Generally the default buffer size will work well, but if you have occasion to change it:"
   ]
  },
  {
   "cell_type": "code",
   "execution_count": 12,
   "metadata": {},
   "outputs": [
    {
     "name": "stdout",
     "output_type": "stream",
     "text": [
      "Done.\n",
      "1 rows affected.\n",
      "6 rows affected.\n"
     ]
    },
    {
     "data": {
      "text/html": [
       "<table>\n",
       "    <tr>\n",
       "        <th>independent_var_shape</th>\n",
       "        <th>dependent_var_shape</th>\n",
       "        <th>buffer_id</th>\n",
       "    </tr>\n",
       "    <tr>\n",
       "        <td>[8, 12]</td>\n",
       "        <td>[8, 3]</td>\n",
       "        <td>0</td>\n",
       "    </tr>\n",
       "    <tr>\n",
       "        <td>[9, 12]</td>\n",
       "        <td>[9, 3]</td>\n",
       "        <td>1</td>\n",
       "    </tr>\n",
       "    <tr>\n",
       "        <td>[9, 12]</td>\n",
       "        <td>[9, 3]</td>\n",
       "        <td>2</td>\n",
       "    </tr>\n",
       "    <tr>\n",
       "        <td>[9, 12]</td>\n",
       "        <td>[9, 3]</td>\n",
       "        <td>3</td>\n",
       "    </tr>\n",
       "    <tr>\n",
       "        <td>[9, 12]</td>\n",
       "        <td>[9, 3]</td>\n",
       "        <td>4</td>\n",
       "    </tr>\n",
       "    <tr>\n",
       "        <td>[8, 12]</td>\n",
       "        <td>[8, 3]</td>\n",
       "        <td>5</td>\n",
       "    </tr>\n",
       "</table>"
      ],
      "text/plain": [
       "[([8, 12], [8, 3], 0),\n",
       " ([9, 12], [9, 3], 1),\n",
       " ([9, 12], [9, 3], 2),\n",
       " ([9, 12], [9, 3], 3),\n",
       " ([9, 12], [9, 3], 4),\n",
       " ([8, 12], [8, 3], 5)]"
      ]
     },
     "execution_count": 12,
     "metadata": {},
     "output_type": "execute_result"
    }
   ],
   "source": [
    "%%sql\n",
    "DROP TABLE IF EXISTS image_data_packed, image_data_packed_summary;\n",
    "\n",
    "SELECT madlib.training_preprocessor_dl('image_data',         -- Source table\n",
    "                                       'image_data_packed',  -- Output table\n",
    "                                       'species',            -- Dependent variable\n",
    "                                       'rgb',                -- Independent variable\n",
    "                                        10,                   -- Buffer size\n",
    "                                        255                   -- Normalizing constant\n",
    "                                        );\n",
    "\n",
    "SELECT independent_var_shape, dependent_var_shape, buffer_id FROM image_data_packed ORDER BY buffer_id;"
   ]
  },
  {
   "cell_type": "markdown",
   "metadata": {},
   "source": [
    "Review the output summary data:"
   ]
  },
  {
   "cell_type": "code",
   "execution_count": 13,
   "metadata": {},
   "outputs": [
    {
     "name": "stdout",
     "output_type": "stream",
     "text": [
      "1 rows affected.\n"
     ]
    },
    {
     "data": {
      "text/html": [
       "<table>\n",
       "    <tr>\n",
       "        <th>source_table</th>\n",
       "        <th>output_table</th>\n",
       "        <th>dependent_varname</th>\n",
       "        <th>independent_varname</th>\n",
       "        <th>dependent_vartype</th>\n",
       "        <th>class_values</th>\n",
       "        <th>buffer_size</th>\n",
       "        <th>normalizing_const</th>\n",
       "        <th>num_classes</th>\n",
       "        <th>distribution_rules</th>\n",
       "        <th>__internal_gpu_config__</th>\n",
       "    </tr>\n",
       "    <tr>\n",
       "        <td>image_data</td>\n",
       "        <td>image_data_packed</td>\n",
       "        <td>species</td>\n",
       "        <td>rgb</td>\n",
       "        <td>text</td>\n",
       "        <td>[u'bird', u'cat', u'dog']</td>\n",
       "        <td>10</td>\n",
       "        <td>255.0</td>\n",
       "        <td>3</td>\n",
       "        <td>all_segments</td>\n",
       "        <td>all_segments</td>\n",
       "    </tr>\n",
       "</table>"
      ],
      "text/plain": [
       "[(u'image_data', u'image_data_packed', u'species', u'rgb', u'text', [u'bird', u'cat', u'dog'], 10, 255.0, 3, 'all_segments', 'all_segments')]"
      ]
     },
     "execution_count": 13,
     "metadata": {},
     "output_type": "execute_result"
    }
   ],
   "source": [
    "%%sql\n",
    "SELECT * FROM image_data_packed_summary;"
   ]
  },
  {
   "cell_type": "markdown",
   "metadata": {},
   "source": [
    "<a id=\"set_num_classes\"></a>\n",
    "# 8. Setting number of classes\n",
    "\n",
    "If want the 1-hot encoded vector to have more classes than present in the data, use the 'num_classes' param which will pad the 1-hot vector:"
   ]
  },
  {
   "cell_type": "code",
   "execution_count": 14,
   "metadata": {},
   "outputs": [
    {
     "name": "stdout",
     "output_type": "stream",
     "text": [
      "Done.\n",
      "1 rows affected.\n",
      "2 rows affected.\n"
     ]
    },
    {
     "data": {
      "text/html": [
       "<table>\n",
       "    <tr>\n",
       "        <th>independent_var_shape</th>\n",
       "        <th>dependent_var_shape</th>\n",
       "        <th>buffer_id</th>\n",
       "    </tr>\n",
       "    <tr>\n",
       "        <td>[26, 12]</td>\n",
       "        <td>[26, 5]</td>\n",
       "        <td>0</td>\n",
       "    </tr>\n",
       "    <tr>\n",
       "        <td>[26, 12]</td>\n",
       "        <td>[26, 5]</td>\n",
       "        <td>1</td>\n",
       "    </tr>\n",
       "</table>"
      ],
      "text/plain": [
       "[([26, 12], [26, 5], 0), ([26, 12], [26, 5], 1)]"
      ]
     },
     "execution_count": 14,
     "metadata": {},
     "output_type": "execute_result"
    }
   ],
   "source": [
    "%%sql\n",
    "DROP TABLE IF EXISTS image_data_packed, image_data_packed_summary;\n",
    "\n",
    "SELECT madlib.training_preprocessor_dl('image_data',         -- Source table\n",
    "                                        'image_data_packed',  -- Output table\n",
    "                                        'species',            -- Dependent variable\n",
    "                                        'rgb',                -- Independent variable\n",
    "                                        NULL,                 -- Buffer size\n",
    "                                        255,                  -- Normalizing constant\n",
    "                                        5                     -- Number of desired class values\n",
    "                                        );\n",
    "\n",
    "SELECT independent_var_shape, dependent_var_shape, buffer_id FROM image_data_packed ORDER BY buffer_id;"
   ]
  },
  {
   "cell_type": "code",
   "execution_count": 15,
   "metadata": {},
   "outputs": [
    {
     "name": "stdout",
     "output_type": "stream",
     "text": [
      "1 rows affected.\n"
     ]
    },
    {
     "data": {
      "text/html": [
       "<table>\n",
       "    <tr>\n",
       "        <th>source_table</th>\n",
       "        <th>output_table</th>\n",
       "        <th>dependent_varname</th>\n",
       "        <th>independent_varname</th>\n",
       "        <th>dependent_vartype</th>\n",
       "        <th>class_values</th>\n",
       "        <th>buffer_size</th>\n",
       "        <th>normalizing_const</th>\n",
       "        <th>num_classes</th>\n",
       "        <th>distribution_rules</th>\n",
       "        <th>__internal_gpu_config__</th>\n",
       "    </tr>\n",
       "    <tr>\n",
       "        <td>image_data</td>\n",
       "        <td>image_data_packed</td>\n",
       "        <td>species</td>\n",
       "        <td>rgb</td>\n",
       "        <td>text</td>\n",
       "        <td>[u'bird', u'cat', u'dog', None, None]</td>\n",
       "        <td>26</td>\n",
       "        <td>255.0</td>\n",
       "        <td>5</td>\n",
       "        <td>all_segments</td>\n",
       "        <td>all_segments</td>\n",
       "    </tr>\n",
       "</table>"
      ],
      "text/plain": [
       "[(u'image_data', u'image_data_packed', u'species', u'rgb', u'text', [u'bird', u'cat', u'dog', None, None], 26, 255.0, 5, 'all_segments', 'all_segments')]"
      ]
     },
     "execution_count": 15,
     "metadata": {},
     "output_type": "execute_result"
    }
   ],
   "source": [
    "%%sql\n",
    "SELECT * FROM image_data_packed_summary;"
   ]
  },
  {
   "cell_type": "markdown",
   "metadata": {},
   "source": [
    "<a id=\"distr_rules\"></a>\n",
    "# 9. Using distribution rules\n",
    "Specifies how to distribute the 'output_table'. This is important for how the fit function will use resources on the cluster.\n",
    "\n",
    "To distribute to all segments on hosts with GPUs attached:"
   ]
  },
  {
   "cell_type": "code",
   "execution_count": null,
   "metadata": {},
   "outputs": [],
   "source": [
    "%%sql\n",
    "DROP TABLE IF EXISTS image_data_packed, image_data_packed_summary;\n",
    "\n",
    "SELECT madlib.training_preprocessor_dl('image_data',          -- Source table\n",
    "                                        'image_data_packed',  -- Output table\n",
    "                                        'species',            -- Dependent variable\n",
    "                                        'rgb',                -- Independent variable\n",
    "                                        NULL,                 -- Buffer size\n",
    "                                        255,                  -- Normalizing constant\n",
    "                                        NULL,                 -- Number of classes\n",
    "                                        'gpu_segments'        -- Distribution rules\n",
    "                                        );\n",
    "SELECT * FROM image_data_packed_summary;"
   ]
  },
  {
   "cell_type": "markdown",
   "metadata": {},
   "source": [
    "To distribute to only specified segments, create a distribution table with a column called 'dbid' that lists the segments you want:"
   ]
  },
  {
   "cell_type": "code",
   "execution_count": 17,
   "metadata": {},
   "outputs": [
    {
     "name": "stdout",
     "output_type": "stream",
     "text": [
      "Done.\n",
      "Done.\n",
      "2 rows affected.\n",
      "Done.\n",
      "1 rows affected.\n",
      "1 rows affected.\n"
     ]
    },
    {
     "data": {
      "text/html": [
       "<table>\n",
       "    <tr>\n",
       "        <th>source_table</th>\n",
       "        <th>output_table</th>\n",
       "        <th>dependent_varname</th>\n",
       "        <th>independent_varname</th>\n",
       "        <th>dependent_vartype</th>\n",
       "        <th>class_values</th>\n",
       "        <th>buffer_size</th>\n",
       "        <th>normalizing_const</th>\n",
       "        <th>num_classes</th>\n",
       "        <th>distribution_rules</th>\n",
       "        <th>__internal_gpu_config__</th>\n",
       "    </tr>\n",
       "    <tr>\n",
       "        <td>image_data</td>\n",
       "        <td>image_data_packed</td>\n",
       "        <td>species</td>\n",
       "        <td>rgb</td>\n",
       "        <td>text</td>\n",
       "        <td>[u'bird', u'cat', u'dog']</td>\n",
       "        <td>26</td>\n",
       "        <td>255.0</td>\n",
       "        <td>3</td>\n",
       "        <td>[2, 3]</td>\n",
       "        <td>[0, 1]</td>\n",
       "    </tr>\n",
       "</table>"
      ],
      "text/plain": [
       "[(u'image_data', u'image_data_packed', u'species', u'rgb', u'text', [u'bird', u'cat', u'dog'], 26, 255.0, 3, [2, 3], [0, 1])]"
      ]
     },
     "execution_count": 17,
     "metadata": {},
     "output_type": "execute_result"
    }
   ],
   "source": [
    "%%sql\n",
    "DROP TABLE IF EXISTS segments_to_use;\n",
    "CREATE TABLE segments_to_use(\n",
    "    dbid INTEGER,\n",
    "    hostname TEXT\n",
    ");\n",
    "INSERT INTO segments_to_use VALUES\n",
    "(2, 'hostname-01'),\n",
    "(3, 'hostname-01');\n",
    "\n",
    "DROP TABLE IF EXISTS image_data_packed, image_data_packed_summary;\n",
    "SELECT madlib.training_preprocessor_dl('image_data',          -- Source table\n",
    "                                        'image_data_packed',  -- Output table\n",
    "                                        'species',            -- Dependent variable\n",
    "                                        'rgb',                -- Independent variable\n",
    "                                        NULL,                 -- Buffer size\n",
    "                                        255,                  -- Normalizing constant\n",
    "                                        NULL,                 -- Number of classes\n",
    "                                        'segments_to_use'     -- Distribution rules\n",
    "                                        );\n",
    "SELECT * FROM image_data_packed_summary;"
   ]
  }
 ],
 "metadata": {
  "kernelspec": {
   "display_name": "Python 2",
   "language": "python",
   "name": "python2"
  },
  "language_info": {
   "codemirror_mode": {
    "name": "ipython",
    "version": 2
   },
   "file_extension": ".py",
   "mimetype": "text/x-python",
   "name": "python",
   "nbconvert_exporter": "python",
   "pygments_lexer": "ipython2",
   "version": "2.7.10"
  }
 },
 "nbformat": 4,
 "nbformat_minor": 1
}
