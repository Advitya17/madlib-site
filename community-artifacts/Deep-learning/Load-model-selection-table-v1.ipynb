{
 "cells": [
  {
   "cell_type": "markdown",
   "metadata": {},
   "source": [
    "# Load model selection table\n",
    "This utility function generates model selection tuples (model architecture, compile parameters, fit parameters) for both hyper-parameter search and model architecture search.  The model selection table and associated summary table are used by the multiple model fit feature of MADlib.  \n",
    "\n",
    "This utility was added in MADlib 1.17.\n",
    "\n",
    "## Table of contents\n",
    "\n",
    "<a href=\"#define_model_arch\">1. Define model architecture table</a>\n",
    "\n",
    "<a href=\"#load_model_arch\">2. Load model architecture</a>\n",
    "\n",
    "<a href=\"#load_model_selection\">3. Load model selection table</a>\n",
    "\n",
    "<a href=\"#load_model_selection_manual\">4. Create model selection table manually</a>\n",
    "\n",
    "<a href=\"#load_model_selection_auto\">5. Generate hyperparameters automatically</a>"
   ]
  },
  {
   "cell_type": "code",
   "execution_count": 1,
   "metadata": {},
   "outputs": [
    {
     "name": "stderr",
     "output_type": "stream",
     "text": [
      "/Users/fmcquillan/anaconda/lib/python2.7/site-packages/IPython/config.py:13: ShimWarning: The `IPython.config` package has been deprecated since IPython 4.0. You should import from traitlets.config instead.\n",
      "  \"You should import from traitlets.config instead.\", ShimWarning)\n",
      "/Users/fmcquillan/anaconda/lib/python2.7/site-packages/IPython/utils/traitlets.py:5: UserWarning: IPython.utils.traitlets has moved to a top-level traitlets package.\n",
      "  warn(\"IPython.utils.traitlets has moved to a top-level traitlets package.\")\n"
     ]
    }
   ],
   "source": [
    "%load_ext sql"
   ]
  },
  {
   "cell_type": "code",
   "execution_count": 2,
   "metadata": {},
   "outputs": [
    {
     "data": {
      "text/plain": [
       "u'Connected: gpadmin@madlib'"
      ]
     },
     "execution_count": 2,
     "metadata": {},
     "output_type": "execute_result"
    }
   ],
   "source": [
    "# Greenplum Database 5.x on GCP (PM demo machine) - direct external IP access\n",
    "#%sql postgresql://gpadmin@34.67.65.96:5432/madlib\n",
    "\n",
    "# Greenplum Database 5.x on GCP - via tunnel\n",
    "%sql postgresql://gpadmin@localhost:8000/madlib\n",
    "        \n",
    "# PostgreSQL local\n",
    "#%sql postgresql://fmcquillan@localhost:5432/madlib"
   ]
  },
  {
   "cell_type": "code",
   "execution_count": 17,
   "metadata": {},
   "outputs": [
    {
     "name": "stdout",
     "output_type": "stream",
     "text": [
      "1 rows affected.\n"
     ]
    },
    {
     "data": {
      "text/html": [
       "<table>\n",
       "    <tr>\n",
       "        <th>version</th>\n",
       "    </tr>\n",
       "    <tr>\n",
       "        <td>MADlib version: 1.17-dev, git revision: rel/v1.16-54-gec5614f, cmake configuration time: Wed Dec 18 17:08:05 UTC 2019, build type: release, build system: Linux-3.10.0-1062.4.3.el7.x86_64, C compiler: gcc 4.8.5, C++ compiler: g++ 4.8.5</td>\n",
       "    </tr>\n",
       "</table>"
      ],
      "text/plain": [
       "[(u'MADlib version: 1.17-dev, git revision: rel/v1.16-54-gec5614f, cmake configuration time: Wed Dec 18 17:08:05 UTC 2019, build type: release, build system: Linux-3.10.0-1062.4.3.el7.x86_64, C compiler: gcc 4.8.5, C++ compiler: g++ 4.8.5',)]"
      ]
     },
     "execution_count": 17,
     "metadata": {},
     "output_type": "execute_result"
    }
   ],
   "source": [
    "%sql select madlib.version();\n",
    "#%sql select version();"
   ]
  },
  {
   "cell_type": "markdown",
   "metadata": {},
   "source": [
    "<a id=\"define_model_arch\"></a>\n",
    "# 1. Define model architecture table\n",
    "The model selection loader works in conjunction with the model architecture table, so we first create a model architecture table with two different models.  See http://madlib.apache.org/docs/latest/group__grp__keras__model__arch.html for more details on the model architecture table.\n",
    "\n",
    "Import Keras libraries"
   ]
  },
  {
   "cell_type": "code",
   "execution_count": 18,
   "metadata": {},
   "outputs": [],
   "source": [
    "import keras\n",
    "from keras.models import Sequential\n",
    "from keras.layers import Dense"
   ]
  },
  {
   "cell_type": "markdown",
   "metadata": {},
   "source": [
    "Define model architecture with 1 hidden layer:"
   ]
  },
  {
   "cell_type": "code",
   "execution_count": 19,
   "metadata": {},
   "outputs": [
    {
     "name": "stdout",
     "output_type": "stream",
     "text": [
      "_________________________________________________________________\n",
      "Layer (type)                 Output Shape              Param #   \n",
      "=================================================================\n",
      "dense_8 (Dense)              (None, 10)                50        \n",
      "_________________________________________________________________\n",
      "dense_9 (Dense)              (None, 10)                110       \n",
      "_________________________________________________________________\n",
      "dense_10 (Dense)             (None, 3)                 33        \n",
      "=================================================================\n",
      "Total params: 193\n",
      "Trainable params: 193\n",
      "Non-trainable params: 0\n",
      "_________________________________________________________________\n"
     ]
    }
   ],
   "source": [
    "model1 = Sequential()\n",
    "model1.add(Dense(10, activation='relu', input_shape=(4,)))\n",
    "model1.add(Dense(10, activation='relu'))\n",
    "model1.add(Dense(3, activation='softmax'))\n",
    "    \n",
    "model1.summary()"
   ]
  },
  {
   "cell_type": "code",
   "execution_count": 20,
   "metadata": {},
   "outputs": [
    {
     "data": {
      "text/plain": [
       "'{\"class_name\": \"Sequential\", \"keras_version\": \"2.1.6\", \"config\": [{\"class_name\": \"Dense\", \"config\": {\"kernel_initializer\": {\"class_name\": \"VarianceScaling\", \"config\": {\"distribution\": \"uniform\", \"scale\": 1.0, \"seed\": null, \"mode\": \"fan_avg\"}}, \"name\": \"dense_8\", \"kernel_constraint\": null, \"bias_regularizer\": null, \"bias_constraint\": null, \"dtype\": \"float32\", \"activation\": \"relu\", \"trainable\": true, \"kernel_regularizer\": null, \"bias_initializer\": {\"class_name\": \"Zeros\", \"config\": {}}, \"units\": 10, \"batch_input_shape\": [null, 4], \"use_bias\": true, \"activity_regularizer\": null}}, {\"class_name\": \"Dense\", \"config\": {\"kernel_initializer\": {\"class_name\": \"VarianceScaling\", \"config\": {\"distribution\": \"uniform\", \"scale\": 1.0, \"seed\": null, \"mode\": \"fan_avg\"}}, \"name\": \"dense_9\", \"kernel_constraint\": null, \"bias_regularizer\": null, \"bias_constraint\": null, \"activation\": \"relu\", \"trainable\": true, \"kernel_regularizer\": null, \"bias_initializer\": {\"class_name\": \"Zeros\", \"config\": {}}, \"units\": 10, \"use_bias\": true, \"activity_regularizer\": null}}, {\"class_name\": \"Dense\", \"config\": {\"kernel_initializer\": {\"class_name\": \"VarianceScaling\", \"config\": {\"distribution\": \"uniform\", \"scale\": 1.0, \"seed\": null, \"mode\": \"fan_avg\"}}, \"name\": \"dense_10\", \"kernel_constraint\": null, \"bias_regularizer\": null, \"bias_constraint\": null, \"activation\": \"softmax\", \"trainable\": true, \"kernel_regularizer\": null, \"bias_initializer\": {\"class_name\": \"Zeros\", \"config\": {}}, \"units\": 3, \"use_bias\": true, \"activity_regularizer\": null}}], \"backend\": \"tensorflow\"}'"
      ]
     },
     "execution_count": 20,
     "metadata": {},
     "output_type": "execute_result"
    }
   ],
   "source": [
    "model1.to_json()"
   ]
  },
  {
   "cell_type": "markdown",
   "metadata": {},
   "source": [
    "'{\"class_name\": \"Sequential\", \"keras_version\": \"2.1.6\", \"config\": [{\"class_name\": \"Dense\", \"config\": {\"kernel_initializer\": {\"class_name\": \"VarianceScaling\", \"config\": {\"distribution\": \"uniform\", \"scale\": 1.0, \"seed\": null, \"mode\": \"fan_avg\"}}, \"name\": \"dense_1\", \"kernel_constraint\": null, \"bias_regularizer\": null, \"bias_constraint\": null, \"dtype\": \"float32\", \"activation\": \"linear\", \"trainable\": true, \"kernel_regularizer\": null, \"bias_initializer\": {\"class_name\": \"Zeros\", \"config\": {}}, \"units\": 2, \"batch_input_shape\": [null, 3], \"use_bias\": true, \"activity_regularizer\": null}}, {\"class_name\": \"Dense\", \"config\": {\"kernel_initializer\": {\"class_name\": \"VarianceScaling\", \"config\": {\"distribution\": \"uniform\", \"scale\": 1.0, \"seed\": null, \"mode\": \"fan_avg\"}}, \"name\": \"new_dense\", \"kernel_constraint\": null, \"bias_regularizer\": null, \"bias_constraint\": null, \"activation\": \"linear\", \"trainable\": true, \"kernel_regularizer\": null, \"bias_initializer\": {\"class_name\": \"Zeros\", \"config\": {}}, \"units\": 10, \"use_bias\": true, \"activity_regularizer\": null}}], \"backend\": \"tensorflow\"}'\n",
    "        "
   ]
  },
  {
   "cell_type": "markdown",
   "metadata": {},
   "source": [
    "Define model architecture with 2 hidden layers:"
   ]
  },
  {
   "cell_type": "code",
   "execution_count": 21,
   "metadata": {},
   "outputs": [
    {
     "name": "stdout",
     "output_type": "stream",
     "text": [
      "_________________________________________________________________\n",
      "Layer (type)                 Output Shape              Param #   \n",
      "=================================================================\n",
      "dense_11 (Dense)             (None, 10)                50        \n",
      "_________________________________________________________________\n",
      "dense_12 (Dense)             (None, 10)                110       \n",
      "_________________________________________________________________\n",
      "dense_13 (Dense)             (None, 10)                110       \n",
      "_________________________________________________________________\n",
      "dense_14 (Dense)             (None, 3)                 33        \n",
      "=================================================================\n",
      "Total params: 303\n",
      "Trainable params: 303\n",
      "Non-trainable params: 0\n",
      "_________________________________________________________________\n"
     ]
    }
   ],
   "source": [
    "model2 = Sequential()\n",
    "model2.add(Dense(10, activation='relu', input_shape=(4,)))\n",
    "model2.add(Dense(10, activation='relu'))\n",
    "model2.add(Dense(10, activation='relu'))\n",
    "model2.add(Dense(3, activation='softmax'))\n",
    "    \n",
    "model2.summary()"
   ]
  },
  {
   "cell_type": "code",
   "execution_count": 22,
   "metadata": {},
   "outputs": [
    {
     "data": {
      "text/plain": [
       "'{\"class_name\": \"Sequential\", \"keras_version\": \"2.1.6\", \"config\": [{\"class_name\": \"Dense\", \"config\": {\"kernel_initializer\": {\"class_name\": \"VarianceScaling\", \"config\": {\"distribution\": \"uniform\", \"scale\": 1.0, \"seed\": null, \"mode\": \"fan_avg\"}}, \"name\": \"dense_11\", \"kernel_constraint\": null, \"bias_regularizer\": null, \"bias_constraint\": null, \"dtype\": \"float32\", \"activation\": \"relu\", \"trainable\": true, \"kernel_regularizer\": null, \"bias_initializer\": {\"class_name\": \"Zeros\", \"config\": {}}, \"units\": 10, \"batch_input_shape\": [null, 4], \"use_bias\": true, \"activity_regularizer\": null}}, {\"class_name\": \"Dense\", \"config\": {\"kernel_initializer\": {\"class_name\": \"VarianceScaling\", \"config\": {\"distribution\": \"uniform\", \"scale\": 1.0, \"seed\": null, \"mode\": \"fan_avg\"}}, \"name\": \"dense_12\", \"kernel_constraint\": null, \"bias_regularizer\": null, \"bias_constraint\": null, \"activation\": \"relu\", \"trainable\": true, \"kernel_regularizer\": null, \"bias_initializer\": {\"class_name\": \"Zeros\", \"config\": {}}, \"units\": 10, \"use_bias\": true, \"activity_regularizer\": null}}, {\"class_name\": \"Dense\", \"config\": {\"kernel_initializer\": {\"class_name\": \"VarianceScaling\", \"config\": {\"distribution\": \"uniform\", \"scale\": 1.0, \"seed\": null, \"mode\": \"fan_avg\"}}, \"name\": \"dense_13\", \"kernel_constraint\": null, \"bias_regularizer\": null, \"bias_constraint\": null, \"activation\": \"relu\", \"trainable\": true, \"kernel_regularizer\": null, \"bias_initializer\": {\"class_name\": \"Zeros\", \"config\": {}}, \"units\": 10, \"use_bias\": true, \"activity_regularizer\": null}}, {\"class_name\": \"Dense\", \"config\": {\"kernel_initializer\": {\"class_name\": \"VarianceScaling\", \"config\": {\"distribution\": \"uniform\", \"scale\": 1.0, \"seed\": null, \"mode\": \"fan_avg\"}}, \"name\": \"dense_14\", \"kernel_constraint\": null, \"bias_regularizer\": null, \"bias_constraint\": null, \"activation\": \"softmax\", \"trainable\": true, \"kernel_regularizer\": null, \"bias_initializer\": {\"class_name\": \"Zeros\", \"config\": {}}, \"units\": 3, \"use_bias\": true, \"activity_regularizer\": null}}], \"backend\": \"tensorflow\"}'"
      ]
     },
     "execution_count": 22,
     "metadata": {},
     "output_type": "execute_result"
    }
   ],
   "source": [
    "model2.to_json()"
   ]
  },
  {
   "cell_type": "markdown",
   "metadata": {},
   "source": [
    "'{\"class_name\": \"Sequential\", \"keras_version\": \"2.1.6\", \"config\": [{\"class_name\": \"Dense\", \"config\": {\"kernel_initializer\": {\"class_name\": \"VarianceScaling\", \"config\": {\"distribution\": \"uniform\", \"scale\": 1.0, \"seed\": null, \"mode\": \"fan_avg\"}}, \"name\": \"dense_4\", \"kernel_constraint\": null, \"bias_regularizer\": null, \"bias_constraint\": null, \"dtype\": \"float32\", \"activation\": \"relu\", \"trainable\": true, \"kernel_regularizer\": null, \"bias_initializer\": {\"class_name\": \"Zeros\", \"config\": {}}, \"units\": 10, \"batch_input_shape\": [null, 4], \"use_bias\": true, \"activity_regularizer\": null}}, {\"class_name\": \"Dense\", \"config\": {\"kernel_initializer\": {\"class_name\": \"VarianceScaling\", \"config\": {\"distribution\": \"uniform\", \"scale\": 1.0, \"seed\": null, \"mode\": \"fan_avg\"}}, \"name\": \"dense_5\", \"kernel_constraint\": null, \"bias_regularizer\": null, \"bias_constraint\": null, \"activation\": \"relu\", \"trainable\": true, \"kernel_regularizer\": null, \"bias_initializer\": {\"class_name\": \"Zeros\", \"config\": {}}, \"units\": 10, \"use_bias\": true, \"activity_regularizer\": null}}, {\"class_name\": \"Dense\", \"config\": {\"kernel_initializer\": {\"class_name\": \"VarianceScaling\", \"config\": {\"distribution\": \"uniform\", \"scale\": 1.0, \"seed\": null, \"mode\": \"fan_avg\"}}, \"name\": \"dense_6\", \"kernel_constraint\": null, \"bias_regularizer\": null, \"bias_constraint\": null, \"activation\": \"relu\", \"trainable\": true, \"kernel_regularizer\": null, \"bias_initializer\": {\"class_name\": \"Zeros\", \"config\": {}}, \"units\": 10, \"use_bias\": true, \"activity_regularizer\": null}}, {\"class_name\": \"Dense\", \"config\": {\"kernel_initializer\": {\"class_name\": \"VarianceScaling\", \"config\": {\"distribution\": \"uniform\", \"scale\": 1.0, \"seed\": null, \"mode\": \"fan_avg\"}}, \"name\": \"dense_7\", \"kernel_constraint\": null, \"bias_regularizer\": null, \"bias_constraint\": null, \"activation\": \"softmax\", \"trainable\": true, \"kernel_regularizer\": null, \"bias_initializer\": {\"class_name\": \"Zeros\", \"config\": {}}, \"units\": 3, \"use_bias\": true, \"activity_regularizer\": null}}], \"backend\": \"tensorflow\"}'"
   ]
  },
  {
   "cell_type": "markdown",
   "metadata": {},
   "source": [
    "<a id=\"load_model_arch\"></a>\n",
    "# 2. Load model architecture\n",
    "\n",
    "Load both into model architecture table:"
   ]
  },
  {
   "cell_type": "code",
   "execution_count": 23,
   "metadata": {},
   "outputs": [
    {
     "name": "stdout",
     "output_type": "stream",
     "text": [
      "Done.\n",
      "1 rows affected.\n",
      "1 rows affected.\n",
      "2 rows affected.\n"
     ]
    },
    {
     "data": {
      "text/html": [
       "<table>\n",
       "    <tr>\n",
       "        <th>model_id</th>\n",
       "        <th>model_arch</th>\n",
       "        <th>model_weights</th>\n",
       "        <th>name</th>\n",
       "        <th>description</th>\n",
       "        <th>__internal_madlib_id__</th>\n",
       "    </tr>\n",
       "    <tr>\n",
       "        <td>1</td>\n",
       "        <td>{u'class_name': u'Sequential', u'keras_version': u'2.1.6', u'config': [{u'class_name': u'Dense', u'config': {u'kernel_initializer': {u'class_name': u'VarianceScaling', u'config': {u'distribution': u'uniform', u'scale': 1.0, u'seed': None, u'mode': u'fan_avg'}}, u'name': u'dense_1', u'kernel_constraint': None, u'bias_regularizer': None, u'bias_constraint': None, u'dtype': u'float32', u'activation': u'relu', u'trainable': True, u'kernel_regularizer': None, u'bias_initializer': {u'class_name': u'Zeros', u'config': {}}, u'units': 10, u'batch_input_shape': [None, 4], u'use_bias': True, u'activity_regularizer': None}}, {u'class_name': u'Dense', u'config': {u'kernel_initializer': {u'class_name': u'VarianceScaling', u'config': {u'distribution': u'uniform', u'scale': 1.0, u'seed': None, u'mode': u'fan_avg'}}, u'name': u'dense_2', u'kernel_constraint': None, u'bias_regularizer': None, u'bias_constraint': None, u'activation': u'relu', u'trainable': True, u'kernel_regularizer': None, u'bias_initializer': {u'class_name': u'Zeros', u'config': {}}, u'units': 10, u'use_bias': True, u'activity_regularizer': None}}, {u'class_name': u'Dense', u'config': {u'kernel_initializer': {u'class_name': u'VarianceScaling', u'config': {u'distribution': u'uniform', u'scale': 1.0, u'seed': None, u'mode': u'fan_avg'}}, u'name': u'dense_3', u'kernel_constraint': None, u'bias_regularizer': None, u'bias_constraint': None, u'activation': u'softmax', u'trainable': True, u'kernel_regularizer': None, u'bias_initializer': {u'class_name': u'Zeros', u'config': {}}, u'units': 3, u'use_bias': True, u'activity_regularizer': None}}], u'backend': u'tensorflow'}</td>\n",
       "        <td>None</td>\n",
       "        <td>Sophie</td>\n",
       "        <td>MLP with 1 hidden layer</td>\n",
       "        <td>__madlib_temp_80732521_1576707528_41018934__</td>\n",
       "    </tr>\n",
       "    <tr>\n",
       "        <td>2</td>\n",
       "        <td>{u'class_name': u'Sequential', u'keras_version': u'2.1.6', u'config': [{u'class_name': u'Dense', u'config': {u'kernel_initializer': {u'class_name': u'VarianceScaling', u'config': {u'distribution': u'uniform', u'scale': 1.0, u'seed': None, u'mode': u'fan_avg'}}, u'name': u'dense_4', u'kernel_constraint': None, u'bias_regularizer': None, u'bias_constraint': None, u'dtype': u'float32', u'activation': u'relu', u'trainable': True, u'kernel_regularizer': None, u'bias_initializer': {u'class_name': u'Zeros', u'config': {}}, u'units': 10, u'batch_input_shape': [None, 4], u'use_bias': True, u'activity_regularizer': None}}, {u'class_name': u'Dense', u'config': {u'kernel_initializer': {u'class_name': u'VarianceScaling', u'config': {u'distribution': u'uniform', u'scale': 1.0, u'seed': None, u'mode': u'fan_avg'}}, u'name': u'dense_5', u'kernel_constraint': None, u'bias_regularizer': None, u'bias_constraint': None, u'activation': u'relu', u'trainable': True, u'kernel_regularizer': None, u'bias_initializer': {u'class_name': u'Zeros', u'config': {}}, u'units': 10, u'use_bias': True, u'activity_regularizer': None}}, {u'class_name': u'Dense', u'config': {u'kernel_initializer': {u'class_name': u'VarianceScaling', u'config': {u'distribution': u'uniform', u'scale': 1.0, u'seed': None, u'mode': u'fan_avg'}}, u'name': u'dense_6', u'kernel_constraint': None, u'bias_regularizer': None, u'bias_constraint': None, u'activation': u'relu', u'trainable': True, u'kernel_regularizer': None, u'bias_initializer': {u'class_name': u'Zeros', u'config': {}}, u'units': 10, u'use_bias': True, u'activity_regularizer': None}}, {u'class_name': u'Dense', u'config': {u'kernel_initializer': {u'class_name': u'VarianceScaling', u'config': {u'distribution': u'uniform', u'scale': 1.0, u'seed': None, u'mode': u'fan_avg'}}, u'name': u'dense_7', u'kernel_constraint': None, u'bias_regularizer': None, u'bias_constraint': None, u'activation': u'softmax', u'trainable': True, u'kernel_regularizer': None, u'bias_initializer': {u'class_name': u'Zeros', u'config': {}}, u'units': 3, u'use_bias': True, u'activity_regularizer': None}}], u'backend': u'tensorflow'}</td>\n",
       "        <td>None</td>\n",
       "        <td>Maria</td>\n",
       "        <td>MLP with 2 hidden layers</td>\n",
       "        <td>__madlib_temp_54900499_1576707528_11190984__</td>\n",
       "    </tr>\n",
       "</table>"
      ],
      "text/plain": [
       "[(1, {u'class_name': u'Sequential', u'keras_version': u'2.1.6', u'config': [{u'class_name': u'Dense', u'config': {u'kernel_initializer': {u'class_name': u'VarianceScaling', u'config': {u'distribution': u'uniform', u'scale': 1.0, u'seed': None, u'mode': u'fan_avg'}}, u'name': u'dense_1', u'kernel_constraint': None, u'bias_regularizer': None, u'bias_constraint': None, u'dtype': u'float32', u'activation': u'relu', u'trainable': True, u'kernel_regularizer': None, u'bias_initializer': {u'class_name': u'Zeros', u'config': {}}, u'units': 10, u'batch_input_shape': [None, 4], u'use_bias': True, u'activity_regularizer': None}}, {u'class_name': u'Dense', u'config': {u'kernel_initializer': {u'class_name': u'VarianceScaling', u'config': {u'distribution': u'uniform', u'scale': 1.0, u'seed': None, u'mode': u'fan_avg'}}, u'name': u'dense_2', u'kernel_constraint': None, u'bias_regularizer': None, u'bias_constraint': None, u'activation': u'relu', u'trainable': True, u'kernel_regularizer': None, u'bias_initializer': {u'class_name': u'Zeros', u'config': {}}, u'units': 10, u'use_bias': True, u'activity_regularizer': None}}, {u'class_name': u'Dense', u'config': {u'kernel_initializer': {u'class_name': u'VarianceScaling', u'config': {u'distribution': u'uniform', u'scale': 1.0, u'seed': None, u'mode': u'fan_avg'}}, u'name': u'dense_3', u'kernel_constraint': None, u'bias_regularizer': None, u'bias_constraint': None, u'activation': u'softmax', u'trainable': True, u'kernel_regularizer': None, u'bias_initializer': {u'class_name': u'Zeros', u'config': {}}, u'units': 3, u'use_bias': True, u'activity_regularizer': None}}], u'backend': u'tensorflow'}, None, u'Sophie', u'MLP with 1 hidden layer', u'__madlib_temp_80732521_1576707528_41018934__'),\n",
       " (2, {u'class_name': u'Sequential', u'keras_version': u'2.1.6', u'config': [{u'class_name': u'Dense', u'config': {u'kernel_initializer': {u'class_name': u'VarianceScaling', u'config': {u'distribution': u'uniform', u'scale': 1.0, u'seed': None, u'mode': u'fan_avg'}}, u'name': u'dense_4', u'kernel_constraint': None, u'bias_regularizer': None, u'bias_constraint': None, u'dtype': u'float32', u'activation': u'relu', u'trainable': True, u'kernel_regularizer': None, u'bias_initializer': {u'class_name': u'Zeros', u'config': {}}, u'units': 10, u'batch_input_shape': [None, 4], u'use_bias': True, u'activity_regularizer': None}}, {u'class_name': u'Dense', u'config': {u'kernel_initializer': {u'class_name': u'VarianceScaling', u'config': {u'distribution': u'uniform', u'scale': 1.0, u'seed': None, u'mode': u'fan_avg'}}, u'name': u'dense_5', u'kernel_constraint': None, u'bias_regularizer': None, u'bias_constraint': None, u'activation': u'relu', u'trainable': True, u'kernel_regularizer': None, u'bias_initializer': {u'class_name': u'Zeros', u'config': {}}, u'units': 10, u'use_bias': True, u'activity_regularizer': None}}, {u'class_name': u'Dense', u'config': {u'kernel_initializer': {u'class_name': u'VarianceScaling', u'config': {u'distribution': u'uniform', u'scale': 1.0, u'seed': None, u'mode': u'fan_avg'}}, u'name': u'dense_6', u'kernel_constraint': None, u'bias_regularizer': None, u'bias_constraint': None, u'activation': u'relu', u'trainable': True, u'kernel_regularizer': None, u'bias_initializer': {u'class_name': u'Zeros', u'config': {}}, u'units': 10, u'use_bias': True, u'activity_regularizer': None}}, {u'class_name': u'Dense', u'config': {u'kernel_initializer': {u'class_name': u'VarianceScaling', u'config': {u'distribution': u'uniform', u'scale': 1.0, u'seed': None, u'mode': u'fan_avg'}}, u'name': u'dense_7', u'kernel_constraint': None, u'bias_regularizer': None, u'bias_constraint': None, u'activation': u'softmax', u'trainable': True, u'kernel_regularizer': None, u'bias_initializer': {u'class_name': u'Zeros', u'config': {}}, u'units': 3, u'use_bias': True, u'activity_regularizer': None}}], u'backend': u'tensorflow'}, None, u'Maria', u'MLP with 2 hidden layers', u'__madlib_temp_54900499_1576707528_11190984__')]"
      ]
     },
     "execution_count": 23,
     "metadata": {},
     "output_type": "execute_result"
    }
   ],
   "source": [
    "%%sql\n",
    "DROP TABLE IF EXISTS model_arch_library;\n",
    "\n",
    "SELECT madlib.load_keras_model('model_arch_library',  -- Output table,\n",
    "                               \n",
    "$$\n",
    "{\"class_name\": \"Sequential\", \"keras_version\": \"2.1.6\", \"config\": [{\"class_name\": \"Dense\", \"config\": {\"kernel_initializer\": {\"class_name\": \"VarianceScaling\", \"config\": {\"distribution\": \"uniform\", \"scale\": 1.0, \"seed\": null, \"mode\": \"fan_avg\"}}, \"name\": \"dense_1\", \"kernel_constraint\": null, \"bias_regularizer\": null, \"bias_constraint\": null, \"dtype\": \"float32\", \"activation\": \"relu\", \"trainable\": true, \"kernel_regularizer\": null, \"bias_initializer\": {\"class_name\": \"Zeros\", \"config\": {}}, \"units\": 10, \"batch_input_shape\": [null, 4], \"use_bias\": true, \"activity_regularizer\": null}}, {\"class_name\": \"Dense\", \"config\": {\"kernel_initializer\": {\"class_name\": \"VarianceScaling\", \"config\": {\"distribution\": \"uniform\", \"scale\": 1.0, \"seed\": null, \"mode\": \"fan_avg\"}}, \"name\": \"dense_2\", \"kernel_constraint\": null, \"bias_regularizer\": null, \"bias_constraint\": null, \"activation\": \"relu\", \"trainable\": true, \"kernel_regularizer\": null, \"bias_initializer\": {\"class_name\": \"Zeros\", \"config\": {}}, \"units\": 10, \"use_bias\": true, \"activity_regularizer\": null}}, {\"class_name\": \"Dense\", \"config\": {\"kernel_initializer\": {\"class_name\": \"VarianceScaling\", \"config\": {\"distribution\": \"uniform\", \"scale\": 1.0, \"seed\": null, \"mode\": \"fan_avg\"}}, \"name\": \"dense_3\", \"kernel_constraint\": null, \"bias_regularizer\": null, \"bias_constraint\": null, \"activation\": \"softmax\", \"trainable\": true, \"kernel_regularizer\": null, \"bias_initializer\": {\"class_name\": \"Zeros\", \"config\": {}}, \"units\": 3, \"use_bias\": true, \"activity_regularizer\": null}}], \"backend\": \"tensorflow\"}\n",
    "$$\n",
    "::json,         -- JSON blob\n",
    "                               NULL,                  -- Weights\n",
    "                               'Sophie',              -- Name\n",
    "                               'MLP with 1 hidden layer'       -- Descr\n",
    ");\n",
    "\n",
    "SELECT madlib.load_keras_model('model_arch_library',  -- Output table,\n",
    "                               \n",
    "$$\n",
    "{\"class_name\": \"Sequential\", \"keras_version\": \"2.1.6\", \"config\": [{\"class_name\": \"Dense\", \"config\": {\"kernel_initializer\": {\"class_name\": \"VarianceScaling\", \"config\": {\"distribution\": \"uniform\", \"scale\": 1.0, \"seed\": null, \"mode\": \"fan_avg\"}}, \"name\": \"dense_4\", \"kernel_constraint\": null, \"bias_regularizer\": null, \"bias_constraint\": null, \"dtype\": \"float32\", \"activation\": \"relu\", \"trainable\": true, \"kernel_regularizer\": null, \"bias_initializer\": {\"class_name\": \"Zeros\", \"config\": {}}, \"units\": 10, \"batch_input_shape\": [null, 4], \"use_bias\": true, \"activity_regularizer\": null}}, {\"class_name\": \"Dense\", \"config\": {\"kernel_initializer\": {\"class_name\": \"VarianceScaling\", \"config\": {\"distribution\": \"uniform\", \"scale\": 1.0, \"seed\": null, \"mode\": \"fan_avg\"}}, \"name\": \"dense_5\", \"kernel_constraint\": null, \"bias_regularizer\": null, \"bias_constraint\": null, \"activation\": \"relu\", \"trainable\": true, \"kernel_regularizer\": null, \"bias_initializer\": {\"class_name\": \"Zeros\", \"config\": {}}, \"units\": 10, \"use_bias\": true, \"activity_regularizer\": null}}, {\"class_name\": \"Dense\", \"config\": {\"kernel_initializer\": {\"class_name\": \"VarianceScaling\", \"config\": {\"distribution\": \"uniform\", \"scale\": 1.0, \"seed\": null, \"mode\": \"fan_avg\"}}, \"name\": \"dense_6\", \"kernel_constraint\": null, \"bias_regularizer\": null, \"bias_constraint\": null, \"activation\": \"relu\", \"trainable\": true, \"kernel_regularizer\": null, \"bias_initializer\": {\"class_name\": \"Zeros\", \"config\": {}}, \"units\": 10, \"use_bias\": true, \"activity_regularizer\": null}}, {\"class_name\": \"Dense\", \"config\": {\"kernel_initializer\": {\"class_name\": \"VarianceScaling\", \"config\": {\"distribution\": \"uniform\", \"scale\": 1.0, \"seed\": null, \"mode\": \"fan_avg\"}}, \"name\": \"dense_7\", \"kernel_constraint\": null, \"bias_regularizer\": null, \"bias_constraint\": null, \"activation\": \"softmax\", \"trainable\": true, \"kernel_regularizer\": null, \"bias_initializer\": {\"class_name\": \"Zeros\", \"config\": {}}, \"units\": 3, \"use_bias\": true, \"activity_regularizer\": null}}], \"backend\": \"tensorflow\"}\n",
    "$$\n",
    "::json,         -- JSON blob\n",
    "                               NULL,                  -- Weights\n",
    "                               'Maria',               -- Name\n",
    "                               'MLP with 2 hidden layers'       -- Descr\n",
    ");\n",
    "\n",
    "SELECT * FROM model_arch_library ORDER BY model_id;"
   ]
  },
  {
   "cell_type": "markdown",
   "metadata": {},
   "source": [
    "<a id=\"load_model_selection\"></a>\n",
    "# 3.  Load model selection table\n",
    "\n",
    "Select the model(s) from the model architecture table that you want to run, along with the compile and fit parameters.  Unique combinations will be created for the set of model selection parameters:"
   ]
  },
  {
   "cell_type": "code",
   "execution_count": 24,
   "metadata": {},
   "outputs": [
    {
     "name": "stdout",
     "output_type": "stream",
     "text": [
      "Done.\n",
      "1 rows affected.\n",
      "12 rows affected.\n"
     ]
    },
    {
     "data": {
      "text/html": [
       "<table>\n",
       "    <tr>\n",
       "        <th>mst_key</th>\n",
       "        <th>model_id</th>\n",
       "        <th>compile_params</th>\n",
       "        <th>fit_params</th>\n",
       "    </tr>\n",
       "    <tr>\n",
       "        <td>1</td>\n",
       "        <td>1</td>\n",
       "        <td>loss='categorical_crossentropy',optimizer='Adam(lr=0.1)',metrics=['accuracy']</td>\n",
       "        <td>batch_size=4,epochs=1</td>\n",
       "    </tr>\n",
       "    <tr>\n",
       "        <td>2</td>\n",
       "        <td>1</td>\n",
       "        <td>loss='categorical_crossentropy',optimizer='Adam(lr=0.1)',metrics=['accuracy']</td>\n",
       "        <td>batch_size=8,epochs=1</td>\n",
       "    </tr>\n",
       "    <tr>\n",
       "        <td>3</td>\n",
       "        <td>1</td>\n",
       "        <td>loss='categorical_crossentropy', optimizer='Adam(lr=0.01)',metrics=['accuracy']</td>\n",
       "        <td>batch_size=4,epochs=1</td>\n",
       "    </tr>\n",
       "    <tr>\n",
       "        <td>4</td>\n",
       "        <td>1</td>\n",
       "        <td>loss='categorical_crossentropy', optimizer='Adam(lr=0.01)',metrics=['accuracy']</td>\n",
       "        <td>batch_size=8,epochs=1</td>\n",
       "    </tr>\n",
       "    <tr>\n",
       "        <td>5</td>\n",
       "        <td>1</td>\n",
       "        <td>loss='categorical_crossentropy',optimizer='Adam(lr=0.001)',metrics=['accuracy']</td>\n",
       "        <td>batch_size=4,epochs=1</td>\n",
       "    </tr>\n",
       "    <tr>\n",
       "        <td>6</td>\n",
       "        <td>1</td>\n",
       "        <td>loss='categorical_crossentropy',optimizer='Adam(lr=0.001)',metrics=['accuracy']</td>\n",
       "        <td>batch_size=8,epochs=1</td>\n",
       "    </tr>\n",
       "    <tr>\n",
       "        <td>7</td>\n",
       "        <td>2</td>\n",
       "        <td>loss='categorical_crossentropy',optimizer='Adam(lr=0.1)',metrics=['accuracy']</td>\n",
       "        <td>batch_size=4,epochs=1</td>\n",
       "    </tr>\n",
       "    <tr>\n",
       "        <td>8</td>\n",
       "        <td>2</td>\n",
       "        <td>loss='categorical_crossentropy',optimizer='Adam(lr=0.1)',metrics=['accuracy']</td>\n",
       "        <td>batch_size=8,epochs=1</td>\n",
       "    </tr>\n",
       "    <tr>\n",
       "        <td>9</td>\n",
       "        <td>2</td>\n",
       "        <td>loss='categorical_crossentropy', optimizer='Adam(lr=0.01)',metrics=['accuracy']</td>\n",
       "        <td>batch_size=4,epochs=1</td>\n",
       "    </tr>\n",
       "    <tr>\n",
       "        <td>10</td>\n",
       "        <td>2</td>\n",
       "        <td>loss='categorical_crossentropy', optimizer='Adam(lr=0.01)',metrics=['accuracy']</td>\n",
       "        <td>batch_size=8,epochs=1</td>\n",
       "    </tr>\n",
       "    <tr>\n",
       "        <td>11</td>\n",
       "        <td>2</td>\n",
       "        <td>loss='categorical_crossentropy',optimizer='Adam(lr=0.001)',metrics=['accuracy']</td>\n",
       "        <td>batch_size=4,epochs=1</td>\n",
       "    </tr>\n",
       "    <tr>\n",
       "        <td>12</td>\n",
       "        <td>2</td>\n",
       "        <td>loss='categorical_crossentropy',optimizer='Adam(lr=0.001)',metrics=['accuracy']</td>\n",
       "        <td>batch_size=8,epochs=1</td>\n",
       "    </tr>\n",
       "</table>"
      ],
      "text/plain": [
       "[(1, 1, u\"loss='categorical_crossentropy',optimizer='Adam(lr=0.1)',metrics=['accuracy']\", u'batch_size=4,epochs=1'),\n",
       " (2, 1, u\"loss='categorical_crossentropy',optimizer='Adam(lr=0.1)',metrics=['accuracy']\", u'batch_size=8,epochs=1'),\n",
       " (3, 1, u\"loss='categorical_crossentropy', optimizer='Adam(lr=0.01)',metrics=['accuracy']\", u'batch_size=4,epochs=1'),\n",
       " (4, 1, u\"loss='categorical_crossentropy', optimizer='Adam(lr=0.01)',metrics=['accuracy']\", u'batch_size=8,epochs=1'),\n",
       " (5, 1, u\"loss='categorical_crossentropy',optimizer='Adam(lr=0.001)',metrics=['accuracy']\", u'batch_size=4,epochs=1'),\n",
       " (6, 1, u\"loss='categorical_crossentropy',optimizer='Adam(lr=0.001)',metrics=['accuracy']\", u'batch_size=8,epochs=1'),\n",
       " (7, 2, u\"loss='categorical_crossentropy',optimizer='Adam(lr=0.1)',metrics=['accuracy']\", u'batch_size=4,epochs=1'),\n",
       " (8, 2, u\"loss='categorical_crossentropy',optimizer='Adam(lr=0.1)',metrics=['accuracy']\", u'batch_size=8,epochs=1'),\n",
       " (9, 2, u\"loss='categorical_crossentropy', optimizer='Adam(lr=0.01)',metrics=['accuracy']\", u'batch_size=4,epochs=1'),\n",
       " (10, 2, u\"loss='categorical_crossentropy', optimizer='Adam(lr=0.01)',metrics=['accuracy']\", u'batch_size=8,epochs=1'),\n",
       " (11, 2, u\"loss='categorical_crossentropy',optimizer='Adam(lr=0.001)',metrics=['accuracy']\", u'batch_size=4,epochs=1'),\n",
       " (12, 2, u\"loss='categorical_crossentropy',optimizer='Adam(lr=0.001)',metrics=['accuracy']\", u'batch_size=8,epochs=1')]"
      ]
     },
     "execution_count": 24,
     "metadata": {},
     "output_type": "execute_result"
    }
   ],
   "source": [
    "%%sql\n",
    "DROP TABLE IF EXISTS mst_table, mst_table_summary;\n",
    "\n",
    "SELECT madlib.load_model_selection_table('model_arch_library', -- model architecture table\n",
    "                                         'mst_table',          -- model selection table output\n",
    "                                          ARRAY[1,2],              -- model ids from model architecture table\n",
    "                                          ARRAY[                   -- compile params\n",
    "                                              $$loss='categorical_crossentropy',optimizer='Adam(lr=0.1)',metrics=['accuracy']$$,\n",
    "                                              $$loss='categorical_crossentropy', optimizer='Adam(lr=0.01)',metrics=['accuracy']$$,\n",
    "                                              $$loss='categorical_crossentropy',optimizer='Adam(lr=0.001)',metrics=['accuracy']$$\n",
    "                                          ],\n",
    "                                          ARRAY[                    -- fit params\n",
    "                                              $$batch_size=4,epochs=1$$,\n",
    "                                              $$batch_size=8,epochs=1$$\n",
    "                                          ]\n",
    "                                         );\n",
    "                                  \n",
    "SELECT * FROM mst_table ORDER BY mst_key;"
   ]
  },
  {
   "cell_type": "markdown",
   "metadata": {},
   "source": [
    "The name of the model architecture table is stored in the summary table:"
   ]
  },
  {
   "cell_type": "code",
   "execution_count": 25,
   "metadata": {},
   "outputs": [
    {
     "name": "stdout",
     "output_type": "stream",
     "text": [
      "1 rows affected.\n"
     ]
    },
    {
     "data": {
      "text/html": [
       "<table>\n",
       "    <tr>\n",
       "        <th>model_arch_table</th>\n",
       "    </tr>\n",
       "    <tr>\n",
       "        <td>model_arch_library</td>\n",
       "    </tr>\n",
       "</table>"
      ],
      "text/plain": [
       "[(u'model_arch_library',)]"
      ]
     },
     "execution_count": 25,
     "metadata": {},
     "output_type": "execute_result"
    }
   ],
   "source": [
    "%%sql\n",
    "SELECT * FROM mst_table_summary;"
   ]
  },
  {
   "cell_type": "markdown",
   "metadata": {},
   "source": [
    "<a id=\"load_model_selection_manual\"></a>\n",
    "# 4.  Create model selection table manually\n",
    "\n",
    "If you would like to have more control over the set of model selection parameters to run, you can manually create the model selection table and the associated summary table.  Both must be created since they are needed by the multiple model fit module.\n",
    "\n",
    "For example, let's say we don't want all combinations but only want batch_size=4 for model_id=1 and batch_size=8 for model_id=2:"
   ]
  },
  {
   "cell_type": "code",
   "execution_count": 26,
   "metadata": {},
   "outputs": [
    {
     "name": "stdout",
     "output_type": "stream",
     "text": [
      "Done.\n",
      "Done.\n",
      "6 rows affected.\n",
      "6 rows affected.\n"
     ]
    },
    {
     "data": {
      "text/html": [
       "<table>\n",
       "    <tr>\n",
       "        <th>mst_key</th>\n",
       "        <th>model_arch_id</th>\n",
       "        <th>compile_params</th>\n",
       "        <th>fit_params</th>\n",
       "    </tr>\n",
       "    <tr>\n",
       "        <td>1</td>\n",
       "        <td>1</td>\n",
       "        <td>loss='categorical_crossentropy',optimizer='Adam(lr=0.1)',metrics=['accuracy']</td>\n",
       "        <td>batch_size=4,epochs=1</td>\n",
       "    </tr>\n",
       "    <tr>\n",
       "        <td>2</td>\n",
       "        <td>1</td>\n",
       "        <td>loss='categorical_crossentropy',optimizer='Adam(lr=0.01)',metrics=['accuracy']</td>\n",
       "        <td>batch_size=4,epochs=1</td>\n",
       "    </tr>\n",
       "    <tr>\n",
       "        <td>3</td>\n",
       "        <td>1</td>\n",
       "        <td>loss='categorical_crossentropy',optimizer='Adam(lr=0.001)',metrics=['accuracy']</td>\n",
       "        <td>batch_size=4,epochs=1</td>\n",
       "    </tr>\n",
       "    <tr>\n",
       "        <td>4</td>\n",
       "        <td>2</td>\n",
       "        <td>loss='categorical_crossentropy',optimizer='Adam(lr=0.1)',metrics=['accuracy']</td>\n",
       "        <td>batch_size=8,epochs=1</td>\n",
       "    </tr>\n",
       "    <tr>\n",
       "        <td>5</td>\n",
       "        <td>2</td>\n",
       "        <td>loss='categorical_crossentropy',optimizer='Adam(lr=0.01)',metrics=['accuracy']</td>\n",
       "        <td>batch_size=8,epochs=1</td>\n",
       "    </tr>\n",
       "    <tr>\n",
       "        <td>6</td>\n",
       "        <td>2</td>\n",
       "        <td>loss='categorical_crossentropy',optimizer='Adam(lr=0.001)',metrics=['accuracy']</td>\n",
       "        <td>batch_size=8,epochs=1</td>\n",
       "    </tr>\n",
       "</table>"
      ],
      "text/plain": [
       "[(1, 1, u\"loss='categorical_crossentropy',optimizer='Adam(lr=0.1)',metrics=['accuracy']\", u'batch_size=4,epochs=1'),\n",
       " (2, 1, u\"loss='categorical_crossentropy',optimizer='Adam(lr=0.01)',metrics=['accuracy']\", u'batch_size=4,epochs=1'),\n",
       " (3, 1, u\"loss='categorical_crossentropy',optimizer='Adam(lr=0.001)',metrics=['accuracy']\", u'batch_size=4,epochs=1'),\n",
       " (4, 2, u\"loss='categorical_crossentropy',optimizer='Adam(lr=0.1)',metrics=['accuracy']\", u'batch_size=8,epochs=1'),\n",
       " (5, 2, u\"loss='categorical_crossentropy',optimizer='Adam(lr=0.01)',metrics=['accuracy']\", u'batch_size=8,epochs=1'),\n",
       " (6, 2, u\"loss='categorical_crossentropy',optimizer='Adam(lr=0.001)',metrics=['accuracy']\", u'batch_size=8,epochs=1')]"
      ]
     },
     "execution_count": 26,
     "metadata": {},
     "output_type": "execute_result"
    }
   ],
   "source": [
    "%%sql\n",
    "DROP TABLE IF EXISTS mst_table_manual;\n",
    "\n",
    "CREATE TABLE mst_table_manual(\n",
    "    mst_key serial,\n",
    "    model_arch_id integer,\n",
    "    compile_params varchar,\n",
    "    fit_params varchar\n",
    ");\n",
    "\n",
    "INSERT INTO mst_table_manual(model_arch_id, compile_params, fit_params) VALUES\n",
    "(1, $$loss='categorical_crossentropy',optimizer='Adam(lr=0.1)',metrics=['accuracy']$$, 'batch_size=4,epochs=1'),\n",
    "(1, $$loss='categorical_crossentropy',optimizer='Adam(lr=0.01)',metrics=['accuracy']$$, 'batch_size=4,epochs=1'),\n",
    "(1, $$loss='categorical_crossentropy',optimizer='Adam(lr=0.001)',metrics=['accuracy']$$, 'batch_size=4,epochs=1'),\n",
    "(2, $$loss='categorical_crossentropy',optimizer='Adam(lr=0.1)',metrics=['accuracy']$$, 'batch_size=8,epochs=1'),\n",
    "(2, $$loss='categorical_crossentropy',optimizer='Adam(lr=0.01)',metrics=['accuracy']$$, 'batch_size=8,epochs=1'),\n",
    "(2, $$loss='categorical_crossentropy',optimizer='Adam(lr=0.001)',metrics=['accuracy']$$, 'batch_size=8,epochs=1');\n",
    "\n",
    "SELECT * FROM mst_table_manual ORDER BY mst_key; "
   ]
  },
  {
   "cell_type": "markdown",
   "metadata": {},
   "source": [
    "Create the summary table which must be named with the model selection output table appended by \"_summary\":"
   ]
  },
  {
   "cell_type": "code",
   "execution_count": 27,
   "metadata": {},
   "outputs": [
    {
     "name": "stdout",
     "output_type": "stream",
     "text": [
      "Done.\n",
      "Done.\n",
      "1 rows affected.\n",
      "1 rows affected.\n"
     ]
    },
    {
     "data": {
      "text/html": [
       "<table>\n",
       "    <tr>\n",
       "        <th>model_arch_table</th>\n",
       "    </tr>\n",
       "    <tr>\n",
       "        <td>model_arch_library</td>\n",
       "    </tr>\n",
       "</table>"
      ],
      "text/plain": [
       "[(u'model_arch_library',)]"
      ]
     },
     "execution_count": 27,
     "metadata": {},
     "output_type": "execute_result"
    }
   ],
   "source": [
    "%%sql\n",
    "DROP TABLE IF EXISTS mst_table_manual_summary;\n",
    "\n",
    "CREATE TABLE mst_table_manual_summary (\n",
    "    model_arch_table varchar\n",
    ");\n",
    "\n",
    "INSERT INTO mst_table_manual_summary(model_arch_table) VALUES\n",
    "('model_arch_library');\n",
    "\n",
    "SELECT * FROM mst_table_manual_summary; "
   ]
  },
  {
   "cell_type": "markdown",
   "metadata": {},
   "source": [
    "<a id=\"load_model_selection_auto\"></a>\n",
    "# 5. Generate hyperparameters automatically\n",
    "\n",
    "You can use other libraries or methods to generate hyperparameters according to the tests that you want to run.  For example, let's randomly generate batch size from powers of 2 and learning rate on a log scale.\n",
    "\n",
    "We use psycopg which is a PostgreSQL database adapter for the Python programming language."
   ]
  },
  {
   "cell_type": "code",
   "execution_count": 28,
   "metadata": {},
   "outputs": [
    {
     "name": "stdout",
     "output_type": "stream",
     "text": [
      "Done.\n",
      "12 rows affected.\n"
     ]
    },
    {
     "data": {
      "text/html": [
       "<table>\n",
       "    <tr>\n",
       "        <th>mst_key</th>\n",
       "        <th>model_id</th>\n",
       "        <th>compile_params</th>\n",
       "        <th>fit_params</th>\n",
       "    </tr>\n",
       "    <tr>\n",
       "        <td>1</td>\n",
       "        <td>1</td>\n",
       "        <td>loss='categorical_crossentropy',optimizer='Adam(lr=0.1)',metrics=['accuracy']</td>\n",
       "        <td>batch_size=32,epochs=1</td>\n",
       "    </tr>\n",
       "    <tr>\n",
       "        <td>2</td>\n",
       "        <td>1</td>\n",
       "        <td>loss='categorical_crossentropy',optimizer='Adam(lr=0.1)',metrics=['accuracy']</td>\n",
       "        <td>batch_size=64,epochs=1</td>\n",
       "    </tr>\n",
       "    <tr>\n",
       "        <td>3</td>\n",
       "        <td>1</td>\n",
       "        <td>loss='categorical_crossentropy',optimizer='Adam(lr=0.01)',metrics=['accuracy']</td>\n",
       "        <td>batch_size=32,epochs=1</td>\n",
       "    </tr>\n",
       "    <tr>\n",
       "        <td>4</td>\n",
       "        <td>1</td>\n",
       "        <td>loss='categorical_crossentropy',optimizer='Adam(lr=0.01)',metrics=['accuracy']</td>\n",
       "        <td>batch_size=64,epochs=1</td>\n",
       "    </tr>\n",
       "    <tr>\n",
       "        <td>5</td>\n",
       "        <td>1</td>\n",
       "        <td>loss='categorical_crossentropy',optimizer='Adam(lr=0.001)',metrics=['accuracy']</td>\n",
       "        <td>batch_size=32,epochs=1</td>\n",
       "    </tr>\n",
       "    <tr>\n",
       "        <td>6</td>\n",
       "        <td>1</td>\n",
       "        <td>loss='categorical_crossentropy',optimizer='Adam(lr=0.001)',metrics=['accuracy']</td>\n",
       "        <td>batch_size=64,epochs=1</td>\n",
       "    </tr>\n",
       "    <tr>\n",
       "        <td>7</td>\n",
       "        <td>2</td>\n",
       "        <td>loss='categorical_crossentropy',optimizer='Adam(lr=0.1)',metrics=['accuracy']</td>\n",
       "        <td>batch_size=32,epochs=1</td>\n",
       "    </tr>\n",
       "    <tr>\n",
       "        <td>8</td>\n",
       "        <td>2</td>\n",
       "        <td>loss='categorical_crossentropy',optimizer='Adam(lr=0.1)',metrics=['accuracy']</td>\n",
       "        <td>batch_size=64,epochs=1</td>\n",
       "    </tr>\n",
       "    <tr>\n",
       "        <td>9</td>\n",
       "        <td>2</td>\n",
       "        <td>loss='categorical_crossentropy',optimizer='Adam(lr=0.01)',metrics=['accuracy']</td>\n",
       "        <td>batch_size=32,epochs=1</td>\n",
       "    </tr>\n",
       "    <tr>\n",
       "        <td>10</td>\n",
       "        <td>2</td>\n",
       "        <td>loss='categorical_crossentropy',optimizer='Adam(lr=0.01)',metrics=['accuracy']</td>\n",
       "        <td>batch_size=64,epochs=1</td>\n",
       "    </tr>\n",
       "    <tr>\n",
       "        <td>11</td>\n",
       "        <td>2</td>\n",
       "        <td>loss='categorical_crossentropy',optimizer='Adam(lr=0.001)',metrics=['accuracy']</td>\n",
       "        <td>batch_size=32,epochs=1</td>\n",
       "    </tr>\n",
       "    <tr>\n",
       "        <td>12</td>\n",
       "        <td>2</td>\n",
       "        <td>loss='categorical_crossentropy',optimizer='Adam(lr=0.001)',metrics=['accuracy']</td>\n",
       "        <td>batch_size=64,epochs=1</td>\n",
       "    </tr>\n",
       "</table>"
      ],
      "text/plain": [
       "[(1, 1, u\"loss='categorical_crossentropy',optimizer='Adam(lr=0.1)',metrics=['accuracy']\", u'batch_size=32,epochs=1'),\n",
       " (2, 1, u\"loss='categorical_crossentropy',optimizer='Adam(lr=0.1)',metrics=['accuracy']\", u'batch_size=64,epochs=1'),\n",
       " (3, 1, u\"loss='categorical_crossentropy',optimizer='Adam(lr=0.01)',metrics=['accuracy']\", u'batch_size=32,epochs=1'),\n",
       " (4, 1, u\"loss='categorical_crossentropy',optimizer='Adam(lr=0.01)',metrics=['accuracy']\", u'batch_size=64,epochs=1'),\n",
       " (5, 1, u\"loss='categorical_crossentropy',optimizer='Adam(lr=0.001)',metrics=['accuracy']\", u'batch_size=32,epochs=1'),\n",
       " (6, 1, u\"loss='categorical_crossentropy',optimizer='Adam(lr=0.001)',metrics=['accuracy']\", u'batch_size=64,epochs=1'),\n",
       " (7, 2, u\"loss='categorical_crossentropy',optimizer='Adam(lr=0.1)',metrics=['accuracy']\", u'batch_size=32,epochs=1'),\n",
       " (8, 2, u\"loss='categorical_crossentropy',optimizer='Adam(lr=0.1)',metrics=['accuracy']\", u'batch_size=64,epochs=1'),\n",
       " (9, 2, u\"loss='categorical_crossentropy',optimizer='Adam(lr=0.01)',metrics=['accuracy']\", u'batch_size=32,epochs=1'),\n",
       " (10, 2, u\"loss='categorical_crossentropy',optimizer='Adam(lr=0.01)',metrics=['accuracy']\", u'batch_size=64,epochs=1'),\n",
       " (11, 2, u\"loss='categorical_crossentropy',optimizer='Adam(lr=0.001)',metrics=['accuracy']\", u'batch_size=32,epochs=1'),\n",
       " (12, 2, u\"loss='categorical_crossentropy',optimizer='Adam(lr=0.001)',metrics=['accuracy']\", u'batch_size=64,epochs=1')]"
      ]
     },
     "execution_count": 28,
     "metadata": {},
     "output_type": "execute_result"
    }
   ],
   "source": [
    "import numpy as np\n",
    "import psycopg2 as p2\n",
    "conn = p2.connect('postgresql://gpadmin@localhost:8000/madlib')\n",
    "#conn = p2.connect('postgresql://fmcquillan@localhost:5432/madlib')\n",
    "cur = conn.cursor()\n",
    "\n",
    "%sql DROP TABLE IF EXISTS mst_table_auto, mst_table_auto_summary;\n",
    "\n",
    "#compile params\n",
    "learning_rate = np.random.permutation([0.1,0.01,0.001,0.0001])[:3]\n",
    "compile_param1 = \"loss='categorical_crossentropy',optimizer='Adam(lr=\" + str(learning_rate[0]) + \")',metrics=['accuracy']\"\n",
    "compile_param2 = \"loss='categorical_crossentropy',optimizer='Adam(lr=\" + str(learning_rate[1]) + \")',metrics=['accuracy']\"\n",
    "compile_param3 = \"loss='categorical_crossentropy',optimizer='Adam(lr=\" + str(learning_rate[2]) + \")',metrics=['accuracy']\"\n",
    "compile_params = [compile_param1,compile_param2,compile_param3]\n",
    "\n",
    "#fit params\n",
    "batch_size = np.random.permutation([4,8,16,32,64])[:2]\n",
    "fit_param1 = \"batch_size=\" + str(batch_size[0]) + \",epochs=1\"\n",
    "fit_param2 = \"batch_size=\" + str(batch_size[1]) + \",epochs=1\"\n",
    "fit_params = [fit_param1,fit_param2]\n",
    "\n",
    "query = \"SELECT madlib.load_model_selection_table('model_arch_library', 'mst_table_auto', ARRAY[1,2], %s, %s);\"\n",
    "\n",
    "cur.execute(query,[compile_params, fit_params])\n",
    "conn.commit()\n",
    "\n",
    "#review model selection table\n",
    "%sql SELECT * FROM mst_table_auto ORDER BY mst_key;"
   ]
  },
  {
   "cell_type": "markdown",
   "metadata": {},
   "source": [
    "The name of the model architecture table is stored in the summary table:"
   ]
  },
  {
   "cell_type": "code",
   "execution_count": 29,
   "metadata": {},
   "outputs": [
    {
     "name": "stdout",
     "output_type": "stream",
     "text": [
      "1 rows affected.\n"
     ]
    },
    {
     "data": {
      "text/html": [
       "<table>\n",
       "    <tr>\n",
       "        <th>model_arch_table</th>\n",
       "    </tr>\n",
       "    <tr>\n",
       "        <td>model_arch_library</td>\n",
       "    </tr>\n",
       "</table>"
      ],
      "text/plain": [
       "[(u'model_arch_library',)]"
      ]
     },
     "execution_count": 29,
     "metadata": {},
     "output_type": "execute_result"
    }
   ],
   "source": [
    "%%sql\n",
    "SELECT * FROM mst_table_auto_summary;"
   ]
  }
 ],
 "metadata": {
  "kernelspec": {
   "display_name": "Python 2",
   "language": "python",
   "name": "python2"
  },
  "language_info": {
   "codemirror_mode": {
    "name": "ipython",
    "version": 2
   },
   "file_extension": ".py",
   "mimetype": "text/x-python",
   "name": "python",
   "nbconvert_exporter": "python",
   "pygments_lexer": "ipython2",
   "version": "2.7.10"
  }
 },
 "nbformat": 4,
 "nbformat_minor": 1
}
