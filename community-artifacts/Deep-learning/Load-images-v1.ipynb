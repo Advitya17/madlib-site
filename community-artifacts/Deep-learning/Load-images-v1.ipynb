{
 "cells": [
  {
   "cell_type": "markdown",
   "metadata": {},
   "source": [
    "# Load images into table\n",
    "\n",
    "This demonstrates different ways to load images into a database table.\n",
    "\n",
    "We use the script called <em>madlib_image_loader.py</em> located at https://github.com/apache/madlib-site/tree/asf-site/community-artifacts/Deep-learning which uses the Python Imaging Library so supports multiple formats http://www.pythonware.com/products/pil/\n",
    "\n",
    "## Table of contents\n",
    "\n",
    "<a href=\"#setup\">1. Setup image loader</a>\n",
    "\n",
    "<a href=\"#fetch_numpy\">2. Fetch images then load NumPy array into table</a>\n",
    "\n",
    "<a href=\"#file_system\">3. Load from file system into table</a>"
   ]
  },
  {
   "cell_type": "code",
   "execution_count": 1,
   "metadata": {},
   "outputs": [
    {
     "name": "stderr",
     "output_type": "stream",
     "text": [
      "/Users/fmcquillan/anaconda/lib/python2.7/site-packages/IPython/config.py:13: ShimWarning: The `IPython.config` package has been deprecated since IPython 4.0. You should import from traitlets.config instead.\n",
      "  \"You should import from traitlets.config instead.\", ShimWarning)\n",
      "/Users/fmcquillan/anaconda/lib/python2.7/site-packages/IPython/utils/traitlets.py:5: UserWarning: IPython.utils.traitlets has moved to a top-level traitlets package.\n",
      "  warn(\"IPython.utils.traitlets has moved to a top-level traitlets package.\")\n"
     ]
    }
   ],
   "source": [
    "%load_ext sql"
   ]
  },
  {
   "cell_type": "code",
   "execution_count": 2,
   "metadata": {},
   "outputs": [
    {
     "data": {
      "text/plain": [
       "u'Connected: fmcquillan@madlib'"
      ]
     },
     "execution_count": 2,
     "metadata": {},
     "output_type": "execute_result"
    }
   ],
   "source": [
    "# Greenplum Database 5.x on GCP for deep learning (PM demo machine)\n",
    "#%sql postgresql://gpadmin@35.239.240.26:5432/madlib\n",
    "        \n",
    "# PostgreSQL local\n",
    "%sql postgresql://fmcquillan@localhost:5432/madlib"
   ]
  },
  {
   "cell_type": "code",
   "execution_count": 3,
   "metadata": {},
   "outputs": [
    {
     "name": "stdout",
     "output_type": "stream",
     "text": [
      "1 rows affected.\n"
     ]
    },
    {
     "data": {
      "text/html": [
       "<table>\n",
       "    <tr>\n",
       "        <th>version</th>\n",
       "    </tr>\n",
       "    <tr>\n",
       "        <td>MADlib version: 1.16, git revision: rc/1.16-rc1, cmake configuration time: Mon Jul  1 17:45:09 UTC 2019, build type: Release, build system: Darwin-16.7.0, C compiler: Clang, C++ compiler: Clang</td>\n",
       "    </tr>\n",
       "</table>"
      ],
      "text/plain": [
       "[(u'MADlib version: 1.16, git revision: rc/1.16-rc1, cmake configuration time: Mon Jul  1 17:45:09 UTC 2019, build type: Release, build system: Darwin-16.7.0, C compiler: Clang, C++ compiler: Clang',)]"
      ]
     },
     "execution_count": 3,
     "metadata": {},
     "output_type": "execute_result"
    }
   ],
   "source": [
    "%sql select madlib.version();\n",
    "#%sql select version();"
   ]
  },
  {
   "cell_type": "markdown",
   "metadata": {},
   "source": [
    "<a id=\"setup\"></a>\n",
    "# 1. Set up image loader\n",
    "\n",
    "We use the script called <em>madlib_image_loader.py</em> located at https://github.com/apache/madlib-site/tree/asf-site/community-artifacts/Deep-learning"
   ]
  },
  {
   "cell_type": "code",
   "execution_count": 4,
   "metadata": {},
   "outputs": [
    {
     "name": "stderr",
     "output_type": "stream",
     "text": [
      "Using TensorFlow backend.\n"
     ]
    },
    {
     "name": "stdout",
     "output_type": "stream",
     "text": [
      "Couldn't import dot_parser, loading of dot files will not be possible.\n"
     ]
    }
   ],
   "source": [
    "import sys\n",
    "import os\n",
    "from keras.datasets import cifar10"
   ]
  },
  {
   "cell_type": "code",
   "execution_count": 5,
   "metadata": {},
   "outputs": [],
   "source": [
    "madlib_site_dir = '/Users/fmcquillan/Documents/Product/MADlib/Demos/data'\n",
    "sys.path.append(madlib_site_dir)"
   ]
  },
  {
   "cell_type": "code",
   "execution_count": 6,
   "metadata": {},
   "outputs": [],
   "source": [
    "# Import image loader module\n",
    "from madlib_image_loader import ImageLoader, DbCredentials"
   ]
  },
  {
   "cell_type": "code",
   "execution_count": 7,
   "metadata": {},
   "outputs": [],
   "source": [
    "# Specify database credentials, for connecting to db\n",
    "#db_creds = DbCredentials(user='gpadmin',\n",
    "#                         host='35.239.240.26',\n",
    "#                         port='5432',\n",
    "#                         password='')\n",
    "\n",
    "# Specify database credentials, for connecting to db\n",
    "db_creds = DbCredentials(user='fmcquillan',\n",
    "                          host='localhost',\n",
    "                          port='5432',\n",
    "                          password='')"
   ]
  },
  {
   "cell_type": "code",
   "execution_count": 8,
   "metadata": {},
   "outputs": [],
   "source": [
    "# Initialize ImageLoader (increase num_workers to run faster)\n",
    "iloader = ImageLoader(num_workers=5, db_creds=db_creds)"
   ]
  },
  {
   "cell_type": "markdown",
   "metadata": {},
   "source": [
    "<a id=\"fetch_numpy\"></a>\n",
    "# 2. Fetch images then load NumPy array into table\n",
    "\n",
    "<em>iloader.load_dataset_from_np(data_x, data_y, table_name, append=False)</em>\n",
    "\n",
    "- <em>data_x</em> contains image data in np.array format\n",
    "\n",
    "\n",
    "- <em>data_y</em> is a 1D np.array of the image categories (labels).\n",
    "\n",
    "\n",
    "- If the user passes a <em>table_name</em> while creating ImageLoader object, it will be used for all further calls to load_dataset_from_np.  It can be changed by passing it as a parameter during the actual call to load_dataset_from_np, and if so future calls will load to that table name instead.  This avoids needing to pass the table_name again every time, but also allows it to be changed at any time.\n",
    "\n",
    "           \n",
    "- <em>append=False</em> attempts to create a new table, while <em>append=True</em> appends more images to an existing table."
   ]
  },
  {
   "cell_type": "code",
   "execution_count": 12,
   "metadata": {},
   "outputs": [],
   "source": [
    "# Load dataset into np array\n",
    "(x_train, y_train), (x_test, y_test) = cifar10.load_data()"
   ]
  },
  {
   "cell_type": "code",
   "execution_count": 13,
   "metadata": {},
   "outputs": [
    {
     "name": "stdout",
     "output_type": "stream",
     "text": [
      "Done.\n",
      "MainProcess: Connected to madlib db.\n",
      "Executing: CREATE TABLE cifar_10_train_data (id SERIAL, x REAL[], y TEXT)\n",
      "CREATE TABLE\n",
      "Created table cifar_10_train_data in madlib db\n",
      "Spawning 5 workers...\n",
      "Initializing PoolWorker-1 [pid 32578]\n",
      "PoolWorker-1: Created temporary directory /tmp/madlib_7llkr1iwrB\n",
      "Initializing PoolWorker-2 [pid 32579]\n",
      "PoolWorker-2: Created temporary directory /tmp/madlib_gFBeKWnLLL\n",
      "Initializing PoolWorker-3 [pid 32580]\n",
      "PoolWorker-3: Created temporary directory /tmp/madlib_3EqOi1Elxy\n",
      "PoolWorker-1: Connected to madlib db.\n",
      "Initializing PoolWorker-4 [pid 32581]\n",
      "PoolWorker-4: Created temporary directory /tmp/madlib_t3HzIGOeAn\n",
      "PoolWorker-2: Connected to madlib db.\n",
      "Initializing PoolWorker-5 [pid 32583]\n",
      "PoolWorker-3: Connected to madlib db.\n",
      "PoolWorker-5: Created temporary directory /tmp/madlib_I9wQ0HGhrx\n",
      "PoolWorker-4: Connected to madlib db.\n",
      "PoolWorker-5: Connected to madlib db.\n",
      "PoolWorker-1: Wrote 1000 images to /tmp/madlib_7llkr1iwrB/cifar_10_train_data0000.tmp\n",
      "PoolWorker-2: Wrote 1000 images to /tmp/madlib_gFBeKWnLLL/cifar_10_train_data0000.tmp\n",
      "PoolWorker-3: Wrote 1000 images to /tmp/madlib_3EqOi1Elxy/cifar_10_train_data0000.tmp\n",
      "PoolWorker-4: Wrote 1000 images to /tmp/madlib_t3HzIGOeAn/cifar_10_train_data0000.tmp\n",
      "PoolWorker-5: Wrote 1000 images to /tmp/madlib_I9wQ0HGhrx/cifar_10_train_data0000.tmp\n",
      "PoolWorker-1: Loaded 1000 images into cifar_10_train_data\n",
      "PoolWorker-2: Loaded 1000 images into cifar_10_train_data\n",
      "PoolWorker-3: Loaded 1000 images into cifar_10_train_data\n",
      "PoolWorker-4: Loaded 1000 images into cifar_10_train_data\n",
      "PoolWorker-5: Loaded 1000 images into cifar_10_train_data\n",
      "PoolWorker-1: Wrote 1000 images to /tmp/madlib_7llkr1iwrB/cifar_10_train_data0001.tmp\n",
      "PoolWorker-2: Wrote 1000 images to /tmp/madlib_gFBeKWnLLL/cifar_10_train_data0001.tmp\n",
      "PoolWorker-3: Wrote 1000 images to /tmp/madlib_3EqOi1Elxy/cifar_10_train_data0001.tmp\n",
      "PoolWorker-4: Wrote 1000 images to /tmp/madlib_t3HzIGOeAn/cifar_10_train_data0001.tmp\n",
      "PoolWorker-5: Wrote 1000 images to /tmp/madlib_I9wQ0HGhrx/cifar_10_train_data0001.tmp\n",
      "PoolWorker-1: Loaded 1000 images into cifar_10_train_data\n",
      "PoolWorker-2: Loaded 1000 images into cifar_10_train_data\n",
      "PoolWorker-3: Loaded 1000 images into cifar_10_train_data\n",
      "PoolWorker-4: Loaded 1000 images into cifar_10_train_data\n",
      "PoolWorker-5: Loaded 1000 images into cifar_10_train_data\n",
      "PoolWorker-1: Wrote 1000 images to /tmp/madlib_7llkr1iwrB/cifar_10_train_data0002.tmp\n",
      "PoolWorker-2: Wrote 1000 images to /tmp/madlib_gFBeKWnLLL/cifar_10_train_data0002.tmp\n",
      "PoolWorker-3: Wrote 1000 images to /tmp/madlib_3EqOi1Elxy/cifar_10_train_data0002.tmp\n",
      "PoolWorker-4: Wrote 1000 images to /tmp/madlib_t3HzIGOeAn/cifar_10_train_data0002.tmp\n",
      "PoolWorker-5: Wrote 1000 images to /tmp/madlib_I9wQ0HGhrx/cifar_10_train_data0002.tmp\n",
      "PoolWorker-1: Loaded 1000 images into cifar_10_train_data\n",
      "PoolWorker-2: Loaded 1000 images into cifar_10_train_data\n",
      "PoolWorker-3: Loaded 1000 images into cifar_10_train_data\n",
      "PoolWorker-4: Loaded 1000 images into cifar_10_train_data\n",
      "PoolWorker-5: Loaded 1000 images into cifar_10_train_data\n",
      "PoolWorker-1: Wrote 1000 images to /tmp/madlib_7llkr1iwrB/cifar_10_train_data0003.tmp\n",
      "PoolWorker-2: Wrote 1000 images to /tmp/madlib_gFBeKWnLLL/cifar_10_train_data0003.tmp\n",
      "PoolWorker-3: Wrote 1000 images to /tmp/madlib_3EqOi1Elxy/cifar_10_train_data0003.tmp\n",
      "PoolWorker-4: Wrote 1000 images to /tmp/madlib_t3HzIGOeAn/cifar_10_train_data0003.tmp\n",
      "PoolWorker-5: Wrote 1000 images to /tmp/madlib_I9wQ0HGhrx/cifar_10_train_data0003.tmp\n",
      "PoolWorker-1: Loaded 1000 images into cifar_10_train_data\n",
      "PoolWorker-2: Loaded 1000 images into cifar_10_train_data\n",
      "PoolWorker-3: Loaded 1000 images into cifar_10_train_data\n",
      "PoolWorker-4: Loaded 1000 images into cifar_10_train_data\n",
      "PoolWorker-5: Loaded 1000 images into cifar_10_train_data\n",
      "PoolWorker-1: Wrote 1000 images to /tmp/madlib_7llkr1iwrB/cifar_10_train_data0004.tmp\n",
      "PoolWorker-2: Wrote 1000 images to /tmp/madlib_gFBeKWnLLL/cifar_10_train_data0004.tmp\n",
      "PoolWorker-3: Wrote 1000 images to /tmp/madlib_3EqOi1Elxy/cifar_10_train_data0004.tmp\n",
      "PoolWorker-4: Wrote 1000 images to /tmp/madlib_t3HzIGOeAn/cifar_10_train_data0004.tmp\n",
      "PoolWorker-1: Loaded 1000 images into cifar_10_train_data\n",
      "PoolWorker-5: Wrote 1000 images to /tmp/madlib_I9wQ0HGhrx/cifar_10_train_data0004.tmp\n",
      "PoolWorker-2: Loaded 1000 images into cifar_10_train_data\n",
      "PoolWorker-3: Loaded 1000 images into cifar_10_train_data\n",
      "PoolWorker-4: Loaded 1000 images into cifar_10_train_data\n",
      "PoolWorker-5: Loaded 1000 images into cifar_10_train_data\n",
      "PoolWorker-1: Wrote 1000 images to /tmp/madlib_7llkr1iwrB/cifar_10_train_data0005.tmp\n",
      "PoolWorker-2: Wrote 1000 images to /tmp/madlib_gFBeKWnLLL/cifar_10_train_data0005.tmp\n",
      "PoolWorker-1: Loaded 1000 images into cifar_10_train_data\n",
      "PoolWorker-4: Wrote 1000 images to /tmp/madlib_t3HzIGOeAn/cifar_10_train_data0005.tmp\n",
      "PoolWorker-3: Wrote 1000 images to /tmp/madlib_3EqOi1Elxy/cifar_10_train_data0005.tmp\n",
      "PoolWorker-5: Wrote 1000 images to /tmp/madlib_I9wQ0HGhrx/cifar_10_train_data0005.tmp\n",
      "PoolWorker-2: Loaded 1000 images into cifar_10_train_data\n",
      "PoolWorker-4: Loaded 1000 images into cifar_10_train_data\n",
      "PoolWorker-3: Loaded 1000 images into cifar_10_train_data\n",
      "PoolWorker-5: Loaded 1000 images into cifar_10_train_data\n",
      "PoolWorker-1: Wrote 1000 images to /tmp/madlib_7llkr1iwrB/cifar_10_train_data0006.tmp\n",
      "PoolWorker-2: Wrote 1000 images to /tmp/madlib_gFBeKWnLLL/cifar_10_train_data0006.tmp\n",
      "PoolWorker-1: Loaded 1000 images into cifar_10_train_data\n",
      "PoolWorker-4: Wrote 1000 images to /tmp/madlib_t3HzIGOeAn/cifar_10_train_data0006.tmp\n",
      "PoolWorker-3: Wrote 1000 images to /tmp/madlib_3EqOi1Elxy/cifar_10_train_data0006.tmp\n",
      "PoolWorker-5: Wrote 1000 images to /tmp/madlib_I9wQ0HGhrx/cifar_10_train_data0006.tmp\n",
      "PoolWorker-2: Loaded 1000 images into cifar_10_train_data\n",
      "PoolWorker-1: Wrote 1000 images to /tmp/madlib_7llkr1iwrB/cifar_10_train_data0007.tmp\n",
      "PoolWorker-4: Loaded 1000 images into cifar_10_train_data\n",
      "PoolWorker-3: Loaded 1000 images into cifar_10_train_data\n",
      "PoolWorker-5: Loaded 1000 images into cifar_10_train_data\n",
      "PoolWorker-1: Loaded 1000 images into cifar_10_train_data\n",
      "PoolWorker-2: Wrote 1000 images to /tmp/madlib_gFBeKWnLLL/cifar_10_train_data0007.tmp\n",
      "PoolWorker-3: Wrote 1000 images to /tmp/madlib_3EqOi1Elxy/cifar_10_train_data0007.tmp\n",
      "PoolWorker-4: Wrote 1000 images to /tmp/madlib_t3HzIGOeAn/cifar_10_train_data0007.tmp\n",
      "PoolWorker-5: Wrote 1000 images to /tmp/madlib_I9wQ0HGhrx/cifar_10_train_data0007.tmp\n",
      "PoolWorker-2: Loaded 1000 images into cifar_10_train_data\n",
      "PoolWorker-1: Wrote 1000 images to /tmp/madlib_7llkr1iwrB/cifar_10_train_data0008.tmp\n",
      "PoolWorker-3: Loaded 1000 images into cifar_10_train_data\n",
      "PoolWorker-4: Loaded 1000 images into cifar_10_train_data\n",
      "PoolWorker-5: Loaded 1000 images into cifar_10_train_data\n",
      "PoolWorker-1: Loaded 1000 images into cifar_10_train_data\n",
      "PoolWorker-2: Wrote 1000 images to /tmp/madlib_gFBeKWnLLL/cifar_10_train_data0008.tmp\n",
      "PoolWorker-3: Wrote 1000 images to /tmp/madlib_3EqOi1Elxy/cifar_10_train_data0008.tmp\n",
      "PoolWorker-4: Wrote 1000 images to /tmp/madlib_t3HzIGOeAn/cifar_10_train_data0008.tmp\n",
      "PoolWorker-5: Wrote 1000 images to /tmp/madlib_I9wQ0HGhrx/cifar_10_train_data0008.tmp\n",
      "PoolWorker-2: Loaded 1000 images into cifar_10_train_data\n",
      "PoolWorker-1: Wrote 1000 images to /tmp/madlib_7llkr1iwrB/cifar_10_train_data0009.tmp\n",
      "PoolWorker-3: Loaded 1000 images into cifar_10_train_data\n",
      "PoolWorker-4: Loaded 1000 images into cifar_10_train_data\n",
      "PoolWorker-5: Loaded 1000 images into cifar_10_train_data\n",
      "PoolWorker-1: Loaded 1000 images into cifar_10_train_data\n",
      "PoolWorker-2: Wrote 1000 images to /tmp/madlib_gFBeKWnLLL/cifar_10_train_data0009.tmp\n",
      "PoolWorker-2: Loaded 1000 images into cifar_10_train_data\n",
      "PoolWorker-1: Wrote 1000 images to /tmp/madlib_7llkr1iwrB/cifar_10_train_data0010.tmp\n",
      "PoolWorker-1: Loaded 1000 images into cifar_10_train_data\n",
      "PoolWorker-2: Wrote 1000 images to /tmp/madlib_gFBeKWnLLL/cifar_10_train_data0010.tmp\n",
      "PoolWorker-2: Loaded 1000 images into cifar_10_train_data\n",
      "PoolWorker-1: Wrote 1000 images to /tmp/madlib_7llkr1iwrB/cifar_10_train_data0011.tmp\n",
      "PoolWorker-1: Loaded 1000 images into cifar_10_train_data\n",
      "PoolWorker-5: Removed temporary directory /tmp/madlib_I9wQ0HGhrx\n",
      "PoolWorker-2: Removed temporary directory /tmp/madlib_gFBeKWnLLL\n"
     ]
    },
    {
     "name": "stdout",
     "output_type": "stream",
     "text": [
      "PoolWorker-3: Removed temporary directory /tmp/madlib_3EqOi1Elxy\n",
      "PoolWorker-1: Removed temporary directory /tmp/madlib_7llkr1iwrB\n",
      "PoolWorker-4: Removed temporary directory /tmp/madlib_t3HzIGOeAn\n",
      "Done!  Loaded 50000 images in 24.7632198334s\n",
      "5 workers terminated.\n",
      "MainProcess: Connected to madlib db.\n",
      "Executing: CREATE TABLE cifar_10_test_data (id SERIAL, x REAL[], y TEXT)\n",
      "CREATE TABLE\n",
      "Created table cifar_10_test_data in madlib db\n",
      "Spawning 5 workers...\n",
      "Initializing PoolWorker-6 [pid 32590]\n",
      "PoolWorker-6: Created temporary directory /tmp/madlib_ukKJGqIRI7\n",
      "Initializing PoolWorker-7 [pid 32591]\n",
      "PoolWorker-7: Created temporary directory /tmp/madlib_FiXPZxXK47\n",
      "Initializing PoolWorker-8 [pid 32592]\n",
      "Initializing PoolWorker-9 [pid 32593]\n",
      "PoolWorker-8: Created temporary directory /tmp/madlib_EVmSLqZ6Od\n",
      "PoolWorker-6: Connected to madlib db.\n",
      "PoolWorker-9: Created temporary directory /tmp/madlib_b4uua9iT9p\n",
      "PoolWorker-7: Connected to madlib db.\n",
      "Initializing PoolWorker-10 [pid 32595]\n",
      "PoolWorker-8: Connected to madlib db.\n",
      "PoolWorker-10: Created temporary directory /tmp/madlib_um0N6zuuKM\n",
      "PoolWorker-9: Connected to madlib db.\n",
      "PoolWorker-10: Connected to madlib db.\n",
      "PoolWorker-6: Wrote 1000 images to /tmp/madlib_ukKJGqIRI7/cifar_10_test_data0000.tmp\n",
      "PoolWorker-7: Wrote 1000 images to /tmp/madlib_FiXPZxXK47/cifar_10_test_data0000.tmp\n",
      "PoolWorker-10: Wrote 1000 images to /tmp/madlib_um0N6zuuKM/cifar_10_test_data0000.tmp\n",
      "PoolWorker-8: Wrote 1000 images to /tmp/madlib_EVmSLqZ6Od/cifar_10_test_data0000.tmp\n",
      "PoolWorker-9: Wrote 1000 images to /tmp/madlib_b4uua9iT9p/cifar_10_test_data0000.tmp\n",
      "PoolWorker-6: Loaded 1000 images into cifar_10_test_data\n",
      "PoolWorker-7: Loaded 1000 images into cifar_10_test_data\n",
      "PoolWorker-10: Loaded 1000 images into cifar_10_test_data\n",
      "PoolWorker-8: Loaded 1000 images into cifar_10_test_data\n",
      "PoolWorker-9: Loaded 1000 images into cifar_10_test_data\n",
      "PoolWorker-6: Wrote 1000 images to /tmp/madlib_ukKJGqIRI7/cifar_10_test_data0001.tmp\n",
      "PoolWorker-7: Wrote 1000 images to /tmp/madlib_FiXPZxXK47/cifar_10_test_data0001.tmp\n",
      "PoolWorker-10: Wrote 1000 images to /tmp/madlib_um0N6zuuKM/cifar_10_test_data0001.tmp\n",
      "PoolWorker-9: Wrote 1000 images to /tmp/madlib_b4uua9iT9p/cifar_10_test_data0001.tmp\n",
      "PoolWorker-8: Wrote 1000 images to /tmp/madlib_EVmSLqZ6Od/cifar_10_test_data0001.tmp\n",
      "PoolWorker-6: Loaded 1000 images into cifar_10_test_data\n",
      "PoolWorker-7: Loaded 1000 images into cifar_10_test_data\n",
      "PoolWorker-10: Loaded 1000 images into cifar_10_test_data\n",
      "PoolWorker-9: Loaded 1000 images into cifar_10_test_data\n",
      "PoolWorker-8: Loaded 1000 images into cifar_10_test_data\n",
      "PoolWorker-10: Removed temporary directory /tmp/madlib_um0N6zuuKM\n",
      "PoolWorker-7: Removed temporary directory /tmp/madlib_FiXPZxXK47\n",
      "PoolWorker-8: Removed temporary directory /tmp/madlib_EVmSLqZ6Od\n",
      "PoolWorker-6: Removed temporary directory /tmp/madlib_ukKJGqIRI7\n",
      "PoolWorker-9: Removed temporary directory /tmp/madlib_b4uua9iT9p\n",
      "Done!  Loaded 10000 images in 5.86952185631s\n",
      "5 workers terminated.\n"
     ]
    }
   ],
   "source": [
    "%sql DROP TABLE IF EXISTS cifar_10_train_data, cifar_10_test_data;\n",
    "\n",
    "# Save images to temporary directories and load into database\n",
    "iloader.load_dataset_from_np(x_train, y_train, 'cifar_10_train_data', append=False)\n",
    "iloader.load_dataset_from_np(x_test, y_test, 'cifar_10_test_data', append=False)"
   ]
  },
  {
   "cell_type": "markdown",
   "metadata": {},
   "source": [
    "<a id=\"file_system\"></a>\n",
    "# 3. Load from file system\n",
    "\n",
    "Uses the Python Imaging Library so supports multiple formats\n",
    "http://www.pythonware.com/products/pil/\n",
    "\n",
    "<em>load_dataset_from_disk(root_dir, table_name, num_labels='all', append=False)</em>\n",
    "\n",
    "- Calling this function  will look in <em>root_dir</em> on the local disk of wherever this is being run.  It will skip over any files in that directory, but will load images contained in each of its subdirectories.  The images should be organized by category/class, where the name of each subdirectory is the label for the images contained within it.\n",
    "\n",
    "\n",
    "- The <em>table_name</em> and <em>append</em> parameters are the same as above  The parameter <em>num_labels</em> is an optional parameter which can be used to restrict the number of labels (image classes) loaded, even if more are found in <em>root_dir</em>.  For example, for a large dataset you may have hundreds of labels, but only wish to use a subset of that containing a few dozen.\n",
    "\n",
    "For example, if we put the CIFAR-10 training data is in 10 subdirectories under directory <em>cifar10</em>, with one subdirectory for each class:"
   ]
  },
  {
   "cell_type": "code",
   "execution_count": 9,
   "metadata": {},
   "outputs": [
    {
     "name": "stdout",
     "output_type": "stream",
     "text": [
      "Done.\n",
      "MainProcess: Connected to madlib db.\n",
      "Executing: CREATE TABLE cifar_10_train_data_filesystem (id SERIAL, x REAL[], y TEXT,                        img_name TEXT)\n",
      "CREATE TABLE\n",
      "Created table cifar_10_train_data_filesystem in madlib db\n",
      ".DS_Store is not a directory, skipping\n",
      "number of labels = 10\n",
      "Found 10 image labels in /Users/fmcquillan/tmp/cifar10\n",
      "Spawning 5 workers...\n",
      "Initializing PoolWorker-1 [pid 64905]\n",
      "PoolWorker-1: Created temporary directory /tmp/madlib_lFwfdAIfkq\n",
      "Initializing PoolWorker-2 [pid 64906]\n",
      "PoolWorker-2: Created temporary directory /tmp/madlib_PAZRj5SNyn\n",
      "Initializing PoolWorker-3 [pid 64907]\n",
      "PoolWorker-3: Created temporary directory /tmp/madlib_x0attqv2T6\n",
      "PoolWorker-1: Connected to madlib db.\n",
      "Initializing PoolWorker-4 [pid 64908]\n",
      "PoolWorker-4: Created temporary directory /tmp/madlib_lyhVMiyvdL\n",
      "Initializing PoolWorker-5 [pid 64909]\n",
      "PoolWorker-5: Created temporary directory /tmp/madlib_8IpNResiVI\n",
      "PoolWorker-3: Connected to madlib db.\n",
      "PoolWorker-2: Connected to madlib db.\n",
      "PoolWorker-4: Connected to madlib db.\n",
      "PoolWorker-5: Connected to madlib db.\n",
      "PoolWorker-3: Wrote 1000 images to /tmp/madlib_x0attqv2T6/cifar_10_train_data_filesystem0000.tmp\n",
      "PoolWorker-5: Wrote 1000 images to /tmp/madlib_8IpNResiVI/cifar_10_train_data_filesystem0000.tmp\n",
      "PoolWorker-4: Wrote 1000 images to /tmp/madlib_lyhVMiyvdL/cifar_10_train_data_filesystem0000.tmp\n",
      "PoolWorker-1: Wrote 1000 images to /tmp/madlib_lFwfdAIfkq/cifar_10_train_data_filesystem0000.tmp\n",
      "PoolWorker-2: Wrote 1000 images to /tmp/madlib_PAZRj5SNyn/cifar_10_train_data_filesystem0000.tmp\n",
      "PoolWorker-3: Loaded 1000 images into cifar_10_train_data_filesystem\n",
      "PoolWorker-1: Loaded 1000 images into cifar_10_train_data_filesystem\n",
      "PoolWorker-4: Loaded 1000 images into cifar_10_train_data_filesystem\n",
      "PoolWorker-5: Loaded 1000 images into cifar_10_train_data_filesystem\n",
      "PoolWorker-2: Loaded 1000 images into cifar_10_train_data_filesystem\n",
      "PoolWorker-3: Wrote 1000 images to /tmp/madlib_x0attqv2T6/cifar_10_train_data_filesystem0001.tmp\n",
      "PoolWorker-4: Wrote 1000 images to /tmp/madlib_lyhVMiyvdL/cifar_10_train_data_filesystem0001.tmp\n",
      "PoolWorker-5: Wrote 1000 images to /tmp/madlib_8IpNResiVI/cifar_10_train_data_filesystem0001.tmp\n",
      "PoolWorker-2: Wrote 1000 images to /tmp/madlib_PAZRj5SNyn/cifar_10_train_data_filesystem0001.tmp\n",
      "PoolWorker-1: Wrote 1000 images to /tmp/madlib_lFwfdAIfkq/cifar_10_train_data_filesystem0001.tmp\n",
      "PoolWorker-3: Loaded 1000 images into cifar_10_train_data_filesystem\n",
      "PoolWorker-4: Loaded 1000 images into cifar_10_train_data_filesystem\n",
      "PoolWorker-2: Loaded 1000 images into cifar_10_train_data_filesystem\n",
      "PoolWorker-5: Loaded 1000 images into cifar_10_train_data_filesystem\n",
      "PoolWorker-1: Loaded 1000 images into cifar_10_train_data_filesystem\n",
      "PoolWorker-3: Wrote 1000 images to /tmp/madlib_x0attqv2T6/cifar_10_train_data_filesystem0002.tmp\n",
      "PoolWorker-1: Wrote 1000 images to /tmp/madlib_lFwfdAIfkq/cifar_10_train_data_filesystem0002.tmp\n",
      "PoolWorker-2: Wrote 1000 images to /tmp/madlib_PAZRj5SNyn/cifar_10_train_data_filesystem0002.tmp\n",
      "PoolWorker-4: Wrote 1000 images to /tmp/madlib_lyhVMiyvdL/cifar_10_train_data_filesystem0002.tmp\n",
      "PoolWorker-5: Wrote 1000 images to /tmp/madlib_8IpNResiVI/cifar_10_train_data_filesystem0002.tmp\n",
      "PoolWorker-1: Loaded 1000 images into cifar_10_train_data_filesystem\n",
      "PoolWorker-3: Loaded 1000 images into cifar_10_train_data_filesystem\n",
      "PoolWorker-2: Loaded 1000 images into cifar_10_train_data_filesystem\n",
      "PoolWorker-4: Loaded 1000 images into cifar_10_train_data_filesystem\n",
      "PoolWorker-5: Loaded 1000 images into cifar_10_train_data_filesystem\n",
      "PoolWorker-3: Wrote 1000 images to /tmp/madlib_x0attqv2T6/cifar_10_train_data_filesystem0003.tmp\n",
      "PoolWorker-1: Wrote 1000 images to /tmp/madlib_lFwfdAIfkq/cifar_10_train_data_filesystem0003.tmp\n",
      "PoolWorker-2: Wrote 1000 images to /tmp/madlib_PAZRj5SNyn/cifar_10_train_data_filesystem0003.tmp\n",
      "PoolWorker-4: Wrote 1000 images to /tmp/madlib_lyhVMiyvdL/cifar_10_train_data_filesystem0003.tmp\n",
      "PoolWorker-5: Wrote 1000 images to /tmp/madlib_8IpNResiVI/cifar_10_train_data_filesystem0003.tmp\n",
      "PoolWorker-3: Loaded 1000 images into cifar_10_train_data_filesystem\n",
      "PoolWorker-1: Loaded 1000 images into cifar_10_train_data_filesystem\n",
      "PoolWorker-2: Loaded 1000 images into cifar_10_train_data_filesystem\n",
      "PoolWorker-5: Loaded 1000 images into cifar_10_train_data_filesystem\n",
      "PoolWorker-4: Loaded 1000 images into cifar_10_train_data_filesystem\n",
      "PoolWorker-1: Wrote 1000 images to /tmp/madlib_lFwfdAIfkq/cifar_10_train_data_filesystem0004.tmp\n",
      "PoolWorker-3: Wrote 1000 images to /tmp/madlib_x0attqv2T6/cifar_10_train_data_filesystem0004.tmp\n",
      "PoolWorker-2: Wrote 1000 images to /tmp/madlib_PAZRj5SNyn/cifar_10_train_data_filesystem0004.tmp\n",
      "PoolWorker-5: Wrote 1000 images to /tmp/madlib_8IpNResiVI/cifar_10_train_data_filesystem0004.tmp\n",
      "PoolWorker-4: Wrote 1000 images to /tmp/madlib_lyhVMiyvdL/cifar_10_train_data_filesystem0004.tmp\n",
      "PoolWorker-1: Loaded 1000 images into cifar_10_train_data_filesystem\n",
      "PoolWorker-3: Loaded 1000 images into cifar_10_train_data_filesystem\n",
      "PoolWorker-2: Loaded 1000 images into cifar_10_train_data_filesystem\n",
      "PoolWorker-5: Loaded 1000 images into cifar_10_train_data_filesystem\n",
      "PoolWorker-4: Loaded 1000 images into cifar_10_train_data_filesystem\n",
      "PoolWorker-1: Wrote 1000 images to /tmp/madlib_lFwfdAIfkq/cifar_10_train_data_filesystem0005.tmp\n",
      "PoolWorker-3: Wrote 1000 images to /tmp/madlib_x0attqv2T6/cifar_10_train_data_filesystem0005.tmp\n",
      "PoolWorker-5: Wrote 1000 images to /tmp/madlib_8IpNResiVI/cifar_10_train_data_filesystem0005.tmp\n",
      "PoolWorker-2: Wrote 1000 images to /tmp/madlib_PAZRj5SNyn/cifar_10_train_data_filesystem0005.tmp\n",
      "PoolWorker-4: Wrote 1000 images to /tmp/madlib_lyhVMiyvdL/cifar_10_train_data_filesystem0005.tmp\n",
      "PoolWorker-1: Loaded 1000 images into cifar_10_train_data_filesystem\n",
      "PoolWorker-3: Loaded 1000 images into cifar_10_train_data_filesystem\n",
      "PoolWorker-5: Loaded 1000 images into cifar_10_train_data_filesystem\n",
      "PoolWorker-4: Loaded 1000 images into cifar_10_train_data_filesystem\n",
      "PoolWorker-2: Loaded 1000 images into cifar_10_train_data_filesystem\n",
      "PoolWorker-3: Wrote 1000 images to /tmp/madlib_x0attqv2T6/cifar_10_train_data_filesystem0006.tmp\n",
      "PoolWorker-5: Wrote 1000 images to /tmp/madlib_8IpNResiVI/cifar_10_train_data_filesystem0006.tmp\n",
      "PoolWorker-1: Wrote 1000 images to /tmp/madlib_lFwfdAIfkq/cifar_10_train_data_filesystem0006.tmp\n",
      "PoolWorker-2: Wrote 1000 images to /tmp/madlib_PAZRj5SNyn/cifar_10_train_data_filesystem0006.tmp\n",
      "PoolWorker-4: Wrote 1000 images to /tmp/madlib_lyhVMiyvdL/cifar_10_train_data_filesystem0006.tmp\n",
      "PoolWorker-5: Loaded 1000 images into cifar_10_train_data_filesystem\n",
      "PoolWorker-3: Loaded 1000 images into cifar_10_train_data_filesystem\n",
      "PoolWorker-1: Loaded 1000 images into cifar_10_train_data_filesystem\n",
      "PoolWorker-2: Loaded 1000 images into cifar_10_train_data_filesystem\n",
      "PoolWorker-4: Loaded 1000 images into cifar_10_train_data_filesystem\n",
      "PoolWorker-1: Wrote 1000 images to /tmp/madlib_lFwfdAIfkq/cifar_10_train_data_filesystem0007.tmp\n",
      "PoolWorker-5: Wrote 1000 images to /tmp/madlib_8IpNResiVI/cifar_10_train_data_filesystem0007.tmp\n",
      "PoolWorker-3: Wrote 1000 images to /tmp/madlib_x0attqv2T6/cifar_10_train_data_filesystem0007.tmp\n",
      "PoolWorker-4: Wrote 1000 images to /tmp/madlib_lyhVMiyvdL/cifar_10_train_data_filesystem0007.tmp\n",
      "PoolWorker-2: Wrote 1000 images to /tmp/madlib_PAZRj5SNyn/cifar_10_train_data_filesystem0007.tmp\n",
      "PoolWorker-5: Loaded 1000 images into cifar_10_train_data_filesystem\n",
      "PoolWorker-1: Loaded 1000 images into cifar_10_train_data_filesystem\n",
      "PoolWorker-3: Loaded 1000 images into cifar_10_train_data_filesystem\n",
      "PoolWorker-4: Loaded 1000 images into cifar_10_train_data_filesystem\n",
      "PoolWorker-2: Loaded 1000 images into cifar_10_train_data_filesystem\n",
      "PoolWorker-5: Wrote 1000 images to /tmp/madlib_8IpNResiVI/cifar_10_train_data_filesystem0008.tmp\n",
      "PoolWorker-3: Wrote 1000 images to /tmp/madlib_x0attqv2T6/cifar_10_train_data_filesystem0008.tmp\n",
      "PoolWorker-1: Wrote 1000 images to /tmp/madlib_lFwfdAIfkq/cifar_10_train_data_filesystem0008.tmp\n",
      "PoolWorker-4: Wrote 1000 images to /tmp/madlib_lyhVMiyvdL/cifar_10_train_data_filesystem0008.tmp\n",
      "PoolWorker-2: Wrote 1000 images to /tmp/madlib_PAZRj5SNyn/cifar_10_train_data_filesystem0008.tmp\n"
     ]
    },
    {
     "name": "stdout",
     "output_type": "stream",
     "text": [
      "PoolWorker-1: Loaded 1000 images into cifar_10_train_data_filesystem\n",
      "PoolWorker-4: Loaded 1000 images into cifar_10_train_data_filesystem\n",
      "PoolWorker-5: Loaded 1000 images into cifar_10_train_data_filesystem\n",
      "PoolWorker-2: Loaded 1000 images into cifar_10_train_data_filesystem\n",
      "PoolWorker-3: Loaded 1000 images into cifar_10_train_data_filesystem\n",
      "PoolWorker-5: Wrote 1000 images to /tmp/madlib_8IpNResiVI/cifar_10_train_data_filesystem0009.tmp\n",
      "PoolWorker-2: Wrote 1000 images to /tmp/madlib_PAZRj5SNyn/cifar_10_train_data_filesystem0009.tmp\n",
      "PoolWorker-4: Wrote 1000 images to /tmp/madlib_lyhVMiyvdL/cifar_10_train_data_filesystem0009.tmp\n",
      "PoolWorker-1: Wrote 1000 images to /tmp/madlib_lFwfdAIfkq/cifar_10_train_data_filesystem0009.tmp\n",
      "PoolWorker-3: Wrote 1000 images to /tmp/madlib_x0attqv2T6/cifar_10_train_data_filesystem0009.tmp\n",
      "PoolWorker-5: Loaded 1000 images into cifar_10_train_data_filesystem\n",
      "PoolWorker-2: Loaded 1000 images into cifar_10_train_data_filesystem\n",
      "PoolWorker-4: Loaded 1000 images into cifar_10_train_data_filesystem\n",
      "PoolWorker-1: Loaded 1000 images into cifar_10_train_data_filesystem\n",
      "PoolWorker-3: Loaded 1000 images into cifar_10_train_data_filesystem\n",
      "PoolWorker-3: Removed temporary directory /tmp/madlib_x0attqv2T6\n",
      "PoolWorker-1: Removed temporary directory /tmp/madlib_lFwfdAIfkq\n",
      "PoolWorker-5: Removed temporary directory /tmp/madlib_8IpNResiVI\n",
      "PoolWorker-2: Removed temporary directory /tmp/madlib_PAZRj5SNyn\n",
      "PoolWorker-4: Removed temporary directory /tmp/madlib_lyhVMiyvdL\n",
      "Done!  Loaded 10 image categories in 27.8543739319s\n",
      "5 workers terminated.\n"
     ]
    }
   ],
   "source": [
    "%sql drop table if exists cifar_10_train_data_filesystem;\n",
    "# Load images from file system\n",
    "iloader.load_dataset_from_disk('/Users/fmcquillan/tmp/cifar10', 'cifar_10_train_data_filesystem', num_labels='all', append=False)"
   ]
  },
  {
   "cell_type": "code",
   "execution_count": 10,
   "metadata": {},
   "outputs": [
    {
     "name": "stdout",
     "output_type": "stream",
     "text": [
      "1 rows affected.\n"
     ]
    },
    {
     "data": {
      "text/html": [
       "<table>\n",
       "    <tr>\n",
       "        <th>count</th>\n",
       "    </tr>\n",
       "    <tr>\n",
       "        <td>50000</td>\n",
       "    </tr>\n",
       "</table>"
      ],
      "text/plain": [
       "[(50000L,)]"
      ]
     },
     "execution_count": 10,
     "metadata": {},
     "output_type": "execute_result"
    }
   ],
   "source": [
    "%%sql\n",
    "SELECT COUNT(*) FROM cifar_10_train_data_filesystem;"
   ]
  }
 ],
 "metadata": {
  "kernelspec": {
   "display_name": "Python 2",
   "language": "python",
   "name": "python2"
  },
  "language_info": {
   "codemirror_mode": {
    "name": "ipython",
    "version": 2
   },
   "file_extension": ".py",
   "mimetype": "text/x-python",
   "name": "python",
   "nbconvert_exporter": "python",
   "pygments_lexer": "ipython2",
   "version": "2.7.10"
  }
 },
 "nbformat": 4,
 "nbformat_minor": 2
}
