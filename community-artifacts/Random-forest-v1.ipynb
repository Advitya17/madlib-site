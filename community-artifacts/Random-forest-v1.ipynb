{
 "cells": [
  {
   "cell_type": "markdown",
   "metadata": {},
   "source": [
    "# Random forest\n",
    "\n",
    "Random forests build an ensemble of classifiers, each of which is a tree model constructed using bootstrapped samples from the input data. The results of these models are then combined to yield a single prediction, which, at the expense of some loss in interpretation, have been found to be highly accurate.\n",
    "\n",
    "Please also refer to the decision tree user documentation for information relevant to the implementation of random forests in MADlib."
   ]
  },
  {
   "cell_type": "code",
   "execution_count": 72,
   "metadata": {},
   "outputs": [
    {
     "name": "stdout",
     "output_type": "stream",
     "text": [
      "The sql extension is already loaded. To reload it, use:\n",
      "  %reload_ext sql\n"
     ]
    }
   ],
   "source": [
    "%load_ext sql"
   ]
  },
  {
   "cell_type": "code",
   "execution_count": 73,
   "metadata": {},
   "outputs": [
    {
     "data": {
      "text/plain": [
       "u'Connected: gpadmin@madlib'"
      ]
     },
     "execution_count": 73,
     "metadata": {},
     "output_type": "execute_result"
    }
   ],
   "source": [
    "# Greenplum Database 5.4.0 on GCP (demo machine)\n",
    "%sql postgresql://gpadmin@35.184.253.255:5432/madlib\n",
    "        \n",
    "# PostgreSQL local\n",
    "#%sql postgresql://fmcquillan@localhost:5432/madlib\n",
    "\n",
    "# Greenplum Database 4.3.10.0\n",
    "#%sql postgresql://gpdbchina@10.194.10.68:61000/madlib"
   ]
  },
  {
   "cell_type": "code",
   "execution_count": 75,
   "metadata": {},
   "outputs": [
    {
     "name": "stdout",
     "output_type": "stream",
     "text": [
      "1 rows affected.\n"
     ]
    },
    {
     "data": {
      "text/html": [
       "<table>\n",
       "    <tr>\n",
       "        <th>version</th>\n",
       "    </tr>\n",
       "    <tr>\n",
       "        <td>MADlib version: 1.14-dev, git revision: rc/1.13-rc1-40-ga1360f3, cmake configuration time: Wed Mar 28 18:16:08 UTC 2018, build type: release, build system: Linux-2.6.32-696.20.1.el6.x86_64, C compiler: gcc 4.4.7, C++ compiler: g++ 4.4.7</td>\n",
       "    </tr>\n",
       "</table>"
      ],
      "text/plain": [
       "[(u'MADlib version: 1.14-dev, git revision: rc/1.13-rc1-40-ga1360f3, cmake configuration time: Wed Mar 28 18:16:08 UTC 2018, build type: release, build system: Linux-2.6.32-696.20.1.el6.x86_64, C compiler: gcc 4.4.7, C++ compiler: g++ 4.4.7',)]"
      ]
     },
     "execution_count": 75,
     "metadata": {},
     "output_type": "execute_result"
    }
   ],
   "source": [
    "%sql select madlib.version();\n",
    "#%sql select version();"
   ]
  },
  {
   "cell_type": "markdown",
   "metadata": {},
   "source": [
    "# Random forest classification examples"
   ]
  },
  {
   "cell_type": "markdown",
   "metadata": {},
   "source": [
    "# 1. Load data\n",
    "Data set related to whether to play golf or not."
   ]
  },
  {
   "cell_type": "code",
   "execution_count": 76,
   "metadata": {},
   "outputs": [
    {
     "name": "stdout",
     "output_type": "stream",
     "text": [
      "Done.\n",
      "Done.\n",
      "14 rows affected.\n",
      "14 rows affected.\n"
     ]
    },
    {
     "data": {
      "text/html": [
       "<table>\n",
       "    <tr>\n",
       "        <th>id</th>\n",
       "        <th>OUTLOOK</th>\n",
       "        <th>temperature</th>\n",
       "        <th>humidity</th>\n",
       "        <th>Temp_Humidity</th>\n",
       "        <th>clouds_airquality</th>\n",
       "        <th>windy</th>\n",
       "        <th>class</th>\n",
       "    </tr>\n",
       "    <tr>\n",
       "        <td>1</td>\n",
       "        <td>sunny</td>\n",
       "        <td>85.0</td>\n",
       "        <td>85.0</td>\n",
       "        <td>[85.0, 85.0]</td>\n",
       "        <td>[u'none', u'unhealthy']</td>\n",
       "        <td>False</td>\n",
       "        <td>Don't Play</td>\n",
       "    </tr>\n",
       "    <tr>\n",
       "        <td>2</td>\n",
       "        <td>sunny</td>\n",
       "        <td>80.0</td>\n",
       "        <td>90.0</td>\n",
       "        <td>[80.0, 90.0]</td>\n",
       "        <td>[u'none', u'moderate']</td>\n",
       "        <td>True</td>\n",
       "        <td>Don't Play</td>\n",
       "    </tr>\n",
       "    <tr>\n",
       "        <td>3</td>\n",
       "        <td>overcast</td>\n",
       "        <td>83.0</td>\n",
       "        <td>78.0</td>\n",
       "        <td>[83.0, 78.0]</td>\n",
       "        <td>[u'low', u'moderate']</td>\n",
       "        <td>False</td>\n",
       "        <td>Play</td>\n",
       "    </tr>\n",
       "    <tr>\n",
       "        <td>4</td>\n",
       "        <td>rain</td>\n",
       "        <td>70.0</td>\n",
       "        <td>96.0</td>\n",
       "        <td>[70.0, 96.0]</td>\n",
       "        <td>[u'low', u'moderate']</td>\n",
       "        <td>False</td>\n",
       "        <td>Play</td>\n",
       "    </tr>\n",
       "    <tr>\n",
       "        <td>5</td>\n",
       "        <td>rain</td>\n",
       "        <td>68.0</td>\n",
       "        <td>80.0</td>\n",
       "        <td>[68.0, 80.0]</td>\n",
       "        <td>[u'medium', u'good']</td>\n",
       "        <td>False</td>\n",
       "        <td>Play</td>\n",
       "    </tr>\n",
       "    <tr>\n",
       "        <td>6</td>\n",
       "        <td>rain</td>\n",
       "        <td>65.0</td>\n",
       "        <td>70.0</td>\n",
       "        <td>[65.0, 70.0]</td>\n",
       "        <td>[u'low', u'unhealthy']</td>\n",
       "        <td>True</td>\n",
       "        <td>Don't Play</td>\n",
       "    </tr>\n",
       "    <tr>\n",
       "        <td>7</td>\n",
       "        <td>overcast</td>\n",
       "        <td>64.0</td>\n",
       "        <td>65.0</td>\n",
       "        <td>[64.0, 65.0]</td>\n",
       "        <td>[u'medium', u'moderate']</td>\n",
       "        <td>True</td>\n",
       "        <td>Play</td>\n",
       "    </tr>\n",
       "    <tr>\n",
       "        <td>8</td>\n",
       "        <td>sunny</td>\n",
       "        <td>72.0</td>\n",
       "        <td>95.0</td>\n",
       "        <td>[72.0, 95.0]</td>\n",
       "        <td>[u'high', u'unhealthy']</td>\n",
       "        <td>False</td>\n",
       "        <td>Don't Play</td>\n",
       "    </tr>\n",
       "    <tr>\n",
       "        <td>9</td>\n",
       "        <td>sunny</td>\n",
       "        <td>69.0</td>\n",
       "        <td>70.0</td>\n",
       "        <td>[69.0, 70.0]</td>\n",
       "        <td>[u'high', u'good']</td>\n",
       "        <td>False</td>\n",
       "        <td>Play</td>\n",
       "    </tr>\n",
       "    <tr>\n",
       "        <td>10</td>\n",
       "        <td>rain</td>\n",
       "        <td>75.0</td>\n",
       "        <td>80.0</td>\n",
       "        <td>[75.0, 80.0]</td>\n",
       "        <td>[u'medium', u'good']</td>\n",
       "        <td>False</td>\n",
       "        <td>Play</td>\n",
       "    </tr>\n",
       "    <tr>\n",
       "        <td>11</td>\n",
       "        <td>sunny</td>\n",
       "        <td>75.0</td>\n",
       "        <td>70.0</td>\n",
       "        <td>[75.0, 70.0]</td>\n",
       "        <td>[u'none', u'good']</td>\n",
       "        <td>True</td>\n",
       "        <td>Play</td>\n",
       "    </tr>\n",
       "    <tr>\n",
       "        <td>12</td>\n",
       "        <td>overcast</td>\n",
       "        <td>72.0</td>\n",
       "        <td>90.0</td>\n",
       "        <td>[72.0, 90.0]</td>\n",
       "        <td>[u'medium', u'moderate']</td>\n",
       "        <td>True</td>\n",
       "        <td>Play</td>\n",
       "    </tr>\n",
       "    <tr>\n",
       "        <td>13</td>\n",
       "        <td>overcast</td>\n",
       "        <td>81.0</td>\n",
       "        <td>75.0</td>\n",
       "        <td>[81.0, 75.0]</td>\n",
       "        <td>[u'medium', u'moderate']</td>\n",
       "        <td>False</td>\n",
       "        <td>Play</td>\n",
       "    </tr>\n",
       "    <tr>\n",
       "        <td>14</td>\n",
       "        <td>rain</td>\n",
       "        <td>71.0</td>\n",
       "        <td>80.0</td>\n",
       "        <td>[71.0, 80.0]</td>\n",
       "        <td>[u'low', u'unhealthy']</td>\n",
       "        <td>True</td>\n",
       "        <td>Don't Play</td>\n",
       "    </tr>\n",
       "</table>"
      ],
      "text/plain": [
       "[(1, u'sunny', 85.0, 85.0, [85.0, 85.0], [u'none', u'unhealthy'], False, u\"Don't Play\"),\n",
       " (2, u'sunny', 80.0, 90.0, [80.0, 90.0], [u'none', u'moderate'], True, u\"Don't Play\"),\n",
       " (3, u'overcast', 83.0, 78.0, [83.0, 78.0], [u'low', u'moderate'], False, u'Play'),\n",
       " (4, u'rain', 70.0, 96.0, [70.0, 96.0], [u'low', u'moderate'], False, u'Play'),\n",
       " (5, u'rain', 68.0, 80.0, [68.0, 80.0], [u'medium', u'good'], False, u'Play'),\n",
       " (6, u'rain', 65.0, 70.0, [65.0, 70.0], [u'low', u'unhealthy'], True, u\"Don't Play\"),\n",
       " (7, u'overcast', 64.0, 65.0, [64.0, 65.0], [u'medium', u'moderate'], True, u'Play'),\n",
       " (8, u'sunny', 72.0, 95.0, [72.0, 95.0], [u'high', u'unhealthy'], False, u\"Don't Play\"),\n",
       " (9, u'sunny', 69.0, 70.0, [69.0, 70.0], [u'high', u'good'], False, u'Play'),\n",
       " (10, u'rain', 75.0, 80.0, [75.0, 80.0], [u'medium', u'good'], False, u'Play'),\n",
       " (11, u'sunny', 75.0, 70.0, [75.0, 70.0], [u'none', u'good'], True, u'Play'),\n",
       " (12, u'overcast', 72.0, 90.0, [72.0, 90.0], [u'medium', u'moderate'], True, u'Play'),\n",
       " (13, u'overcast', 81.0, 75.0, [81.0, 75.0], [u'medium', u'moderate'], False, u'Play'),\n",
       " (14, u'rain', 71.0, 80.0, [71.0, 80.0], [u'low', u'unhealthy'], True, u\"Don't Play\")]"
      ]
     },
     "execution_count": 76,
     "metadata": {},
     "output_type": "execute_result"
    }
   ],
   "source": [
    "%%sql\n",
    "DROP TABLE IF EXISTS rf_golf CASCADE;\n",
    "\n",
    "CREATE TABLE rf_golf (\n",
    "    id integer NOT NULL,\n",
    "    \"OUTLOOK\" text,\n",
    "    temperature double precision,\n",
    "    humidity double precision,\n",
    "    \"Temp_Humidity\" double precision[],\n",
    "    clouds_airquality text[],\n",
    "    windy boolean,\n",
    "    class text\n",
    ");\n",
    "\n",
    "INSERT INTO rf_golf VALUES\n",
    "(1,'sunny', 85, 85, ARRAY[85, 85],ARRAY['none', 'unhealthy'], 'false','Don''t Play'),\n",
    "(2, 'sunny', 80, 90, ARRAY[80, 90], ARRAY['none', 'moderate'], 'true', 'Don''t Play'),\n",
    "(3, 'overcast', 83, 78, ARRAY[83, 78], ARRAY['low', 'moderate'], 'false', 'Play'),\n",
    "(4, 'rain', 70, 96, ARRAY[70, 96], ARRAY['low', 'moderate'], 'false', 'Play'),\n",
    "(5, 'rain', 68, 80, ARRAY[68, 80], ARRAY['medium', 'good'], 'false', 'Play'),\n",
    "(6, 'rain', 65, 70, ARRAY[65, 70], ARRAY['low', 'unhealthy'], 'true', 'Don''t Play'),\n",
    "(7, 'overcast', 64, 65, ARRAY[64, 65], ARRAY['medium', 'moderate'], 'true', 'Play'),\n",
    "(8, 'sunny', 72, 95, ARRAY[72, 95], ARRAY['high', 'unhealthy'], 'false', 'Don''t Play'),\n",
    "(9, 'sunny', 69, 70, ARRAY[69, 70], ARRAY['high', 'good'], 'false', 'Play'),\n",
    "(10, 'rain', 75, 80, ARRAY[75, 80], ARRAY['medium', 'good'], 'false', 'Play'),\n",
    "(11, 'sunny', 75, 70, ARRAY[75, 70], ARRAY['none', 'good'], 'true', 'Play'),\n",
    "(12, 'overcast', 72, 90, ARRAY[72, 90], ARRAY['medium', 'moderate'], 'true', 'Play'),\n",
    "(13, 'overcast', 81, 75, ARRAY[81, 75], ARRAY['medium', 'moderate'], 'false', 'Play'),\n",
    "(14, 'rain', 71, 80, ARRAY[71, 80], ARRAY['low', 'unhealthy'], 'true', 'Don''t Play');\n",
    "\n",
    "SELECT * FROM rf_golf ORDER BY id;"
   ]
  },
  {
   "cell_type": "markdown",
   "metadata": {},
   "source": [
    "# 2.  Train random forest\n",
    "Train random forest then view the summary table:"
   ]
  },
  {
   "cell_type": "code",
   "execution_count": 77,
   "metadata": {},
   "outputs": [
    {
     "name": "stdout",
     "output_type": "stream",
     "text": [
      "Done.\n",
      "1 rows affected.\n",
      "1 rows affected.\n"
     ]
    },
    {
     "data": {
      "text/html": [
       "<table>\n",
       "    <tr>\n",
       "        <th>method</th>\n",
       "        <th>is_classification</th>\n",
       "        <th>source_table</th>\n",
       "        <th>model_table</th>\n",
       "        <th>id_col_name</th>\n",
       "        <th>dependent_varname</th>\n",
       "        <th>independent_varnames</th>\n",
       "        <th>cat_features</th>\n",
       "        <th>con_features</th>\n",
       "        <th>grouping_cols</th>\n",
       "        <th>num_trees</th>\n",
       "        <th>num_random_features</th>\n",
       "        <th>max_tree_depth</th>\n",
       "        <th>min_split</th>\n",
       "        <th>min_bucket</th>\n",
       "        <th>num_splits</th>\n",
       "        <th>verbose</th>\n",
       "        <th>importance</th>\n",
       "        <th>num_permutations</th>\n",
       "        <th>num_all_groups</th>\n",
       "        <th>num_failed_groups</th>\n",
       "        <th>total_rows_processed</th>\n",
       "        <th>total_rows_skipped</th>\n",
       "        <th>dependent_var_levels</th>\n",
       "        <th>dependent_var_type</th>\n",
       "        <th>independent_var_types</th>\n",
       "        <th>null_proxy</th>\n",
       "    </tr>\n",
       "    <tr>\n",
       "        <td>forest_train</td>\n",
       "        <td>True</td>\n",
       "        <td>rf_golf</td>\n",
       "        <td>train_output</td>\n",
       "        <td>id</td>\n",
       "        <td>class</td>\n",
       "        <td>\"OUTLOOK\",windy,temperature,humidity</td>\n",
       "        <td>\"OUTLOOK\",windy</td>\n",
       "        <td>temperature,humidity</td>\n",
       "        <td>None</td>\n",
       "        <td>20</td>\n",
       "        <td>2</td>\n",
       "        <td>8</td>\n",
       "        <td>3</td>\n",
       "        <td>1</td>\n",
       "        <td>10</td>\n",
       "        <td>False</td>\n",
       "        <td>True</td>\n",
       "        <td>1</td>\n",
       "        <td>1</td>\n",
       "        <td>0</td>\n",
       "        <td>14</td>\n",
       "        <td>0</td>\n",
       "        <td>\"Don't Play\",\"Play\"</td>\n",
       "        <td>text</td>\n",
       "        <td>text, boolean, double precision, double precision</td>\n",
       "        <td>None</td>\n",
       "    </tr>\n",
       "</table>"
      ],
      "text/plain": [
       "[(u'forest_train', True, u'rf_golf', u'train_output', u'id', u'class', u'\"OUTLOOK\",windy,temperature,humidity', u'\"OUTLOOK\",windy', u'temperature,humidity', None, 20, 2, 8, 3, 1, 10, False, True, 1, 1, 0, 14, 0, u'\"Don\\'t Play\",\"Play\"', u'text', u'text, boolean, double precision, double precision', u'None')]"
      ]
     },
     "execution_count": 77,
     "metadata": {},
     "output_type": "execute_result"
    }
   ],
   "source": [
    "%%sql\n",
    "DROP TABLE IF EXISTS train_output, train_output_group, train_output_summary;\n",
    "\n",
    "SELECT madlib.forest_train('rf_golf',         -- source table\n",
    "                           'train_output',    -- output model table\n",
    "                           'id',              -- id column\n",
    "                           'class',           -- response\n",
    "                           '\"OUTLOOK\", temperature, humidity, windy',   -- features\n",
    "                           NULL,              -- exclude columns\n",
    "                           NULL,              -- grouping columns\n",
    "                           20::integer,       -- number of trees\n",
    "                           2::integer,        -- number of random features\n",
    "                           TRUE::boolean,     -- variable importance\n",
    "                           1::integer,        -- num_permutations\n",
    "                           8::integer,        -- max depth\n",
    "                           3::integer,        -- min split\n",
    "                           1::integer,        -- min bucket\n",
    "                           10::integer        -- number of splits per continuous variable\n",
    "                           );\n",
    "\n",
    "SELECT * FROM train_output_summary;"
   ]
  },
  {
   "cell_type": "markdown",
   "metadata": {},
   "source": [
    "Review the group table for variable importance:"
   ]
  },
  {
   "cell_type": "code",
   "execution_count": 78,
   "metadata": {},
   "outputs": [
    {
     "name": "stdout",
     "output_type": "stream",
     "text": [
      "1 rows affected.\n"
     ]
    },
    {
     "data": {
      "text/html": [
       "<table>\n",
       "    <tr>\n",
       "        <th>gid</th>\n",
       "        <th>success</th>\n",
       "        <th>cat_n_levels</th>\n",
       "        <th>cat_levels_in_text</th>\n",
       "        <th>oob_error</th>\n",
       "        <th>cat_var_importance</th>\n",
       "        <th>con_var_importance</th>\n",
       "    </tr>\n",
       "    <tr>\n",
       "        <td>1</td>\n",
       "        <td>True</td>\n",
       "        <td>[3, 2]</td>\n",
       "        <td>[u'overcast', u'sunny', u'rain', u'False', u'True']</td>\n",
       "        <td>0.57142857142857142857</td>\n",
       "        <td>[0.113988095238095, 0.0363095238095238]</td>\n",
       "        <td>[0.0, 0.0342261904761905]</td>\n",
       "    </tr>\n",
       "</table>"
      ],
      "text/plain": [
       "[(1, True, [3, 2], [u'overcast', u'sunny', u'rain', u'False', u'True'], Decimal('0.57142857142857142857'), [0.113988095238095, 0.0363095238095238], [0.0, 0.0342261904761905])]"
      ]
     },
     "execution_count": 78,
     "metadata": {},
     "output_type": "execute_result"
    }
   ],
   "source": [
    "%%sql\n",
    "SELECT * FROM train_output_group;"
   ]
  },
  {
   "cell_type": "markdown",
   "metadata": {},
   "source": [
    "The 'cat_levels_in_text' array shows the ordering of the levels of the categorical variables \"OUTLOOK\" and windy, which have 3 and 2 levels respectively.\n",
    "\n",
    "Variable importance for categorical variables is shown in 'cat_var_importance'.\n",
    "\n",
    "Variable importance for continuous variables is shown in 'con_var_importance'.\n",
    "\n",
    "A higher value means higher importance for the variable."
   ]
  },
  {
   "cell_type": "markdown",
   "metadata": {
    "scrolled": true
   },
   "source": [
    "# 3. Predict\n",
    "Predict output categories.  For the purpose of this example, we use the same data that was used for training:"
   ]
  },
  {
   "cell_type": "code",
   "execution_count": 81,
   "metadata": {},
   "outputs": [
    {
     "name": "stdout",
     "output_type": "stream",
     "text": [
      "Done.\n",
      "1 rows affected.\n",
      "14 rows affected.\n"
     ]
    },
    {
     "data": {
      "text/html": [
       "<table>\n",
       "    <tr>\n",
       "        <th>id</th>\n",
       "        <th>class</th>\n",
       "        <th>estimated_class</th>\n",
       "    </tr>\n",
       "    <tr>\n",
       "        <td>1</td>\n",
       "        <td>Don't Play</td>\n",
       "        <td>Don't Play</td>\n",
       "    </tr>\n",
       "    <tr>\n",
       "        <td>2</td>\n",
       "        <td>Don't Play</td>\n",
       "        <td>Don't Play</td>\n",
       "    </tr>\n",
       "    <tr>\n",
       "        <td>3</td>\n",
       "        <td>Play</td>\n",
       "        <td>Play</td>\n",
       "    </tr>\n",
       "    <tr>\n",
       "        <td>4</td>\n",
       "        <td>Play</td>\n",
       "        <td>Play</td>\n",
       "    </tr>\n",
       "    <tr>\n",
       "        <td>5</td>\n",
       "        <td>Play</td>\n",
       "        <td>Play</td>\n",
       "    </tr>\n",
       "    <tr>\n",
       "        <td>6</td>\n",
       "        <td>Don't Play</td>\n",
       "        <td>Don't Play</td>\n",
       "    </tr>\n",
       "    <tr>\n",
       "        <td>7</td>\n",
       "        <td>Play</td>\n",
       "        <td>Play</td>\n",
       "    </tr>\n",
       "    <tr>\n",
       "        <td>8</td>\n",
       "        <td>Don't Play</td>\n",
       "        <td>Don't Play</td>\n",
       "    </tr>\n",
       "    <tr>\n",
       "        <td>9</td>\n",
       "        <td>Play</td>\n",
       "        <td>Play</td>\n",
       "    </tr>\n",
       "    <tr>\n",
       "        <td>10</td>\n",
       "        <td>Play</td>\n",
       "        <td>Play</td>\n",
       "    </tr>\n",
       "    <tr>\n",
       "        <td>11</td>\n",
       "        <td>Play</td>\n",
       "        <td>Play</td>\n",
       "    </tr>\n",
       "    <tr>\n",
       "        <td>12</td>\n",
       "        <td>Play</td>\n",
       "        <td>Play</td>\n",
       "    </tr>\n",
       "    <tr>\n",
       "        <td>13</td>\n",
       "        <td>Play</td>\n",
       "        <td>Play</td>\n",
       "    </tr>\n",
       "    <tr>\n",
       "        <td>14</td>\n",
       "        <td>Don't Play</td>\n",
       "        <td>Don't Play</td>\n",
       "    </tr>\n",
       "</table>"
      ],
      "text/plain": [
       "[(1, u\"Don't Play\", u\"Don't Play\"),\n",
       " (2, u\"Don't Play\", u\"Don't Play\"),\n",
       " (3, u'Play', u'Play'),\n",
       " (4, u'Play', u'Play'),\n",
       " (5, u'Play', u'Play'),\n",
       " (6, u\"Don't Play\", u\"Don't Play\"),\n",
       " (7, u'Play', u'Play'),\n",
       " (8, u\"Don't Play\", u\"Don't Play\"),\n",
       " (9, u'Play', u'Play'),\n",
       " (10, u'Play', u'Play'),\n",
       " (11, u'Play', u'Play'),\n",
       " (12, u'Play', u'Play'),\n",
       " (13, u'Play', u'Play'),\n",
       " (14, u\"Don't Play\", u\"Don't Play\")]"
      ]
     },
     "execution_count": 81,
     "metadata": {},
     "output_type": "execute_result"
    }
   ],
   "source": [
    "%%sql\n",
    "DROP TABLE IF EXISTS prediction_results;\n",
    "\n",
    "SELECT madlib.forest_predict('train_output',        -- tree model    \n",
    "                             'rf_golf',             -- new data table\n",
    "                             'prediction_results',  -- output table\n",
    "                             'response');           -- show response\n",
    "\n",
    "SELECT g.id, class, estimated_class FROM prediction_results p, \n",
    "rf_golf g WHERE p.id = g.id ORDER BY g.id;"
   ]
  },
  {
   "cell_type": "markdown",
   "metadata": {},
   "source": [
    "To display the probabilities associated with each value of the dependent variable, set the 'type' parameter to 'prob':"
   ]
  },
  {
   "cell_type": "code",
   "execution_count": 82,
   "metadata": {},
   "outputs": [
    {
     "name": "stdout",
     "output_type": "stream",
     "text": [
      "Done.\n",
      "1 rows affected.\n",
      "14 rows affected.\n"
     ]
    },
    {
     "data": {
      "text/html": [
       "<table>\n",
       "    <tr>\n",
       "        <th>id</th>\n",
       "        <th>class</th>\n",
       "        <th>estimated_prob_Don't Play</th>\n",
       "        <th>estimated_prob_Play</th>\n",
       "    </tr>\n",
       "    <tr>\n",
       "        <td>1</td>\n",
       "        <td>Don't Play</td>\n",
       "        <td>0.9</td>\n",
       "        <td>0.1</td>\n",
       "    </tr>\n",
       "    <tr>\n",
       "        <td>2</td>\n",
       "        <td>Don't Play</td>\n",
       "        <td>0.7</td>\n",
       "        <td>0.3</td>\n",
       "    </tr>\n",
       "    <tr>\n",
       "        <td>3</td>\n",
       "        <td>Play</td>\n",
       "        <td>0.15</td>\n",
       "        <td>0.85</td>\n",
       "    </tr>\n",
       "    <tr>\n",
       "        <td>4</td>\n",
       "        <td>Play</td>\n",
       "        <td>0.45</td>\n",
       "        <td>0.55</td>\n",
       "    </tr>\n",
       "    <tr>\n",
       "        <td>5</td>\n",
       "        <td>Play</td>\n",
       "        <td>0.25</td>\n",
       "        <td>0.75</td>\n",
       "    </tr>\n",
       "    <tr>\n",
       "        <td>6</td>\n",
       "        <td>Don't Play</td>\n",
       "        <td>0.8</td>\n",
       "        <td>0.2</td>\n",
       "    </tr>\n",
       "    <tr>\n",
       "        <td>7</td>\n",
       "        <td>Play</td>\n",
       "        <td>0.25</td>\n",
       "        <td>0.75</td>\n",
       "    </tr>\n",
       "    <tr>\n",
       "        <td>8</td>\n",
       "        <td>Don't Play</td>\n",
       "        <td>0.9</td>\n",
       "        <td>0.1</td>\n",
       "    </tr>\n",
       "    <tr>\n",
       "        <td>9</td>\n",
       "        <td>Play</td>\n",
       "        <td>0.2</td>\n",
       "        <td>0.8</td>\n",
       "    </tr>\n",
       "    <tr>\n",
       "        <td>10</td>\n",
       "        <td>Play</td>\n",
       "        <td>0.25</td>\n",
       "        <td>0.75</td>\n",
       "    </tr>\n",
       "    <tr>\n",
       "        <td>11</td>\n",
       "        <td>Play</td>\n",
       "        <td>0.35</td>\n",
       "        <td>0.65</td>\n",
       "    </tr>\n",
       "    <tr>\n",
       "        <td>12</td>\n",
       "        <td>Play</td>\n",
       "        <td>0.3</td>\n",
       "        <td>0.7</td>\n",
       "    </tr>\n",
       "    <tr>\n",
       "        <td>13</td>\n",
       "        <td>Play</td>\n",
       "        <td>0.1</td>\n",
       "        <td>0.9</td>\n",
       "    </tr>\n",
       "    <tr>\n",
       "        <td>14</td>\n",
       "        <td>Don't Play</td>\n",
       "        <td>0.8</td>\n",
       "        <td>0.2</td>\n",
       "    </tr>\n",
       "</table>"
      ],
      "text/plain": [
       "[(1, u\"Don't Play\", 0.9, 0.1),\n",
       " (2, u\"Don't Play\", 0.7, 0.3),\n",
       " (3, u'Play', 0.15, 0.85),\n",
       " (4, u'Play', 0.45, 0.55),\n",
       " (5, u'Play', 0.25, 0.75),\n",
       " (6, u\"Don't Play\", 0.8, 0.2),\n",
       " (7, u'Play', 0.25, 0.75),\n",
       " (8, u\"Don't Play\", 0.9, 0.1),\n",
       " (9, u'Play', 0.2, 0.8),\n",
       " (10, u'Play', 0.25, 0.75),\n",
       " (11, u'Play', 0.35, 0.65),\n",
       " (12, u'Play', 0.3, 0.7),\n",
       " (13, u'Play', 0.1, 0.9),\n",
       " (14, u\"Don't Play\", 0.8, 0.2)]"
      ]
     },
     "execution_count": 82,
     "metadata": {},
     "output_type": "execute_result"
    }
   ],
   "source": [
    "%%sql\n",
    "DROP TABLE IF EXISTS prediction_results;\n",
    "\n",
    "SELECT madlib.forest_predict('train_output',        -- tree model    \n",
    "                             'rf_golf',             -- new data table\n",
    "                             'prediction_results',  -- output table\n",
    "                             'prob');               -- show probability\n",
    "\n",
    "SELECT g.id, class, \"estimated_prob_Don't Play\",  \"estimated_prob_Play\" \n",
    "FROM prediction_results p, rf_golf g WHERE p.id = g.id ORDER BY g.id;"
   ]
  },
  {
   "cell_type": "markdown",
   "metadata": {},
   "source": [
    "# 4. View tree in text format\n",
    "View a single tree within the forest identified by 'gid' and 'sample_id', out of the several that were created:"
   ]
  },
  {
   "cell_type": "code",
   "execution_count": 84,
   "metadata": {},
   "outputs": [
    {
     "name": "stdout",
     "output_type": "stream",
     "text": [
      "1 rows affected.\n"
     ]
    },
    {
     "data": {
      "text/html": [
       "<table>\n",
       "    <tr>\n",
       "        <th>get_tree</th>\n",
       "    </tr>\n",
       "    <tr>\n",
       "        <td>-------------------------------------<br>    - Each node represented by 'id' inside ().<br>    - Each internal nodes has the split condition at the end, while each<br>        leaf node has a * at the end.<br>    - For each internal node (i), its child nodes are indented by 1 level<br>        with ids (2i+1) for True node and (2i+2) for False node.<br>    - Number of (weighted) rows for each response variable inside [].'<br>        The response label order is given as ['\"Don\\'t Play\"', '\"Play\"'].<br>        For each leaf, the prediction is given after the '--&gt;'<br>        <br>-------------------------------------<br>(0)[4 4]  \"OUTLOOK\" in {overcast}<br>   (1)[0 3]  * --&gt; \"Play\"<br>   (2)[4 1]  humidity &lt;= 80<br>      (5)[1 1]  * --&gt; \"Don't Play\"<br>      (6)[3 0]  * --&gt; \"Don't Play\"<br></td>\n",
       "    </tr>\n",
       "</table>"
      ],
      "text/plain": [
       "[(u'-------------------------------------\\n    - Each node represented by \\'id\\' inside ().\\n    - Each internal nodes has the split condition at the end, while each\\n        leaf node has a * at the end.\\n    - For each internal node (i), its child nodes are indented by 1 level\\n        with ids (2i+1) for True node and (2i+2) for False node.\\n    - Number of (weighted) rows for each response variable inside [].\\'\\n        The response label order is given as [\\'\"Don\\\\\\'t Play\"\\', \\'\"Play\"\\'].\\n        For each leaf, the prediction is given after the \\'-->\\'\\n        \\n-------------------------------------\\n(0)[4 4]  \"OUTLOOK\" in {overcast}\\n   (1)[0 3]  * --> \"Play\"\\n   (2)[4 1]  humidity <= 80\\n      (5)[1 1]  * --> \"Don\\'t Play\"\\n      (6)[3 0]  * --> \"Don\\'t Play\"\\n',)]"
      ]
     },
     "execution_count": 84,
     "metadata": {},
     "output_type": "execute_result"
    }
   ],
   "source": [
    "%%sql\n",
    "SELECT madlib.get_tree('train_output',1,7, FALSE);"
   ]
  },
  {
   "cell_type": "markdown",
   "metadata": {},
   "source": [
    "Please see the decision tree user docs for an explanation on how to interpret the tree display above."
   ]
  },
  {
   "cell_type": "markdown",
   "metadata": {},
   "source": [
    "# 5. View tree in dot format"
   ]
  },
  {
   "cell_type": "code",
   "execution_count": 85,
   "metadata": {},
   "outputs": [
    {
     "name": "stdout",
     "output_type": "stream",
     "text": [
      "1 rows affected.\n"
     ]
    },
    {
     "data": {
      "text/html": [
       "<table>\n",
       "    <tr>\n",
       "        <th>get_tree</th>\n",
       "    </tr>\n",
       "    <tr>\n",
       "        <td>digraph \"Classification tree for rf_golf\" {<br>\"0\" [label=\"\\\"OUTLOOK\\\" &lt;= overcast\", shape=ellipse];<br>\"0\" -&gt; \"1\"[label=\"yes\"];<br>\"1\" [label=\"\\\"Play\\\"\",shape=box];<br>\"0\" -&gt; \"2\"[label=\"no\"];<br>\"2\" [label=\"humidity &lt;= 80\", shape=ellipse];<br>\"2\" -&gt; \"5\"[label=\"yes\"];<br>\"5\" [label=\"\\\"Don't Play\\\"\",shape=box];<br>\"2\" -&gt; \"6\"[label=\"no\"];<br>\"6\" [label=\"\\\"Don't Play\\\"\",shape=box];<br><br>} //---end of digraph--------- </td>\n",
       "    </tr>\n",
       "</table>"
      ],
      "text/plain": [
       "[(u'digraph \"Classification tree for rf_golf\" {\\n\"0\" [label=\"\\\\\"OUTLOOK\\\\\" <= overcast\", shape=ellipse];\\n\"0\" -> \"1\"[label=\"yes\"];\\n\"1\" [label=\"\\\\\"Play\\\\\"\",shape=box];\\n\"0\" -> \"2\"[label=\"no\"];\\n\"2\" [label=\"humidity <= 80\", shape=ellipse];\\n\"2\" -> \"5\"[label=\"yes\"];\\n\"5\" [label=\"\\\\\"Don\\'t Play\\\\\"\",shape=box];\\n\"2\" -> \"6\"[label=\"no\"];\\n\"6\" [label=\"\\\\\"Don\\'t Play\\\\\"\",shape=box];\\n\\n} //---end of digraph--------- ',)]"
      ]
     },
     "execution_count": 85,
     "metadata": {},
     "output_type": "execute_result"
    }
   ],
   "source": [
    "%%sql\n",
    "SELECT madlib.get_tree('train_output',1,7);"
   ]
  },
  {
   "cell_type": "markdown",
   "metadata": {},
   "source": [
    "# 6. View tree in dot format with additional information"
   ]
  },
  {
   "cell_type": "code",
   "execution_count": 86,
   "metadata": {},
   "outputs": [
    {
     "name": "stdout",
     "output_type": "stream",
     "text": [
      "1 rows affected.\n"
     ]
    },
    {
     "data": {
      "text/html": [
       "<table>\n",
       "    <tr>\n",
       "        <th>get_tree</th>\n",
       "    </tr>\n",
       "    <tr>\n",
       "        <td>digraph \"Classification tree for rf_golf\" {<br>\"0\" [label=\"\\\"OUTLOOK\\\" &lt;= overcast\\n impurity = 0.5\\n samples = 8\\n value = [4 4]\\n class = \\\"Don't Play\\\"\", shape=ellipse];<br>\"0\" -&gt; \"1\"[label=\"yes\"];<br>\"1\" [label=\"\\\"Play\\\"\\n impurity = 0\\n samples = 3\\n value = [0 3]\",shape=box];<br>\"0\" -&gt; \"2\"[label=\"no\"];<br>\"2\" [label=\"humidity &lt;= 80\\n impurity = 0.32\\n samples = 5\\n value = [4 1]\\n class = \\\"Don't Play\\\"\", shape=ellipse];<br>\"2\" -&gt; \"5\"[label=\"yes\"];<br>\"5\" [label=\"\\\"Don't Play\\\"\\n impurity = 0.5\\n samples = 2\\n value = [1 1]\",shape=box];<br>\"2\" -&gt; \"6\"[label=\"no\"];<br>\"6\" [label=\"\\\"Don't Play\\\"\\n impurity = 0\\n samples = 3\\n value = [3 0]\",shape=box];<br><br>} //---end of digraph--------- </td>\n",
       "    </tr>\n",
       "</table>"
      ],
      "text/plain": [
       "[(u'digraph \"Classification tree for rf_golf\" {\\n\"0\" [label=\"\\\\\"OUTLOOK\\\\\" <= overcast\\\\n impurity = 0.5\\\\n samples = 8\\\\n value = [4 4]\\\\n class = \\\\\"Don\\'t Play\\\\\"\", shape=ellipse];\\n\"0\" -> \"1\"[label=\"yes\"];\\n\"1\" [label=\"\\\\\"Play\\\\\"\\\\n impurity = 0\\\\n samples = 3\\\\n value = [0 3]\",shape=box];\\n\"0\" -> \"2\"[label=\"no\"];\\n\"2\" [label=\"humidity <= 80\\\\n impurity = 0.32\\\\n samples = 5\\\\n value = [4 1]\\\\n class = \\\\\"Don\\'t Play\\\\\"\", shape=ellipse];\\n\"2\" -> \"5\"[label=\"yes\"];\\n\"5\" [label=\"\\\\\"Don\\'t Play\\\\\"\\\\n impurity = 0.5\\\\n samples = 2\\\\n value = [1 1]\",shape=box];\\n\"2\" -> \"6\"[label=\"no\"];\\n\"6\" [label=\"\\\\\"Don\\'t Play\\\\\"\\\\n impurity = 0\\\\n samples = 3\\\\n value = [3 0]\",shape=box];\\n\\n} //---end of digraph--------- ',)]"
      ]
     },
     "execution_count": 86,
     "metadata": {},
     "output_type": "execute_result"
    }
   ],
   "source": [
    "%%sql\n",
    "SELECT madlib.get_tree('train_output',1,7, TRUE, TRUE);"
   ]
  },
  {
   "cell_type": "markdown",
   "metadata": {},
   "source": [
    "You may wish to visualize the tree using pygraphviz or another program that can handle dot format:"
   ]
  },
  {
   "cell_type": "code",
   "execution_count": 88,
   "metadata": {},
   "outputs": [
    {
     "name": "stdout",
     "output_type": "stream",
     "text": [
      "1 rows affected.\n",
      "True\n"
     ]
    },
    {
     "data": {
      "image/png": "[encoded data removed]",
      "text/plain": [
       "<IPython.core.display.Image object>"
      ]
     },
     "execution_count": 88,
     "metadata": {},
     "output_type": "execute_result"
    }
   ],
   "source": [
    "# set paths for your environment\n",
    "from os.path import expanduser\n",
    "home = expanduser(\"/Users/fmcquillan/Documents/Product/MADlib/Demos/1 dot 14 demos\")\n",
    "\n",
    "dot_output = %sql select madlib.get_tree('train_output',1,7, TRUE, TRUE);\n",
    "with open('tree_out.dot', 'w') as f: \n",
    "     f.write(dot_output[0][0])\n",
    "    \n",
    "import pygraphviz as pgv\n",
    "from IPython.display import Image\n",
    "graph = pgv.AGraph(\"tree_out.dot\")\n",
    "print bool(graph)\n",
    "graph.draw('tree_out.png',prog='dot')\n",
    "Image('tree_out.png')"
   ]
  },
  {
   "cell_type": "markdown",
   "metadata": {},
   "source": [
    "Please see the decision tree user docs for an explanation on an important difference about how categorical variable tests are displayed in text and dot format."
   ]
  },
  {
   "cell_type": "markdown",
   "metadata": {},
   "source": [
    "# 7. Arrays of features\n",
    "Categorical and continuous features can be array columns, in which case the array is expanded to treat each element of the array as a feature."
   ]
  },
  {
   "cell_type": "code",
   "execution_count": 89,
   "metadata": {},
   "outputs": [
    {
     "name": "stdout",
     "output_type": "stream",
     "text": [
      "Done.\n",
      "1 rows affected.\n",
      "1 rows affected.\n"
     ]
    },
    {
     "data": {
      "text/html": [
       "<table>\n",
       "    <tr>\n",
       "        <th>method</th>\n",
       "        <th>is_classification</th>\n",
       "        <th>source_table</th>\n",
       "        <th>model_table</th>\n",
       "        <th>id_col_name</th>\n",
       "        <th>dependent_varname</th>\n",
       "        <th>independent_varnames</th>\n",
       "        <th>cat_features</th>\n",
       "        <th>con_features</th>\n",
       "        <th>grouping_cols</th>\n",
       "        <th>num_trees</th>\n",
       "        <th>num_random_features</th>\n",
       "        <th>max_tree_depth</th>\n",
       "        <th>min_split</th>\n",
       "        <th>min_bucket</th>\n",
       "        <th>num_splits</th>\n",
       "        <th>verbose</th>\n",
       "        <th>importance</th>\n",
       "        <th>num_permutations</th>\n",
       "        <th>num_all_groups</th>\n",
       "        <th>num_failed_groups</th>\n",
       "        <th>total_rows_processed</th>\n",
       "        <th>total_rows_skipped</th>\n",
       "        <th>dependent_var_levels</th>\n",
       "        <th>dependent_var_type</th>\n",
       "        <th>independent_var_types</th>\n",
       "        <th>null_proxy</th>\n",
       "    </tr>\n",
       "    <tr>\n",
       "        <td>forest_train</td>\n",
       "        <td>True</td>\n",
       "        <td>rf_golf</td>\n",
       "        <td>train_output</td>\n",
       "        <td>id</td>\n",
       "        <td>class</td>\n",
       "        <td>clouds_airquality[1],clouds_airquality[2],\"Temp_Humidity\"[1],\"Temp_Humidity\"[2]</td>\n",
       "        <td>clouds_airquality[1],clouds_airquality[2]</td>\n",
       "        <td>\"Temp_Humidity\"[1],\"Temp_Humidity\"[2]</td>\n",
       "        <td>None</td>\n",
       "        <td>20</td>\n",
       "        <td>2</td>\n",
       "        <td>8</td>\n",
       "        <td>3</td>\n",
       "        <td>1</td>\n",
       "        <td>10</td>\n",
       "        <td>False</td>\n",
       "        <td>True</td>\n",
       "        <td>1</td>\n",
       "        <td>1</td>\n",
       "        <td>0</td>\n",
       "        <td>14</td>\n",
       "        <td>0</td>\n",
       "        <td>\"Don't Play\",\"Play\"</td>\n",
       "        <td>text</td>\n",
       "        <td>text, text, double precision, double precision</td>\n",
       "        <td>None</td>\n",
       "    </tr>\n",
       "</table>"
      ],
      "text/plain": [
       "[(u'forest_train', True, u'rf_golf', u'train_output', u'id', u'class', u'clouds_airquality[1],clouds_airquality[2],\"Temp_Humidity\"[1],\"Temp_Humidity\"[2]', u'clouds_airquality[1],clouds_airquality[2]', u'\"Temp_Humidity\"[1],\"Temp_Humidity\"[2]', None, 20, 2, 8, 3, 1, 10, False, True, 1, 1, 0, 14, 0, u'\"Don\\'t Play\",\"Play\"', u'text', u'text, text, double precision, double precision', u'None')]"
      ]
     },
     "execution_count": 89,
     "metadata": {},
     "output_type": "execute_result"
    }
   ],
   "source": [
    "%%sql\n",
    "DROP TABLE IF EXISTS train_output, train_output_group, train_output_summary;\n",
    "\n",
    "SELECT madlib.forest_train('rf_golf',         -- source table\n",
    "                           'train_output',    -- output model table\n",
    "                           'id',              -- id column\n",
    "                           'class',           -- response\n",
    "                           '\"Temp_Humidity\", clouds_airquality',   -- features\n",
    "                           NULL,              -- exclude columns\n",
    "                           NULL,              -- grouping columns\n",
    "                           20::integer,       -- number of trees\n",
    "                           2::integer,        -- number of random features\n",
    "                           TRUE::boolean,     -- variable importance\n",
    "                           1::integer,        -- num_permutations\n",
    "                           8::integer,        -- max depth\n",
    "                           3::integer,        -- min split\n",
    "                           1::integer,        -- min bucket\n",
    "                           10::integer        -- number of splits per continuous variable\n",
    "                           );\n",
    "\n",
    "SELECT * FROM train_output_summary;"
   ]
  },
  {
   "cell_type": "markdown",
   "metadata": {},
   "source": [
    "# 8. Sample ratio\n",
    "Use the sample ratio parameter to train on a subset of the data:"
   ]
  },
  {
   "cell_type": "code",
   "execution_count": 90,
   "metadata": {},
   "outputs": [
    {
     "name": "stdout",
     "output_type": "stream",
     "text": [
      "Done.\n",
      "1 rows affected.\n",
      "1 rows affected.\n"
     ]
    },
    {
     "data": {
      "text/html": [
       "<table>\n",
       "    <tr>\n",
       "        <th>gid</th>\n",
       "        <th>success</th>\n",
       "        <th>cat_n_levels</th>\n",
       "        <th>cat_levels_in_text</th>\n",
       "        <th>oob_error</th>\n",
       "        <th>cat_var_importance</th>\n",
       "        <th>con_var_importance</th>\n",
       "    </tr>\n",
       "    <tr>\n",
       "        <td>1</td>\n",
       "        <td>True</td>\n",
       "        <td>[3, 2]</td>\n",
       "        <td>[u'overcast', u'sunny', u'rain', u'False', u'True']</td>\n",
       "        <td>0.64285714285714285714</td>\n",
       "        <td>[0.0375, 0.0375]</td>\n",
       "        <td>[0.0, 0.0208333333333333]</td>\n",
       "    </tr>\n",
       "</table>"
      ],
      "text/plain": [
       "[(1, True, [3, 2], [u'overcast', u'sunny', u'rain', u'False', u'True'], Decimal('0.64285714285714285714'), [0.0375, 0.0375], [0.0, 0.0208333333333333])]"
      ]
     },
     "execution_count": 90,
     "metadata": {},
     "output_type": "execute_result"
    }
   ],
   "source": [
    "%%sql\n",
    "DROP TABLE IF EXISTS train_output, train_output_group, train_output_summary;\n",
    "\n",
    "SELECT madlib.forest_train('rf_golf',         -- source table\n",
    "                           'train_output',    -- output model table\n",
    "                           'id',              -- id column\n",
    "                           'class',           -- response\n",
    "                           '\"OUTLOOK\", temperature, humidity, windy',   -- features\n",
    "                           NULL,              -- exclude columns\n",
    "                           NULL,              -- grouping columns\n",
    "                           20::integer,       -- number of trees\n",
    "                           2::integer,        -- number of random features\n",
    "                           TRUE::boolean,     -- variable importance\n",
    "                           1::integer,        -- num_permutations\n",
    "                           8::integer,        -- max depth\n",
    "                           3::integer,        -- min split\n",
    "                           1::integer,        -- min bucket\n",
    "                           10::integer,       -- number of splits per continuous variable\n",
    "                           NULL,              -- NULL handling\n",
    "                           FALSE,             -- Verbose\n",
    "                           0.5                -- Sample ratio\n",
    "                           );\n",
    "\n",
    "SELECT * FROM train_output_group;"
   ]
  },
  {
   "cell_type": "markdown",
   "metadata": {},
   "source": [
    "Notice the tree is different than a previous one trained without sampling."
   ]
  },
  {
   "cell_type": "code",
   "execution_count": 92,
   "metadata": {},
   "outputs": [
    {
     "name": "stdout",
     "output_type": "stream",
     "text": [
      "1 rows affected.\n",
      "True\n"
     ]
    },
    {
     "data": {
      "image/png": "[encoded data removed]",
      "text/plain": [
       "<IPython.core.display.Image object>"
      ]
     },
     "execution_count": 92,
     "metadata": {},
     "output_type": "execute_result"
    }
   ],
   "source": [
    "# set paths for your environment\n",
    "from os.path import expanduser\n",
    "home = expanduser(\"/Users/fmcquillan/Documents/Product/MADlib/Demos/1 dot 14 demos\")\n",
    "\n",
    "dot_output = %sql select madlib.get_tree('train_output',1,11, TRUE, TRUE);\n",
    "with open('tree_out.dot', 'w') as f: \n",
    "     f.write(dot_output[0][0])\n",
    "    \n",
    "import pygraphviz as pgv\n",
    "from IPython.display import Image\n",
    "graph = pgv.AGraph(\"tree_out.dot\")\n",
    "print bool(graph)\n",
    "graph.draw('tree_out.png',prog='dot')\n",
    "Image('tree_out.png')"
   ]
  },
  {
   "cell_type": "markdown",
   "metadata": {},
   "source": [
    "# Random forest regression examples"
   ]
  },
  {
   "cell_type": "markdown",
   "metadata": {},
   "source": [
    "# 1. Load data\n",
    "Data set related to fuel consumption and 10 aspects of automobile design and performance for 32 automobiles (1973–74 models). Data was extracted from the 1974 Motor Trend US magazine."
   ]
  },
  {
   "cell_type": "code",
   "execution_count": 93,
   "metadata": {},
   "outputs": [
    {
     "name": "stdout",
     "output_type": "stream",
     "text": [
      "Done.\n",
      "Done.\n",
      "32 rows affected.\n",
      "32 rows affected.\n"
     ]
    },
    {
     "data": {
      "text/html": [
       "<table>\n",
       "    <tr>\n",
       "        <th>id</th>\n",
       "        <th>mpg</th>\n",
       "        <th>cyl</th>\n",
       "        <th>disp</th>\n",
       "        <th>hp</th>\n",
       "        <th>drat</th>\n",
       "        <th>wt</th>\n",
       "        <th>qsec</th>\n",
       "        <th>vs</th>\n",
       "        <th>am</th>\n",
       "        <th>gear</th>\n",
       "        <th>carb</th>\n",
       "    </tr>\n",
       "    <tr>\n",
       "        <td>29</td>\n",
       "        <td>13.3</td>\n",
       "        <td>8</td>\n",
       "        <td>350.0</td>\n",
       "        <td>245</td>\n",
       "        <td>3.73</td>\n",
       "        <td>3.84</td>\n",
       "        <td>15.41</td>\n",
       "        <td>0</td>\n",
       "        <td>0</td>\n",
       "        <td>3</td>\n",
       "        <td>4</td>\n",
       "    </tr>\n",
       "    <tr>\n",
       "        <td>27</td>\n",
       "        <td>15.5</td>\n",
       "        <td>8</td>\n",
       "        <td>318.0</td>\n",
       "        <td>150</td>\n",
       "        <td>2.768</td>\n",
       "        <td>3.52</td>\n",
       "        <td>16.87</td>\n",
       "        <td>0</td>\n",
       "        <td>0</td>\n",
       "        <td>3</td>\n",
       "        <td>2</td>\n",
       "    </tr>\n",
       "    <tr>\n",
       "        <td>25</td>\n",
       "        <td>21.5</td>\n",
       "        <td>4</td>\n",
       "        <td>120.1</td>\n",
       "        <td>97</td>\n",
       "        <td>3.7</td>\n",
       "        <td>2.465</td>\n",
       "        <td>20.01</td>\n",
       "        <td>1</td>\n",
       "        <td>0</td>\n",
       "        <td>3</td>\n",
       "        <td>1</td>\n",
       "    </tr>\n",
       "    <tr>\n",
       "        <td>9</td>\n",
       "        <td>21.4</td>\n",
       "        <td>None</td>\n",
       "        <td>258.0</td>\n",
       "        <td>110</td>\n",
       "        <td>3.08</td>\n",
       "        <td>3.215</td>\n",
       "        <td>19.44</td>\n",
       "        <td>1</td>\n",
       "        <td>0</td>\n",
       "        <td>3</td>\n",
       "        <td>1</td>\n",
       "    </tr>\n",
       "    <tr>\n",
       "        <td>11</td>\n",
       "        <td>18.1</td>\n",
       "        <td>6</td>\n",
       "        <td>225.0</td>\n",
       "        <td>105</td>\n",
       "        <td>2.768</td>\n",
       "        <td>3.46</td>\n",
       "        <td>20.22</td>\n",
       "        <td>1</td>\n",
       "        <td>0</td>\n",
       "        <td>3</td>\n",
       "        <td>1</td>\n",
       "    </tr>\n",
       "    <tr>\n",
       "        <td>13</td>\n",
       "        <td>14.3</td>\n",
       "        <td>8</td>\n",
       "        <td>360.0</td>\n",
       "        <td>245</td>\n",
       "        <td>3.21</td>\n",
       "        <td>3.578</td>\n",
       "        <td>15.84</td>\n",
       "        <td>0</td>\n",
       "        <td>0</td>\n",
       "        <td>3</td>\n",
       "        <td>4</td>\n",
       "    </tr>\n",
       "    <tr>\n",
       "        <td>3</td>\n",
       "        <td>24.4</td>\n",
       "        <td>4</td>\n",
       "        <td>146.7</td>\n",
       "        <td>62</td>\n",
       "        <td>3.69</td>\n",
       "        <td>3.19</td>\n",
       "        <td>20.0</td>\n",
       "        <td>1</td>\n",
       "        <td>0</td>\n",
       "        <td>4</td>\n",
       "        <td>2</td>\n",
       "    </tr>\n",
       "    <tr>\n",
       "        <td>5</td>\n",
       "        <td>17.8</td>\n",
       "        <td>6</td>\n",
       "        <td>167.6</td>\n",
       "        <td>123</td>\n",
       "        <td>3.92</td>\n",
       "        <td>3.44</td>\n",
       "        <td>18.9</td>\n",
       "        <td>1</td>\n",
       "        <td>0</td>\n",
       "        <td>4</td>\n",
       "        <td>4</td>\n",
       "    </tr>\n",
       "    <tr>\n",
       "        <td>19</td>\n",
       "        <td>10.4</td>\n",
       "        <td>8</td>\n",
       "        <td>472.0</td>\n",
       "        <td>205</td>\n",
       "        <td>2.93</td>\n",
       "        <td>5.25</td>\n",
       "        <td>17.98</td>\n",
       "        <td>0</td>\n",
       "        <td>0</td>\n",
       "        <td>3</td>\n",
       "        <td>4</td>\n",
       "    </tr>\n",
       "    <tr>\n",
       "        <td>21</td>\n",
       "        <td>10.4</td>\n",
       "        <td>8</td>\n",
       "        <td>460.0</td>\n",
       "        <td>215</td>\n",
       "        <td>3.0</td>\n",
       "        <td>5.424</td>\n",
       "        <td>17.82</td>\n",
       "        <td>0</td>\n",
       "        <td>0</td>\n",
       "        <td>3</td>\n",
       "        <td>4</td>\n",
       "    </tr>\n",
       "    <tr>\n",
       "        <td>23</td>\n",
       "        <td>14.7</td>\n",
       "        <td>8</td>\n",
       "        <td>440.0</td>\n",
       "        <td>230</td>\n",
       "        <td>3.23</td>\n",
       "        <td>5.345</td>\n",
       "        <td>17.42</td>\n",
       "        <td>0</td>\n",
       "        <td>0</td>\n",
       "        <td>3</td>\n",
       "        <td>4</td>\n",
       "    </tr>\n",
       "    <tr>\n",
       "        <td>1</td>\n",
       "        <td>18.7</td>\n",
       "        <td>8</td>\n",
       "        <td>360.0</td>\n",
       "        <td>175</td>\n",
       "        <td>3.15</td>\n",
       "        <td>3.44</td>\n",
       "        <td>17.02</td>\n",
       "        <td>0</td>\n",
       "        <td>0</td>\n",
       "        <td>3</td>\n",
       "        <td>2</td>\n",
       "    </tr>\n",
       "    <tr>\n",
       "        <td>30</td>\n",
       "        <td>19.2</td>\n",
       "        <td>8</td>\n",
       "        <td>400.0</td>\n",
       "        <td>175</td>\n",
       "        <td>3.08</td>\n",
       "        <td>3.845</td>\n",
       "        <td>17.05</td>\n",
       "        <td>0</td>\n",
       "        <td>0</td>\n",
       "        <td>3</td>\n",
       "        <td>2</td>\n",
       "    </tr>\n",
       "    <tr>\n",
       "        <td>16</td>\n",
       "        <td>19.2</td>\n",
       "        <td>6</td>\n",
       "        <td>167.6</td>\n",
       "        <td>123</td>\n",
       "        <td>3.92</td>\n",
       "        <td>3.44</td>\n",
       "        <td>18.3</td>\n",
       "        <td>1</td>\n",
       "        <td>0</td>\n",
       "        <td>4</td>\n",
       "        <td>4</td>\n",
       "    </tr>\n",
       "    <tr>\n",
       "        <td>14</td>\n",
       "        <td>22.8</td>\n",
       "        <td>4</td>\n",
       "        <td>140.8</td>\n",
       "        <td>95</td>\n",
       "        <td>3.92</td>\n",
       "        <td>3.15</td>\n",
       "        <td>22.9</td>\n",
       "        <td>1</td>\n",
       "        <td>0</td>\n",
       "        <td>4</td>\n",
       "        <td>2</td>\n",
       "    </tr>\n",
       "    <tr>\n",
       "        <td>6</td>\n",
       "        <td>16.4</td>\n",
       "        <td>8</td>\n",
       "        <td>275.8</td>\n",
       "        <td>180</td>\n",
       "        <td>3.078</td>\n",
       "        <td>4.07</td>\n",
       "        <td>17.4</td>\n",
       "        <td>0</td>\n",
       "        <td>0</td>\n",
       "        <td>3</td>\n",
       "        <td>3</td>\n",
       "    </tr>\n",
       "    <tr>\n",
       "        <td>10</td>\n",
       "        <td>15.2</td>\n",
       "        <td>8</td>\n",
       "        <td>275.8</td>\n",
       "        <td>180</td>\n",
       "        <td>3.078</td>\n",
       "        <td>3.78</td>\n",
       "        <td>18.0</td>\n",
       "        <td>0</td>\n",
       "        <td>0</td>\n",
       "        <td>3</td>\n",
       "        <td>3</td>\n",
       "    </tr>\n",
       "    <tr>\n",
       "        <td>8</td>\n",
       "        <td>17.3</td>\n",
       "        <td>8</td>\n",
       "        <td>275.8</td>\n",
       "        <td>180</td>\n",
       "        <td>3.078</td>\n",
       "        <td>3.73</td>\n",
       "        <td>17.6</td>\n",
       "        <td>0</td>\n",
       "        <td>0</td>\n",
       "        <td>3</td>\n",
       "        <td>3</td>\n",
       "    </tr>\n",
       "    <tr>\n",
       "        <td>18</td>\n",
       "        <td>15.2</td>\n",
       "        <td>None</td>\n",
       "        <td>304.0</td>\n",
       "        <td>150</td>\n",
       "        <td>3.15</td>\n",
       "        <td>3.435</td>\n",
       "        <td>17.3</td>\n",
       "        <td>0</td>\n",
       "        <td>0</td>\n",
       "        <td>3</td>\n",
       "        <td>2</td>\n",
       "    </tr>\n",
       "    <tr>\n",
       "        <td>32</td>\n",
       "        <td>21.4</td>\n",
       "        <td>4</td>\n",
       "        <td>121.0</td>\n",
       "        <td>109</td>\n",
       "        <td>4.11</td>\n",
       "        <td>2.78</td>\n",
       "        <td>18.6</td>\n",
       "        <td>1</td>\n",
       "        <td>1</td>\n",
       "        <td>4</td>\n",
       "        <td>2</td>\n",
       "    </tr>\n",
       "    <tr>\n",
       "        <td>26</td>\n",
       "        <td>15.8</td>\n",
       "        <td>8</td>\n",
       "        <td>351.0</td>\n",
       "        <td>264</td>\n",
       "        <td>4.22</td>\n",
       "        <td>3.17</td>\n",
       "        <td>14.5</td>\n",
       "        <td>0</td>\n",
       "        <td>1</td>\n",
       "        <td>5</td>\n",
       "        <td>4</td>\n",
       "    </tr>\n",
       "    <tr>\n",
       "        <td>24</td>\n",
       "        <td>30.4</td>\n",
       "        <td>4</td>\n",
       "        <td>95.14</td>\n",
       "        <td>113</td>\n",
       "        <td>3.77</td>\n",
       "        <td>1.513</td>\n",
       "        <td>16.9</td>\n",
       "        <td>1</td>\n",
       "        <td>1</td>\n",
       "        <td>5</td>\n",
       "        <td>2</td>\n",
       "    </tr>\n",
       "    <tr>\n",
       "        <td>22</td>\n",
       "        <td>26.0</td>\n",
       "        <td>4</td>\n",
       "        <td>120.3</td>\n",
       "        <td>91</td>\n",
       "        <td>4.43</td>\n",
       "        <td>2.14</td>\n",
       "        <td>16.7</td>\n",
       "        <td>0</td>\n",
       "        <td>1</td>\n",
       "        <td>5</td>\n",
       "        <td>2</td>\n",
       "    </tr>\n",
       "    <tr>\n",
       "        <td>20</td>\n",
       "        <td>27.3</td>\n",
       "        <td>4</td>\n",
       "        <td>79.0</td>\n",
       "        <td>66</td>\n",
       "        <td>4.08</td>\n",
       "        <td>1.935</td>\n",
       "        <td>18.9</td>\n",
       "        <td>1</td>\n",
       "        <td>1</td>\n",
       "        <td>4</td>\n",
       "        <td>1</td>\n",
       "    </tr>\n",
       "    <tr>\n",
       "        <td>12</td>\n",
       "        <td>32.4</td>\n",
       "        <td>4</td>\n",
       "        <td>78.7</td>\n",
       "        <td>66</td>\n",
       "        <td>4.08</td>\n",
       "        <td>2.2</td>\n",
       "        <td>19.47</td>\n",
       "        <td>1</td>\n",
       "        <td>1</td>\n",
       "        <td>4</td>\n",
       "        <td>1</td>\n",
       "    </tr>\n",
       "    <tr>\n",
       "        <td>4</td>\n",
       "        <td>21.0</td>\n",
       "        <td>6</td>\n",
       "        <td>160.0</td>\n",
       "        <td>110</td>\n",
       "        <td>3.9</td>\n",
       "        <td>2.875</td>\n",
       "        <td>17.02</td>\n",
       "        <td>0</td>\n",
       "        <td>1</td>\n",
       "        <td>4</td>\n",
       "        <td>4</td>\n",
       "    </tr>\n",
       "    <tr>\n",
       "        <td>2</td>\n",
       "        <td>21.0</td>\n",
       "        <td>6</td>\n",
       "        <td>160.0</td>\n",
       "        <td>110</td>\n",
       "        <td>3.9</td>\n",
       "        <td>2.62</td>\n",
       "        <td>16.46</td>\n",
       "        <td>0</td>\n",
       "        <td>1</td>\n",
       "        <td>4</td>\n",
       "        <td>4</td>\n",
       "    </tr>\n",
       "    <tr>\n",
       "        <td>28</td>\n",
       "        <td>15.0</td>\n",
       "        <td>8</td>\n",
       "        <td>301.0</td>\n",
       "        <td>335</td>\n",
       "        <td>3.54</td>\n",
       "        <td>3.578</td>\n",
       "        <td>14.6</td>\n",
       "        <td>0</td>\n",
       "        <td>1</td>\n",
       "        <td>5</td>\n",
       "        <td>8</td>\n",
       "    </tr>\n",
       "    <tr>\n",
       "        <td>17</td>\n",
       "        <td>33.9</td>\n",
       "        <td>4</td>\n",
       "        <td>71.14</td>\n",
       "        <td>65</td>\n",
       "        <td>4.22</td>\n",
       "        <td>1.835</td>\n",
       "        <td>19.9</td>\n",
       "        <td>1</td>\n",
       "        <td>1</td>\n",
       "        <td>4</td>\n",
       "        <td>1</td>\n",
       "    </tr>\n",
       "    <tr>\n",
       "        <td>15</td>\n",
       "        <td>30.4</td>\n",
       "        <td>4</td>\n",
       "        <td>75.7</td>\n",
       "        <td>52</td>\n",
       "        <td>4.93</td>\n",
       "        <td>1.615</td>\n",
       "        <td>18.52</td>\n",
       "        <td>1</td>\n",
       "        <td>1</td>\n",
       "        <td>4</td>\n",
       "        <td>2</td>\n",
       "    </tr>\n",
       "    <tr>\n",
       "        <td>7</td>\n",
       "        <td>22.8</td>\n",
       "        <td>4</td>\n",
       "        <td>108.0</td>\n",
       "        <td>93</td>\n",
       "        <td>3.85</td>\n",
       "        <td>2.32</td>\n",
       "        <td>18.61</td>\n",
       "        <td>1</td>\n",
       "        <td>1</td>\n",
       "        <td>4</td>\n",
       "        <td>1</td>\n",
       "    </tr>\n",
       "    <tr>\n",
       "        <td>31</td>\n",
       "        <td>19.7</td>\n",
       "        <td>6</td>\n",
       "        <td>145.0</td>\n",
       "        <td>175</td>\n",
       "        <td>3.62</td>\n",
       "        <td>2.77</td>\n",
       "        <td>15.5</td>\n",
       "        <td>0</td>\n",
       "        <td>1</td>\n",
       "        <td>5</td>\n",
       "        <td>6</td>\n",
       "    </tr>\n",
       "</table>"
      ],
      "text/plain": [
       "[(29, 13.3, 8, 350.0, 245, 3.73, 3.84, 15.41, 0, 0, 3, 4),\n",
       " (27, 15.5, 8, 318.0, 150, 2.768, 3.52, 16.87, 0, 0, 3, 2),\n",
       " (25, 21.5, 4, 120.1, 97, 3.7, 2.465, 20.01, 1, 0, 3, 1),\n",
       " (9, 21.4, None, 258.0, 110, 3.08, 3.215, 19.44, 1, 0, 3, 1),\n",
       " (11, 18.1, 6, 225.0, 105, 2.768, 3.46, 20.22, 1, 0, 3, 1),\n",
       " (13, 14.3, 8, 360.0, 245, 3.21, 3.578, 15.84, 0, 0, 3, 4),\n",
       " (3, 24.4, 4, 146.7, 62, 3.69, 3.19, 20.0, 1, 0, 4, 2),\n",
       " (5, 17.8, 6, 167.6, 123, 3.92, 3.44, 18.9, 1, 0, 4, 4),\n",
       " (19, 10.4, 8, 472.0, 205, 2.93, 5.25, 17.98, 0, 0, 3, 4),\n",
       " (21, 10.4, 8, 460.0, 215, 3.0, 5.424, 17.82, 0, 0, 3, 4),\n",
       " (23, 14.7, 8, 440.0, 230, 3.23, 5.345, 17.42, 0, 0, 3, 4),\n",
       " (1, 18.7, 8, 360.0, 175, 3.15, 3.44, 17.02, 0, 0, 3, 2),\n",
       " (30, 19.2, 8, 400.0, 175, 3.08, 3.845, 17.05, 0, 0, 3, 2),\n",
       " (16, 19.2, 6, 167.6, 123, 3.92, 3.44, 18.3, 1, 0, 4, 4),\n",
       " (14, 22.8, 4, 140.8, 95, 3.92, 3.15, 22.9, 1, 0, 4, 2),\n",
       " (6, 16.4, 8, 275.8, 180, 3.078, 4.07, 17.4, 0, 0, 3, 3),\n",
       " (10, 15.2, 8, 275.8, 180, 3.078, 3.78, 18.0, 0, 0, 3, 3),\n",
       " (8, 17.3, 8, 275.8, 180, 3.078, 3.73, 17.6, 0, 0, 3, 3),\n",
       " (18, 15.2, None, 304.0, 150, 3.15, 3.435, 17.3, 0, 0, 3, 2),\n",
       " (32, 21.4, 4, 121.0, 109, 4.11, 2.78, 18.6, 1, 1, 4, 2),\n",
       " (26, 15.8, 8, 351.0, 264, 4.22, 3.17, 14.5, 0, 1, 5, 4),\n",
       " (24, 30.4, 4, 95.14, 113, 3.77, 1.513, 16.9, 1, 1, 5, 2),\n",
       " (22, 26.0, 4, 120.3, 91, 4.43, 2.14, 16.7, 0, 1, 5, 2),\n",
       " (20, 27.3, 4, 79.0, 66, 4.08, 1.935, 18.9, 1, 1, 4, 1),\n",
       " (12, 32.4, 4, 78.7, 66, 4.08, 2.2, 19.47, 1, 1, 4, 1),\n",
       " (4, 21.0, 6, 160.0, 110, 3.9, 2.875, 17.02, 0, 1, 4, 4),\n",
       " (2, 21.0, 6, 160.0, 110, 3.9, 2.62, 16.46, 0, 1, 4, 4),\n",
       " (28, 15.0, 8, 301.0, 335, 3.54, 3.578, 14.6, 0, 1, 5, 8),\n",
       " (17, 33.9, 4, 71.14, 65, 4.22, 1.835, 19.9, 1, 1, 4, 1),\n",
       " (15, 30.4, 4, 75.7, 52, 4.93, 1.615, 18.52, 1, 1, 4, 2),\n",
       " (7, 22.8, 4, 108.0, 93, 3.85, 2.32, 18.61, 1, 1, 4, 1),\n",
       " (31, 19.7, 6, 145.0, 175, 3.62, 2.77, 15.5, 0, 1, 5, 6)]"
      ]
     },
     "execution_count": 93,
     "metadata": {},
     "output_type": "execute_result"
    }
   ],
   "source": [
    "%%sql\n",
    "DROP TABLE IF EXISTS mt_cars;\n",
    "\n",
    "CREATE TABLE mt_cars (\n",
    "    id integer NOT NULL,\n",
    "    mpg double precision,\n",
    "    cyl integer,\n",
    "    disp double precision,\n",
    "    hp integer,\n",
    "    drat double precision,\n",
    "    wt double precision,\n",
    "    qsec double precision,\n",
    "    vs integer,\n",
    "    am integer,\n",
    "    gear integer,\n",
    "    carb integer\n",
    ");\n",
    "\n",
    "INSERT INTO mt_cars VALUES\n",
    "(1,18.7,8,360,175,3.15,3.44,17.02,0,0,3,2),\n",
    "(2,21,6,160,110,3.9,2.62,16.46,0,1,4,4),\n",
    "(3,24.4,4,146.7,62,3.69,3.19,20,1,0,4,2),\n",
    "(4,21,6,160,110,3.9,2.875,17.02,0,1,4,4),\n",
    "(5,17.8,6,167.6,123,3.92,3.44,18.9,1,0,4,4),\n",
    "(6,16.4,8,275.8,180,3.078,4.07,17.4,0,0,3,3),\n",
    "(7,22.8,4,108,93,3.85,2.32,18.61,1,1,4,1),\n",
    "(8,17.3,8,275.8,180,3.078,3.73,17.6,0,0,3,3),\n",
    "(9,21.4,null,258,110,3.08,3.215,19.44,1,0,3,1),\n",
    "(10,15.2,8,275.8,180,3.078,3.78,18,0,0,3,3),\n",
    "(11,18.1,6,225,105,2.768,3.46,20.22,1,0,3,1),\n",
    "(12,32.4,4,78.7,66,4.08,2.20,19.47,1,1,4,1),\n",
    "(13,14.3,8,360,245,3.21,3.578,15.84,0,0,3,4),\n",
    "(14,22.8,4,140.8,95,3.92,3.15,22.9,1,0,4,2),\n",
    "(15,30.4,4,75.7,52,4.93,1.615,18.52,1,1,4,2),\n",
    "(16,19.2,6,167.6,123,3.92,3.44,18.3,1,0,4,4),\n",
    "(17,33.9,4,71.14,65,4.22,1.835,19.9,1,1,4,1),\n",
    "(18,15.2,null,304,150,3.15,3.435,17.3,0,0,3,2),\n",
    "(19,10.4,8,472,205,2.93,5.25,17.98,0,0,3,4),\n",
    "(20,27.3,4,79,66,4.08,1.935,18.9,1,1,4,1),\n",
    "(21,10.4,8,460,215,3,5.424,17.82,0,0,3,4),\n",
    "(22,26,4,120.3,91,4.43,2.14,16.7,0,1,5,2),\n",
    "(23,14.7,8,440,230,3.23,5.345,17.42,0,0,3,4),\n",
    "(24,30.4,4,95.14,113,3.77,1.513,16.9,1,1,5,2),\n",
    "(25,21.5,4,120.1,97,3.70,2.465,20.01,1,0,3,1),\n",
    "(26,15.8,8,351,264,4.22,3.17,14.5,0,1,5,4),\n",
    "(27,15.5,8,318,150,2.768,3.52,16.87,0,0,3,2),\n",
    "(28,15,8,301,335,3.54,3.578,14.6,0,1,5,8),\n",
    "(29,13.3,8,350,245,3.73,3.84,15.41,0,0,3,4),\n",
    "(30,19.2,8,400,175,3.08,3.845,17.05,0,0,3,2),\n",
    "(31,19.7,6,145,175,3.62,2.77,15.5,0,1,5,6),\n",
    "(32,21.4,4,121,109,4.11,2.78,18.6,1,1,4,2);\n",
    "\n",
    "SELECT * FROM mt_cars ORDER BY am;"
   ]
  },
  {
   "cell_type": "markdown",
   "metadata": {},
   "source": [
    "# 2.  Train random forest with grouping and surrogates\n",
    "We train a regression random forest tree with grouping on transmission type (0 = automatic, 1 = manual) and use surrogates for NULL handling:"
   ]
  },
  {
   "cell_type": "code",
   "execution_count": 47,
   "metadata": {},
   "outputs": [
    {
     "name": "stdout",
     "output_type": "stream",
     "text": [
      "Done.\n",
      "1 rows affected.\n",
      "1 rows affected.\n"
     ]
    },
    {
     "data": {
      "text/html": [
       "<table>\n",
       "    <tr>\n",
       "        <th>method</th>\n",
       "        <th>is_classification</th>\n",
       "        <th>source_table</th>\n",
       "        <th>model_table</th>\n",
       "        <th>id_col_name</th>\n",
       "        <th>dependent_varname</th>\n",
       "        <th>independent_varnames</th>\n",
       "        <th>cat_features</th>\n",
       "        <th>con_features</th>\n",
       "        <th>grouping_cols</th>\n",
       "        <th>num_trees</th>\n",
       "        <th>num_random_features</th>\n",
       "        <th>max_tree_depth</th>\n",
       "        <th>min_split</th>\n",
       "        <th>min_bucket</th>\n",
       "        <th>num_splits</th>\n",
       "        <th>verbose</th>\n",
       "        <th>importance</th>\n",
       "        <th>num_permutations</th>\n",
       "        <th>num_all_groups</th>\n",
       "        <th>num_failed_groups</th>\n",
       "        <th>total_rows_processed</th>\n",
       "        <th>total_rows_skipped</th>\n",
       "        <th>dependent_var_levels</th>\n",
       "        <th>dependent_var_type</th>\n",
       "        <th>independent_var_types</th>\n",
       "        <th>null_proxy</th>\n",
       "    </tr>\n",
       "    <tr>\n",
       "        <td>forest_train</td>\n",
       "        <td>False</td>\n",
       "        <td>mt_cars</td>\n",
       "        <td>mt_cars_output</td>\n",
       "        <td>id</td>\n",
       "        <td>mpg</td>\n",
       "        <td>vs,cyl,disp,qsec,wt</td>\n",
       "        <td>vs,cyl</td>\n",
       "        <td>disp,qsec,wt</td>\n",
       "        <td>am</td>\n",
       "        <td>10</td>\n",
       "        <td>2</td>\n",
       "        <td>10</td>\n",
       "        <td>8</td>\n",
       "        <td>3</td>\n",
       "        <td>10</td>\n",
       "        <td>False</td>\n",
       "        <td>True</td>\n",
       "        <td>1</td>\n",
       "        <td>2</td>\n",
       "        <td>0</td>\n",
       "        <td>32</td>\n",
       "        <td>0</td>\n",
       "        <td>None</td>\n",
       "        <td>double precision</td>\n",
       "        <td>integer, integer, double precision, double precision, double precision</td>\n",
       "        <td>None</td>\n",
       "    </tr>\n",
       "</table>"
      ],
      "text/plain": [
       "[(u'forest_train', False, u'mt_cars', u'mt_cars_output', u'id', u'mpg', u'vs,cyl,disp,qsec,wt', u'vs,cyl', u'disp,qsec,wt', u'am', 10, 2, 10, 8, 3, 10, False, True, 1, 2, 0, 32, 0, None, u'double precision', u'integer, integer, double precision, double precision, double precision', u'None')]"
      ]
     },
     "execution_count": 47,
     "metadata": {},
     "output_type": "execute_result"
    }
   ],
   "source": [
    "%%sql\n",
    "DROP TABLE IF EXISTS mt_cars_output, mt_cars_output_group, mt_cars_output_summary;\n",
    "\n",
    "SELECT madlib.forest_train('mt_cars',         -- source table\n",
    "                           'mt_cars_output',  -- output model table\n",
    "                           'id',              -- id column\n",
    "                           'mpg',             -- response\n",
    "                           '*',               -- features\n",
    "                           'id, hp, drat, am, gear, carb',  -- exclude columns\n",
    "                           'am',              -- grouping columns\n",
    "                           10::integer,       -- number of trees\n",
    "                           2::integer,        -- number of random features\n",
    "                           TRUE::boolean,     -- variable importance\n",
    "                           1,                 -- num_permutations\n",
    "                           10,                -- max depth\n",
    "                           8,                 -- min split\n",
    "                           3,                 -- min bucket\n",
    "                           10,                -- number of splits per continuous variable\n",
    "                           'max_surrogates=2' -- NULL handling\n",
    "                           );\n",
    "\n",
    "SELECT * FROM mt_cars_output_summary;"
   ]
  },
  {
   "cell_type": "markdown",
   "metadata": {},
   "source": [
    "Review the group table to see variable importance by group:"
   ]
  },
  {
   "cell_type": "code",
   "execution_count": 94,
   "metadata": {},
   "outputs": [
    {
     "name": "stdout",
     "output_type": "stream",
     "text": [
      "2 rows affected.\n"
     ]
    },
    {
     "data": {
      "text/html": [
       "<table>\n",
       "    <tr>\n",
       "        <th>gid</th>\n",
       "        <th>am</th>\n",
       "        <th>success</th>\n",
       "        <th>cat_n_levels</th>\n",
       "        <th>cat_levels_in_text</th>\n",
       "        <th>oob_error</th>\n",
       "        <th>cat_var_importance</th>\n",
       "        <th>con_var_importance</th>\n",
       "    </tr>\n",
       "    <tr>\n",
       "        <td>1</td>\n",
       "        <td>0</td>\n",
       "        <td>True</td>\n",
       "        <td>[2, 3]</td>\n",
       "        <td>[u'0', u'1', u'4', u'6', u'8']</td>\n",
       "        <td>8.17829016874</td>\n",
       "        <td>[3.22641121031746, 1.76153333333333]</td>\n",
       "        <td>[2.79724814756672, 0.406043843537415, 0.859395694444444]</td>\n",
       "    </tr>\n",
       "    <tr>\n",
       "        <td>2</td>\n",
       "        <td>1</td>\n",
       "        <td>True</td>\n",
       "        <td>[2, 3]</td>\n",
       "        <td>[u'0', u'1', u'4', u'6', u'8']</td>\n",
       "        <td>17.8365844792</td>\n",
       "        <td>[4.54215555555555, 14.8158666666667]</td>\n",
       "        <td>[18.1798458772676, 0.0, 4.68570643650794]</td>\n",
       "    </tr>\n",
       "</table>"
      ],
      "text/plain": [
       "[(1, 0, True, [2, 3], [u'0', u'1', u'4', u'6', u'8'], 8.17829016873547, [3.22641121031746, 1.76153333333333], [2.79724814756672, 0.406043843537415, 0.859395694444444]),\n",
       " (2, 1, True, [2, 3], [u'0', u'1', u'4', u'6', u'8'], 17.8365844792333, [4.54215555555555, 14.8158666666667], [18.1798458772676, 0.0, 4.68570643650794])]"
      ]
     },
     "execution_count": 94,
     "metadata": {},
     "output_type": "execute_result"
    }
   ],
   "source": [
    "%%sql\n",
    "SELECT * FROM mt_cars_output_group ORDER BY gid;"
   ]
  },
  {
   "cell_type": "markdown",
   "metadata": {},
   "source": [
    "# 3. Predict\n",
    "\n",
    "Predict regression output for the same data and compare with original:"
   ]
  },
  {
   "cell_type": "code",
   "execution_count": 95,
   "metadata": {},
   "outputs": [
    {
     "name": "stdout",
     "output_type": "stream",
     "text": [
      "Done.\n",
      "1 rows affected.\n",
      "32 rows affected.\n"
     ]
    },
    {
     "data": {
      "text/html": [
       "<table>\n",
       "    <tr>\n",
       "        <th>am</th>\n",
       "        <th>id</th>\n",
       "        <th>mpg</th>\n",
       "        <th>estimated_mpg</th>\n",
       "        <th>delta</th>\n",
       "    </tr>\n",
       "    <tr>\n",
       "        <td>0</td>\n",
       "        <td>1</td>\n",
       "        <td>18.7</td>\n",
       "        <td>15.90450999</td>\n",
       "        <td>2.79549000999</td>\n",
       "    </tr>\n",
       "    <tr>\n",
       "        <td>0</td>\n",
       "        <td>3</td>\n",
       "        <td>24.4</td>\n",
       "        <td>20.9345649351</td>\n",
       "        <td>3.46543506494</td>\n",
       "    </tr>\n",
       "    <tr>\n",
       "        <td>0</td>\n",
       "        <td>5</td>\n",
       "        <td>17.8</td>\n",
       "        <td>18.8651601732</td>\n",
       "        <td>-1.06516017316</td>\n",
       "    </tr>\n",
       "    <tr>\n",
       "        <td>0</td>\n",
       "        <td>6</td>\n",
       "        <td>16.4</td>\n",
       "        <td>15.5128433233</td>\n",
       "        <td>0.887156676657</td>\n",
       "    </tr>\n",
       "    <tr>\n",
       "        <td>0</td>\n",
       "        <td>8</td>\n",
       "        <td>17.3</td>\n",
       "        <td>14.7712957043</td>\n",
       "        <td>2.5287042957</td>\n",
       "    </tr>\n",
       "    <tr>\n",
       "        <td>0</td>\n",
       "        <td>9</td>\n",
       "        <td>21.4</td>\n",
       "        <td>19.2151290376</td>\n",
       "        <td>2.18487096237</td>\n",
       "    </tr>\n",
       "    <tr>\n",
       "        <td>0</td>\n",
       "        <td>10</td>\n",
       "        <td>15.2</td>\n",
       "        <td>14.7712957043</td>\n",
       "        <td>0.428704295704</td>\n",
       "    </tr>\n",
       "    <tr>\n",
       "        <td>0</td>\n",
       "        <td>11</td>\n",
       "        <td>18.1</td>\n",
       "        <td>18.4710576091</td>\n",
       "        <td>-0.371057609058</td>\n",
       "    </tr>\n",
       "    <tr>\n",
       "        <td>0</td>\n",
       "        <td>13</td>\n",
       "        <td>14.3</td>\n",
       "        <td>15.48550999</td>\n",
       "        <td>-1.18550999001</td>\n",
       "    </tr>\n",
       "    <tr>\n",
       "        <td>0</td>\n",
       "        <td>14</td>\n",
       "        <td>22.8</td>\n",
       "        <td>20.9345649351</td>\n",
       "        <td>1.86543506494</td>\n",
       "    </tr>\n",
       "    <tr>\n",
       "        <td>0</td>\n",
       "        <td>16</td>\n",
       "        <td>19.2</td>\n",
       "        <td>18.8651601732</td>\n",
       "        <td>0.33483982684</td>\n",
       "    </tr>\n",
       "    <tr>\n",
       "        <td>0</td>\n",
       "        <td>18</td>\n",
       "        <td>15.2</td>\n",
       "        <td>15.5603433233</td>\n",
       "        <td>-0.360343323343</td>\n",
       "    </tr>\n",
       "    <tr>\n",
       "        <td>0</td>\n",
       "        <td>19</td>\n",
       "        <td>10.4</td>\n",
       "        <td>14.2512957043</td>\n",
       "        <td>-3.8512957043</td>\n",
       "    </tr>\n",
       "    <tr>\n",
       "        <td>0</td>\n",
       "        <td>21</td>\n",
       "        <td>10.4</td>\n",
       "        <td>14.2512957043</td>\n",
       "        <td>-3.8512957043</td>\n",
       "    </tr>\n",
       "    <tr>\n",
       "        <td>0</td>\n",
       "        <td>23</td>\n",
       "        <td>14.7</td>\n",
       "        <td>15.0068433233</td>\n",
       "        <td>-0.306843323343</td>\n",
       "    </tr>\n",
       "    <tr>\n",
       "        <td>0</td>\n",
       "        <td>25</td>\n",
       "        <td>21.5</td>\n",
       "        <td>20.9345649351</td>\n",
       "        <td>0.565435064935</td>\n",
       "    </tr>\n",
       "    <tr>\n",
       "        <td>0</td>\n",
       "        <td>27</td>\n",
       "        <td>15.5</td>\n",
       "        <td>15.48550999</td>\n",
       "        <td>0.01449000999</td>\n",
       "    </tr>\n",
       "    <tr>\n",
       "        <td>0</td>\n",
       "        <td>29</td>\n",
       "        <td>13.3</td>\n",
       "        <td>15.48550999</td>\n",
       "        <td>-2.18550999001</td>\n",
       "    </tr>\n",
       "    <tr>\n",
       "        <td>0</td>\n",
       "        <td>30</td>\n",
       "        <td>19.2</td>\n",
       "        <td>15.89100999</td>\n",
       "        <td>3.30899000999</td>\n",
       "    </tr>\n",
       "    <tr>\n",
       "        <td>1</td>\n",
       "        <td>2</td>\n",
       "        <td>21.0</td>\n",
       "        <td>20.2422380952</td>\n",
       "        <td>0.757761904762</td>\n",
       "    </tr>\n",
       "    <tr>\n",
       "        <td>1</td>\n",
       "        <td>4</td>\n",
       "        <td>21.0</td>\n",
       "        <td>19.7342380952</td>\n",
       "        <td>1.26576190476</td>\n",
       "    </tr>\n",
       "    <tr>\n",
       "        <td>1</td>\n",
       "        <td>7</td>\n",
       "        <td>22.8</td>\n",
       "        <td>24.0090714286</td>\n",
       "        <td>-1.20907142857</td>\n",
       "    </tr>\n",
       "    <tr>\n",
       "        <td>1</td>\n",
       "        <td>12</td>\n",
       "        <td>32.4</td>\n",
       "        <td>28.1016666667</td>\n",
       "        <td>4.29833333333</td>\n",
       "    </tr>\n",
       "    <tr>\n",
       "        <td>1</td>\n",
       "        <td>15</td>\n",
       "        <td>30.4</td>\n",
       "        <td>29.4683333333</td>\n",
       "        <td>0.931666666667</td>\n",
       "    </tr>\n",
       "    <tr>\n",
       "        <td>1</td>\n",
       "        <td>17</td>\n",
       "        <td>33.9</td>\n",
       "        <td>29.1316666667</td>\n",
       "        <td>4.76833333333</td>\n",
       "    </tr>\n",
       "    <tr>\n",
       "        <td>1</td>\n",
       "        <td>20</td>\n",
       "        <td>27.3</td>\n",
       "        <td>28.7541666667</td>\n",
       "        <td>-1.45416666667</td>\n",
       "    </tr>\n",
       "    <tr>\n",
       "        <td>1</td>\n",
       "        <td>22</td>\n",
       "        <td>26.0</td>\n",
       "        <td>24.5432380952</td>\n",
       "        <td>1.45676190476</td>\n",
       "    </tr>\n",
       "    <tr>\n",
       "        <td>1</td>\n",
       "        <td>24</td>\n",
       "        <td>30.4</td>\n",
       "        <td>28.7883333333</td>\n",
       "        <td>1.61166666667</td>\n",
       "    </tr>\n",
       "    <tr>\n",
       "        <td>1</td>\n",
       "        <td>26</td>\n",
       "        <td>15.8</td>\n",
       "        <td>19.1117380952</td>\n",
       "        <td>-3.31173809524</td>\n",
       "    </tr>\n",
       "    <tr>\n",
       "        <td>1</td>\n",
       "        <td>28</td>\n",
       "        <td>15.0</td>\n",
       "        <td>19.1117380952</td>\n",
       "        <td>-4.11173809524</td>\n",
       "    </tr>\n",
       "    <tr>\n",
       "        <td>1</td>\n",
       "        <td>31</td>\n",
       "        <td>19.7</td>\n",
       "        <td>19.6197380952</td>\n",
       "        <td>0.0802619047619</td>\n",
       "    </tr>\n",
       "    <tr>\n",
       "        <td>1</td>\n",
       "        <td>32</td>\n",
       "        <td>21.4</td>\n",
       "        <td>22.7215714286</td>\n",
       "        <td>-1.32157142857</td>\n",
       "    </tr>\n",
       "</table>"
      ],
      "text/plain": [
       "[(0, 1, 18.7, 15.90450999001, 2.79549000999001),\n",
       " (0, 3, 24.4, 20.9345649350649, 3.46543506493506),\n",
       " (0, 5, 17.8, 18.8651601731602, -1.06516017316017),\n",
       " (0, 6, 16.4, 15.5128433233433, 0.887156676656677),\n",
       " (0, 8, 17.3, 14.7712957042957, 2.5287042957043),\n",
       " (0, 9, 21.4, 19.215129037629, 2.18487096237096),\n",
       " (0, 10, 15.2, 14.7712957042957, 0.428704295704298),\n",
       " (0, 11, 18.1, 18.4710576090576, -0.371057609057605),\n",
       " (0, 13, 14.3, 15.48550999001, -1.18550999000999),\n",
       " (0, 14, 22.8, 20.9345649350649, 1.86543506493507),\n",
       " (0, 16, 19.2, 18.8651601731602, 0.334839826839829),\n",
       " (0, 18, 15.2, 15.5603433233433, -0.360343323343322),\n",
       " (0, 19, 10.4, 14.2512957042957, -3.8512957042957),\n",
       " (0, 21, 10.4, 14.2512957042957, -3.8512957042957),\n",
       " (0, 23, 14.7, 15.0068433233433, -0.306843323343323),\n",
       " (0, 25, 21.5, 20.9345649350649, 0.565435064935066),\n",
       " (0, 27, 15.5, 15.48550999001, 0.0144900099900092),\n",
       " (0, 29, 13.3, 15.48550999001, -2.18550999000999),\n",
       " (0, 30, 19.2, 15.89100999001, 3.30899000999001),\n",
       " (1, 2, 21.0, 20.2422380952381, 0.757761904761907),\n",
       " (1, 4, 21.0, 19.7342380952381, 1.2657619047619),\n",
       " (1, 7, 22.8, 24.0090714285714, -1.20907142857142),\n",
       " (1, 12, 32.4, 28.1016666666667, 4.29833333333333),\n",
       " (1, 15, 30.4, 29.4683333333333, 0.931666666666665),\n",
       " (1, 17, 33.9, 29.1316666666667, 4.76833333333333),\n",
       " (1, 20, 27.3, 28.7541666666667, -1.45416666666666),\n",
       " (1, 22, 26.0, 24.5432380952381, 1.45676190476191),\n",
       " (1, 24, 30.4, 28.7883333333333, 1.61166666666666),\n",
       " (1, 26, 15.8, 19.1117380952381, -3.3117380952381),\n",
       " (1, 28, 15.0, 19.1117380952381, -4.1117380952381),\n",
       " (1, 31, 19.7, 19.6197380952381, 0.0802619047619046),\n",
       " (1, 32, 21.4, 22.7215714285714, -1.32157142857143)]"
      ]
     },
     "execution_count": 95,
     "metadata": {},
     "output_type": "execute_result"
    }
   ],
   "source": [
    "%%sql\n",
    "DROP TABLE IF EXISTS prediction_results;\n",
    "\n",
    "SELECT madlib.forest_predict('mt_cars_output',\n",
    "                             'mt_cars',\n",
    "                             'prediction_results',\n",
    "                             'response');\n",
    "\n",
    "SELECT s.am, s.id, mpg, estimated_mpg, mpg-estimated_mpg as delta FROM prediction_results p, \n",
    "mt_cars s WHERE s.id = p.id ORDER BY s.am, s.id;"
   ]
  },
  {
   "cell_type": "markdown",
   "metadata": {},
   "source": [
    "# 4.  View tree"
   ]
  },
  {
   "cell_type": "code",
   "execution_count": 96,
   "metadata": {},
   "outputs": [
    {
     "name": "stdout",
     "output_type": "stream",
     "text": [
      "1 rows affected.\n"
     ]
    },
    {
     "data": {
      "text/html": [
       "<table>\n",
       "    <tr>\n",
       "        <th>get_tree</th>\n",
       "    </tr>\n",
       "    <tr>\n",
       "        <td>digraph \"Regression tree for mt_cars\" {<br>\"0\" [label=\"vs &lt;= 0\", shape=ellipse];<br>\"0\" -&gt; \"1\"[label=\"yes\"];<br>\"1\" [label=\"15.0083\",shape=box];<br>\"0\" -&gt; \"2\"[label=\"no\"];<br>\"2\" [label=\"wt &lt;= 3.215\", shape=ellipse];<br>\"2\" -&gt; \"5\"[label=\"yes\"];<br>\"5\" [label=\"21.4667\",shape=box];<br>\"2\" -&gt; \"6\"[label=\"no\"];<br>\"6\" [label=\"18.1333\",shape=box];<br><br>} //---end of digraph--------- </td>\n",
       "    </tr>\n",
       "</table>"
      ],
      "text/plain": [
       "[(u'digraph \"Regression tree for mt_cars\" {\\n\"0\" [label=\"vs <= 0\", shape=ellipse];\\n\"0\" -> \"1\"[label=\"yes\"];\\n\"1\" [label=\"15.0083\",shape=box];\\n\"0\" -> \"2\"[label=\"no\"];\\n\"2\" [label=\"wt <= 3.215\", shape=ellipse];\\n\"2\" -> \"5\"[label=\"yes\"];\\n\"5\" [label=\"21.4667\",shape=box];\\n\"2\" -> \"6\"[label=\"no\"];\\n\"6\" [label=\"18.1333\",shape=box];\\n\\n} //---end of digraph--------- ',)]"
      ]
     },
     "execution_count": 96,
     "metadata": {},
     "output_type": "execute_result"
    }
   ],
   "source": [
    "%%sql\n",
    "SELECT madlib.get_tree('mt_cars_output',1,7);"
   ]
  },
  {
   "cell_type": "code",
   "execution_count": 98,
   "metadata": {},
   "outputs": [
    {
     "name": "stdout",
     "output_type": "stream",
     "text": [
      "1 rows affected.\n",
      "True\n"
     ]
    },
    {
     "data": {
      "image/png": "[encoded data removed]",
      "text/plain": [
       "<IPython.core.display.Image object>"
      ]
     },
     "execution_count": 98,
     "metadata": {},
     "output_type": "execute_result"
    }
   ],
   "source": [
    "# set paths for your environment\n",
    "from os.path import expanduser\n",
    "home = expanduser(\"/Users/fmcquillan/Documents/Product/MADlib/Demos/1 dot 14 demos\")\n",
    "\n",
    "dot_output = %sql select madlib.get_tree('mt_cars_output',1,7, TRUE, TRUE);\n",
    "with open('tree_out.dot', 'w') as f: \n",
    "     f.write(dot_output[0][0])\n",
    "    \n",
    "import pygraphviz as pgv\n",
    "from IPython.display import Image\n",
    "graph = pgv.AGraph(\"tree_out.dot\")\n",
    "print bool(graph)\n",
    "graph.draw('tree_out.png',prog='dot')\n",
    "Image('tree_out.png')"
   ]
  },
  {
   "cell_type": "markdown",
   "metadata": {},
   "source": [
    "Display the surrogate variables that are used to compute the split for each node when the primary variable is NULL:"
   ]
  },
  {
   "cell_type": "code",
   "execution_count": 99,
   "metadata": {},
   "outputs": [
    {
     "name": "stdout",
     "output_type": "stream",
     "text": [
      "1 rows affected.\n"
     ]
    },
    {
     "data": {
      "text/html": [
       "<table>\n",
       "    <tr>\n",
       "        <th>get_tree_surr</th>\n",
       "    </tr>\n",
       "    <tr>\n",
       "        <td><br>  -------------------------------------<br>      Surrogates for internal nodes<br>  -------------------------------------<br>        <br>(0) vs in {0}<br>     1: disp &gt; 258    [common rows = 21]<br>     2: wt &gt; 3.46    [common rows = 20]<br>     [Majority branch = 12 ]<br><br>(2) wt &lt;= 3.215<br>     1: cyl in {4}    [common rows = 8]<br>     2: disp &lt;= 120.1    [common rows = 8]<br>     [Majority branch = 3 ]<br><br></td>\n",
       "    </tr>\n",
       "</table>"
      ],
      "text/plain": [
       "[(u'\\n  -------------------------------------\\n      Surrogates for internal nodes\\n  -------------------------------------\\n        \\n(0) vs in {0}\\n     1: disp > 258    [common rows = 21]\\n     2: wt > 3.46    [common rows = 20]\\n     [Majority branch = 12 ]\\n\\n(2) wt <= 3.215\\n     1: cyl in {4}    [common rows = 8]\\n     2: disp <= 120.1    [common rows = 8]\\n     [Majority branch = 3 ]\\n\\n',)]"
      ]
     },
     "execution_count": 99,
     "metadata": {},
     "output_type": "execute_result"
    }
   ],
   "source": [
    "%%sql\n",
    "SELECT madlib.get_tree_surr('mt_cars_output',1,7);"
   ]
  },
  {
   "cell_type": "markdown",
   "metadata": {},
   "source": [
    "# NULL handling example"
   ]
  },
  {
   "cell_type": "markdown",
   "metadata": {},
   "source": [
    "# 1. Load data\n",
    "Create toy example to illustrate null-as-category handling for categorical features:"
   ]
  },
  {
   "cell_type": "code",
   "execution_count": 100,
   "metadata": {},
   "outputs": [
    {
     "name": "stdout",
     "output_type": "stream",
     "text": [
      "Done.\n",
      "Done.\n",
      "4 rows affected.\n",
      "4 rows affected.\n"
     ]
    },
    {
     "data": {
      "text/html": [
       "<table>\n",
       "    <tr>\n",
       "        <th>id</th>\n",
       "        <th>country</th>\n",
       "        <th>city</th>\n",
       "        <th>weather</th>\n",
       "        <th>response</th>\n",
       "    </tr>\n",
       "    <tr>\n",
       "        <td>1</td>\n",
       "        <td>None</td>\n",
       "        <td>None</td>\n",
       "        <td>None</td>\n",
       "        <td>a</td>\n",
       "    </tr>\n",
       "    <tr>\n",
       "        <td>2</td>\n",
       "        <td>US</td>\n",
       "        <td>None</td>\n",
       "        <td>None</td>\n",
       "        <td>b</td>\n",
       "    </tr>\n",
       "    <tr>\n",
       "        <td>3</td>\n",
       "        <td>US</td>\n",
       "        <td>NY</td>\n",
       "        <td>None</td>\n",
       "        <td>c</td>\n",
       "    </tr>\n",
       "    <tr>\n",
       "        <td>4</td>\n",
       "        <td>US</td>\n",
       "        <td>NY</td>\n",
       "        <td>rainy</td>\n",
       "        <td>d</td>\n",
       "    </tr>\n",
       "</table>"
      ],
      "text/plain": [
       "[(1, None, None, None, u'a'),\n",
       " (2, u'US', None, None, u'b'),\n",
       " (3, u'US', u'NY', None, u'c'),\n",
       " (4, u'US', u'NY', u'rainy', u'd')]"
      ]
     },
     "execution_count": 100,
     "metadata": {},
     "output_type": "execute_result"
    }
   ],
   "source": [
    "%%sql\n",
    "DROP TABLE IF EXISTS null_handling_example;\n",
    "\n",
    "CREATE TABLE null_handling_example (\n",
    "    id integer,\n",
    "    country text,\n",
    "    city text,\n",
    "    weather text,\n",
    "    response text\n",
    ");\n",
    " \n",
    "INSERT INTO null_handling_example VALUES\n",
    "(1,null,null,null,'a'),\n",
    "(2,'US',null,null,'b'),\n",
    "(3,'US','NY',null,'c'),\n",
    "(4,'US','NY','rainy','d');\n",
    " \n",
    "SELECT * FROM null_handling_example ORDER BY id;"
   ]
  },
  {
   "cell_type": "markdown",
   "metadata": {},
   "source": [
    "# 2. Train random forest\n",
    "Note that '__NULL__' is set as a valid level for the categorical features country, weather and city:"
   ]
  },
  {
   "cell_type": "code",
   "execution_count": 101,
   "metadata": {},
   "outputs": [
    {
     "name": "stdout",
     "output_type": "stream",
     "text": [
      "Done.\n",
      "1 rows affected.\n",
      "1 rows affected.\n"
     ]
    },
    {
     "data": {
      "text/html": [
       "<table>\n",
       "    <tr>\n",
       "        <th>method</th>\n",
       "        <th>is_classification</th>\n",
       "        <th>source_table</th>\n",
       "        <th>model_table</th>\n",
       "        <th>id_col_name</th>\n",
       "        <th>dependent_varname</th>\n",
       "        <th>independent_varnames</th>\n",
       "        <th>cat_features</th>\n",
       "        <th>con_features</th>\n",
       "        <th>grouping_cols</th>\n",
       "        <th>num_trees</th>\n",
       "        <th>num_random_features</th>\n",
       "        <th>max_tree_depth</th>\n",
       "        <th>min_split</th>\n",
       "        <th>min_bucket</th>\n",
       "        <th>num_splits</th>\n",
       "        <th>verbose</th>\n",
       "        <th>importance</th>\n",
       "        <th>num_permutations</th>\n",
       "        <th>num_all_groups</th>\n",
       "        <th>num_failed_groups</th>\n",
       "        <th>total_rows_processed</th>\n",
       "        <th>total_rows_skipped</th>\n",
       "        <th>dependent_var_levels</th>\n",
       "        <th>dependent_var_type</th>\n",
       "        <th>independent_var_types</th>\n",
       "        <th>null_proxy</th>\n",
       "    </tr>\n",
       "    <tr>\n",
       "        <td>forest_train</td>\n",
       "        <td>True</td>\n",
       "        <td>null_handling_example</td>\n",
       "        <td>train_output</td>\n",
       "        <td>id</td>\n",
       "        <td>response</td>\n",
       "        <td>country,weather,city</td>\n",
       "        <td>country,weather,city</td>\n",
       "        <td></td>\n",
       "        <td>None</td>\n",
       "        <td>10</td>\n",
       "        <td>2</td>\n",
       "        <td>3</td>\n",
       "        <td>2</td>\n",
       "        <td>1</td>\n",
       "        <td>3</td>\n",
       "        <td>False</td>\n",
       "        <td>True</td>\n",
       "        <td>1</td>\n",
       "        <td>1</td>\n",
       "        <td>0</td>\n",
       "        <td>4</td>\n",
       "        <td>0</td>\n",
       "        <td>\"a\",\"b\",\"c\",\"d\"</td>\n",
       "        <td>text</td>\n",
       "        <td>text, text, text</td>\n",
       "        <td>__NULL__</td>\n",
       "    </tr>\n",
       "</table>"
      ],
      "text/plain": [
       "[(u'forest_train', True, u'null_handling_example', u'train_output', u'id', u'response', u'country,weather,city', u'country,weather,city', u'', None, 10, 2, 3, 2, 1, 3, False, True, 1, 1, 0, 4, 0, u'\"a\",\"b\",\"c\",\"d\"', u'text', u'text, text, text', u'__NULL__')]"
      ]
     },
     "execution_count": 101,
     "metadata": {},
     "output_type": "execute_result"
    }
   ],
   "source": [
    "%%sql\n",
    "DROP TABLE IF EXISTS train_output, train_output_group, train_output_summary;\n",
    "\n",
    "SELECT madlib.forest_train('null_handling_example',  -- source table\n",
    "                           'train_output',    -- output model table\n",
    "                           'id',              -- id column\n",
    "                           'response',        -- response\n",
    "                           'country, weather, city',   -- features\n",
    "                           NULL,              -- exclude columns\n",
    "                           NULL,              -- grouping columns\n",
    "                           10::integer,        -- number of trees\n",
    "                           2::integer,        -- number of random features\n",
    "                           TRUE::boolean,     -- variable importance\n",
    "                           1::integer,        -- num_permutations\n",
    "                           3::integer,        -- max depth\n",
    "                           2::integer,        -- min split\n",
    "                           1::integer,        -- min bucket\n",
    "                           3::integer,        -- number of splits per continuous variable\n",
    "                           'null_as_category=TRUE'\n",
    "                           );\n",
    "\n",
    "SELECT * FROM train_output_summary;"
   ]
  },
  {
   "cell_type": "code",
   "execution_count": 102,
   "metadata": {},
   "outputs": [
    {
     "name": "stdout",
     "output_type": "stream",
     "text": [
      "1 rows affected.\n"
     ]
    },
    {
     "data": {
      "text/html": [
       "<table>\n",
       "    <tr>\n",
       "        <th>gid</th>\n",
       "        <th>success</th>\n",
       "        <th>cat_n_levels</th>\n",
       "        <th>cat_levels_in_text</th>\n",
       "        <th>oob_error</th>\n",
       "        <th>cat_var_importance</th>\n",
       "        <th>con_var_importance</th>\n",
       "    </tr>\n",
       "    <tr>\n",
       "        <td>1</td>\n",
       "        <td>True</td>\n",
       "        <td>[2, 2, 2]</td>\n",
       "        <td>[u'US', u'__NULL__', u'rainy', u'__NULL__', u'NY', u'__NULL__']</td>\n",
       "        <td>1.00000000000000000000</td>\n",
       "        <td>[0.0, 0.0, 0.0]</td>\n",
       "        <td>None</td>\n",
       "    </tr>\n",
       "</table>"
      ],
      "text/plain": [
       "[(1, True, [2, 2, 2], [u'US', u'__NULL__', u'rainy', u'__NULL__', u'NY', u'__NULL__'], Decimal('1.00000000000000000000'), [0.0, 0.0, 0.0], None)]"
      ]
     },
     "execution_count": 102,
     "metadata": {},
     "output_type": "execute_result"
    }
   ],
   "source": [
    "%%sql\n",
    "SELECT * FROM train_output_group;"
   ]
  },
  {
   "cell_type": "markdown",
   "metadata": {},
   "source": [
    "# 3. Predict\n",
    "\n",
    "Predict for data not previously seen by assuming NULL value as the default.  "
   ]
  },
  {
   "cell_type": "code",
   "execution_count": 103,
   "metadata": {},
   "outputs": [
    {
     "name": "stdout",
     "output_type": "stream",
     "text": [
      "Done.\n",
      "Done.\n",
      "4 rows affected.\n",
      "Done.\n",
      "1 rows affected.\n",
      "4 rows affected.\n"
     ]
    },
    {
     "data": {
      "text/html": [
       "<table>\n",
       "    <tr>\n",
       "        <th>id</th>\n",
       "        <th>expected_response</th>\n",
       "        <th>estimated_response</th>\n",
       "    </tr>\n",
       "    <tr>\n",
       "        <td>1</td>\n",
       "        <td>a</td>\n",
       "        <td>a</td>\n",
       "    </tr>\n",
       "    <tr>\n",
       "        <td>2</td>\n",
       "        <td>b</td>\n",
       "        <td>b</td>\n",
       "    </tr>\n",
       "    <tr>\n",
       "        <td>3</td>\n",
       "        <td>c</td>\n",
       "        <td>c</td>\n",
       "    </tr>\n",
       "    <tr>\n",
       "        <td>4</td>\n",
       "        <td>d</td>\n",
       "        <td>d</td>\n",
       "    </tr>\n",
       "</table>"
      ],
      "text/plain": [
       "[(1, u'a', u'a'), (2, u'b', u'b'), (3, u'c', u'c'), (4, u'd', u'd')]"
      ]
     },
     "execution_count": 103,
     "metadata": {},
     "output_type": "execute_result"
    }
   ],
   "source": [
    "%%sql\n",
    "DROP TABLE IF EXISTS table_test;\n",
    "\n",
    "CREATE TABLE table_test (\n",
    "    id integer,\n",
    "    country text,\n",
    "    city text,\n",
    "    weather text,\n",
    "    expected_response text\n",
    ");\n",
    "\n",
    "INSERT INTO table_test VALUES\n",
    "(1,'IN','MUM','cloudy','a'),\n",
    "(2,'US','HOU','humid','b'),\n",
    "(3,'US','NY','sunny','c'),\n",
    "(4,'US','NY','rainy','d');\n",
    " \n",
    "DROP TABLE IF EXISTS prediction_results;\n",
    "\n",
    "SELECT madlib.forest_predict('train_output',\n",
    "                             'table_test',\n",
    "                             'prediction_results',\n",
    "                             'response');\n",
    "\n",
    "SELECT s.id, expected_response, estimated_response\n",
    "FROM prediction_results p, table_test s\n",
    "WHERE s.id = p.id ORDER BY id;"
   ]
  },
  {
   "cell_type": "markdown",
   "metadata": {},
   "source": [
    "There is only training data for country 'US' so the response for country 'IN' is 'a' as expected, corresponding to a NULL (not 'US') country level.  \n",
    "\n",
    "Likewise, any city in the 'US' that is not 'NY' will predict response 'b' as expected, corresponding to a NULL (not 'NY') city level. "
   ]
  }
 ],
 "metadata": {
  "kernelspec": {
   "display_name": "Python 2",
   "language": "python",
   "name": "python2"
  },
  "language_info": {
   "codemirror_mode": {
    "name": "ipython",
    "version": 2
   },
   "file_extension": ".py",
   "mimetype": "text/x-python",
   "name": "python",
   "nbconvert_exporter": "python",
   "pygments_lexer": "ipython2",
   "version": "2.7.12"
  }
 },
 "nbformat": 4,
 "nbformat_minor": 1
}
